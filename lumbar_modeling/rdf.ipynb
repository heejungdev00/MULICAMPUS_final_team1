{
 "cells": [
  {
   "cell_type": "code",
   "execution_count": 1,
   "id": "7962be3d-fd1f-4712-aaaf-8a1d8f1fdb4a",
   "metadata": {},
   "outputs": [],
   "source": [
    "import pandas as pd\n",
    "import numpy as np\n",
    "import pydicom\n",
    "import cv2"
   ]
  },
  {
   "cell_type": "code",
   "execution_count": 2,
   "id": "48ae8644-5d89-42ea-94aa-bdfeb2528184",
   "metadata": {},
   "outputs": [
    {
     "name": "stdout",
     "output_type": "stream",
     "text": [
      "1 Physical GPUs, 1 Logical GPU\n"
     ]
    }
   ],
   "source": [
    "import tensorflow as tf\n",
    "\n",
    "gpus = tf.config.list_physical_devices('GPU')\n",
    "if gpus:\n",
    "    try:\n",
    "        # 필요한 만큼만 메모리를 사용하도록 설정\n",
    "        for gpu in gpus:\n",
    "            tf.config.experimental.set_memory_growth(gpu, True)\n",
    "            \n",
    "        # 특정 GPU에 연산을 할당\n",
    "        tf.config.set_visible_devices(gpus[0], 'GPU')\n",
    "        \n",
    "        logical_gpus = tf.config.experimental.list_logical_devices('GPU')\n",
    "        print(len(gpus), \"Physical GPUs,\", len(logical_gpus), \"Logical GPU\")\n",
    "        \n",
    "    except RuntimeError as e:\n",
    "        print(e)\n"
   ]
  },
  {
   "cell_type": "code",
   "execution_count": 3,
   "id": "05d79b3e-ec09-4a0b-bdb9-854b34189789",
   "metadata": {},
   "outputs": [],
   "source": [
    "train_df = pd.read_pickle('train_data.pkl')"
   ]
  },
  {
   "cell_type": "code",
   "execution_count": 4,
   "id": "3407fbd0-a07c-4fc1-9ec7-4bbdcf563546",
   "metadata": {},
   "outputs": [],
   "source": [
    "val_df= pd.read_pickle('val_data.pkl')"
   ]
  },
  {
   "cell_type": "code",
   "execution_count": 5,
   "id": "adc9820c-2ad0-4c8f-8476-9998f7e3b542",
   "metadata": {},
   "outputs": [],
   "source": [
    "import tensorflow.keras.backend as K\n",
    "def weighted_log_loss(y_true, y_pred):\n",
    "    class_weights = K.constant([1.0, 2.0, 4.0])\n",
    "    y_true = K.cast(y_true, y_pred.dtype)\n",
    "    weights = K.sum(y_true * class_weights, axis=-1)\n",
    "    loss = K.sum(y_true * K.log(y_pred + K.epsilon()), axis=-1)\n",
    "    weighted_loss = -weights * loss\n",
    "    return K.mean(weighted_loss)"
   ]
  },
  {
   "cell_type": "code",
   "execution_count": 6,
   "id": "3376e7e7-c8fc-47fb-bd78-f5ffbdc46932",
   "metadata": {},
   "outputs": [],
   "source": [
    "from tensorflow.keras.utils import Sequence\n",
    "from tensorflow.keras.preprocessing.image import ImageDataGenerator\n",
    "\n",
    "class DicomDataGenerator(Sequence):\n",
    "    def __init__(self, dataframe, x_col, y_col, batch_size, target_size, shuffle=True, augment=False):\n",
    "        self.dataframe = dataframe\n",
    "        self.x_col = x_col\n",
    "        self.y_col = y_col\n",
    "        self.batch_size = batch_size\n",
    "        self.target_size = target_size\n",
    "        self.shuffle = shuffle\n",
    "        self.augment = augment\n",
    "        self.on_epoch_end()\n",
    "        \n",
    "        self.datagen = ImageDataGenerator(\n",
    "            rotation_range=20,\n",
    "            zoom_range=0.15,\n",
    "            width_shift_range=0.2,\n",
    "            height_shift_range=0.2,\n",
    "            shear_range=0.15,\n",
    "            horizontal_flip=True,\n",
    "            fill_mode=\"nearest\"\n",
    "        )\n",
    "\n",
    "    def __len__(self):\n",
    "        return int(np.floor(len(self.dataframe) / self.batch_size))\n",
    "\n",
    "    def __getitem__(self, index):\n",
    "        batch = self.dataframe.iloc[index*self.batch_size:(index+1)*self.batch_size]\n",
    "        x, y = self.__data_generation(batch)\n",
    "        return x, y\n",
    "\n",
    "    def on_epoch_end(self):\n",
    "        self.indexes = np.arange(len(self.dataframe))\n",
    "        if self.shuffle:\n",
    "            np.random.shuffle(self.indexes)\n",
    "\n",
    "    def __data_generation(self, batch):\n",
    "        images = []\n",
    "        labels = []\n",
    "\n",
    "        for _, row in batch.iterrows():\n",
    "            dicom_path = row[self.x_col]\n",
    "            dicom = pydicom.dcmread(dicom_path)\n",
    "            image = dicom.pixel_array\n",
    "            image = cv2.resize(image, self.target_size)\n",
    "            image = cv2.normalize(image, None, 0, 255, cv2.NORM_MINMAX)\n",
    "            image = image.astype('float32') / 255.0\n",
    "            image = np.expand_dims(image, axis=-1)\n",
    "            if self.augment:\n",
    "                image = self.datagen.random_transform(image)\n",
    "            images.append(image)\n",
    "            labels.append(row[self.y_col])\n",
    "        \n",
    "        x = np.array(images)\n",
    "        y = tf.keras.utils.to_categorical(labels, num_classes=3)\n",
    "        return x, y\n",
    "\n",
    "# Assuming train_data and val_data are your DataFrames with 'img_file_path' and 'category' columns\n",
    "train_df['category'] = train_df['category'].astype(int)\n",
    "val_df['category'] = val_df['category'].astype(int)\n",
    "\n",
    "# Create data generators\n",
    "train_generator = DicomDataGenerator(\n",
    "    dataframe=train_df,\n",
    "    x_col='img_file_path',\n",
    "    y_col='category',\n",
    "    batch_size=32,\n",
    "    target_size=(224, 224),\n",
    "    shuffle=True,\n",
    "    augment=True\n",
    ")\n",
    "\n",
    "val_generator = DicomDataGenerator(\n",
    "    dataframe=val_df,\n",
    "    x_col='img_file_path',\n",
    "    y_col='category',\n",
    "    batch_size=32,\n",
    "    target_size=(224, 224),\n",
    "    shuffle=False,\n",
    "    augment=False\n",
    ")"
   ]
  },
  {
   "cell_type": "code",
   "execution_count": 7,
   "id": "9d2d801b-f617-4403-91a4-ba65dd2cb819",
   "metadata": {},
   "outputs": [],
   "source": [
    "from sklearn.ensemble import RandomForestClassifier\n",
    "from sklearn.metrics import accuracy_score, classification_report\n",
    "\n",
    "# 데이터를 모두 수집하기 위해 리스트 초기화\n",
    "train_images = []\n",
    "train_labels = []\n",
    "val_images = []\n",
    "val_labels = []\n",
    "\n",
    "# train_generator에서 데이터를 추출하여 하나의 큰 배열로 결합\n",
    "for i in range(len(train_generator)):\n",
    "    x_batch, y_batch = train_generator[i]\n",
    "    train_images.append(x_batch)\n",
    "    train_labels.append(y_batch)\n",
    "\n",
    "# val_generator에서 데이터를 추출하여 하나의 큰 배열로 결합\n",
    "for i in range(len(val_generator)):\n",
    "    x_batch, y_batch = val_generator[i]\n",
    "    val_images.append(x_batch)\n",
    "    val_labels.append(y_batch)"
   ]
  },
  {
   "cell_type": "code",
   "execution_count": 8,
   "id": "384d9a8c-d9de-4814-90a6-770f46fc0046",
   "metadata": {},
   "outputs": [],
   "source": [
    "# NumPy 배열로 변환\n",
    "train_images = np.concatenate(train_images, axis=0)\n",
    "train_labels = np.concatenate(train_labels, axis=0)\n",
    "val_images = np.concatenate(val_images, axis=0)\n",
    "val_labels = np.concatenate(val_labels, axis=0)"
   ]
  },
  {
   "cell_type": "code",
   "execution_count": 9,
   "id": "a03482ac-ae2c-4150-8336-a0278aa060de",
   "metadata": {},
   "outputs": [
    {
     "data": {
      "text/html": [
       "<style>#sk-container-id-1 {color: black;}#sk-container-id-1 pre{padding: 0;}#sk-container-id-1 div.sk-toggleable {background-color: white;}#sk-container-id-1 label.sk-toggleable__label {cursor: pointer;display: block;width: 100%;margin-bottom: 0;padding: 0.3em;box-sizing: border-box;text-align: center;}#sk-container-id-1 label.sk-toggleable__label-arrow:before {content: \"▸\";float: left;margin-right: 0.25em;color: #696969;}#sk-container-id-1 label.sk-toggleable__label-arrow:hover:before {color: black;}#sk-container-id-1 div.sk-estimator:hover label.sk-toggleable__label-arrow:before {color: black;}#sk-container-id-1 div.sk-toggleable__content {max-height: 0;max-width: 0;overflow: hidden;text-align: left;background-color: #f0f8ff;}#sk-container-id-1 div.sk-toggleable__content pre {margin: 0.2em;color: black;border-radius: 0.25em;background-color: #f0f8ff;}#sk-container-id-1 input.sk-toggleable__control:checked~div.sk-toggleable__content {max-height: 200px;max-width: 100%;overflow: auto;}#sk-container-id-1 input.sk-toggleable__control:checked~label.sk-toggleable__label-arrow:before {content: \"▾\";}#sk-container-id-1 div.sk-estimator input.sk-toggleable__control:checked~label.sk-toggleable__label {background-color: #d4ebff;}#sk-container-id-1 div.sk-label input.sk-toggleable__control:checked~label.sk-toggleable__label {background-color: #d4ebff;}#sk-container-id-1 input.sk-hidden--visually {border: 0;clip: rect(1px 1px 1px 1px);clip: rect(1px, 1px, 1px, 1px);height: 1px;margin: -1px;overflow: hidden;padding: 0;position: absolute;width: 1px;}#sk-container-id-1 div.sk-estimator {font-family: monospace;background-color: #f0f8ff;border: 1px dotted black;border-radius: 0.25em;box-sizing: border-box;margin-bottom: 0.5em;}#sk-container-id-1 div.sk-estimator:hover {background-color: #d4ebff;}#sk-container-id-1 div.sk-parallel-item::after {content: \"\";width: 100%;border-bottom: 1px solid gray;flex-grow: 1;}#sk-container-id-1 div.sk-label:hover label.sk-toggleable__label {background-color: #d4ebff;}#sk-container-id-1 div.sk-serial::before {content: \"\";position: absolute;border-left: 1px solid gray;box-sizing: border-box;top: 0;bottom: 0;left: 50%;z-index: 0;}#sk-container-id-1 div.sk-serial {display: flex;flex-direction: column;align-items: center;background-color: white;padding-right: 0.2em;padding-left: 0.2em;position: relative;}#sk-container-id-1 div.sk-item {position: relative;z-index: 1;}#sk-container-id-1 div.sk-parallel {display: flex;align-items: stretch;justify-content: center;background-color: white;position: relative;}#sk-container-id-1 div.sk-item::before, #sk-container-id-1 div.sk-parallel-item::before {content: \"\";position: absolute;border-left: 1px solid gray;box-sizing: border-box;top: 0;bottom: 0;left: 50%;z-index: -1;}#sk-container-id-1 div.sk-parallel-item {display: flex;flex-direction: column;z-index: 1;position: relative;background-color: white;}#sk-container-id-1 div.sk-parallel-item:first-child::after {align-self: flex-end;width: 50%;}#sk-container-id-1 div.sk-parallel-item:last-child::after {align-self: flex-start;width: 50%;}#sk-container-id-1 div.sk-parallel-item:only-child::after {width: 0;}#sk-container-id-1 div.sk-dashed-wrapped {border: 1px dashed gray;margin: 0 0.4em 0.5em 0.4em;box-sizing: border-box;padding-bottom: 0.4em;background-color: white;}#sk-container-id-1 div.sk-label label {font-family: monospace;font-weight: bold;display: inline-block;line-height: 1.2em;}#sk-container-id-1 div.sk-label-container {text-align: center;}#sk-container-id-1 div.sk-container {/* jupyter's `normalize.less` sets `[hidden] { display: none; }` but bootstrap.min.css set `[hidden] { display: none !important; }` so we also need the `!important` here to be able to override the default hidden behavior on the sphinx rendered scikit-learn.org. See: https://github.com/scikit-learn/scikit-learn/issues/21755 */display: inline-block !important;position: relative;}#sk-container-id-1 div.sk-text-repr-fallback {display: none;}</style><div id=\"sk-container-id-1\" class=\"sk-top-container\"><div class=\"sk-text-repr-fallback\"><pre>RandomForestClassifier(random_state=42)</pre><b>In a Jupyter environment, please rerun this cell to show the HTML representation or trust the notebook. <br />On GitHub, the HTML representation is unable to render, please try loading this page with nbviewer.org.</b></div><div class=\"sk-container\" hidden><div class=\"sk-item\"><div class=\"sk-estimator sk-toggleable\"><input class=\"sk-toggleable__control sk-hidden--visually\" id=\"sk-estimator-id-1\" type=\"checkbox\" checked><label for=\"sk-estimator-id-1\" class=\"sk-toggleable__label sk-toggleable__label-arrow\">RandomForestClassifier</label><div class=\"sk-toggleable__content\"><pre>RandomForestClassifier(random_state=42)</pre></div></div></div></div></div>"
      ],
      "text/plain": [
       "RandomForestClassifier(random_state=42)"
      ]
     },
     "execution_count": 9,
     "metadata": {},
     "output_type": "execute_result"
    }
   ],
   "source": [
    "# 랜덤 포레스트 모델 초기화\n",
    "rf_model = RandomForestClassifier(n_estimators=100, max_depth=None, random_state=42)\n",
    "\n",
    "# 모델 학습\n",
    "rf_model.fit(train_images.reshape(len(train_images), -1), np.argmax(train_labels, axis=1))"
   ]
  },
  {
   "cell_type": "code",
   "execution_count": 10,
   "id": "252838f9-00fb-4949-b0f0-331c192f70f3",
   "metadata": {},
   "outputs": [
    {
     "name": "stdout",
     "output_type": "stream",
     "text": [
      "Validation Accuracy: 0.7715\n",
      "              precision    recall  f1-score   support\n",
      "\n",
      "           0       0.30      0.01      0.03      1589\n",
      "           1       0.77      0.99      0.87      7523\n",
      "           2       0.00      0.00      0.00       616\n",
      "\n",
      "    accuracy                           0.77      9728\n",
      "   macro avg       0.36      0.34      0.30      9728\n",
      "weighted avg       0.65      0.77      0.68      9728\n",
      "\n"
     ]
    },
    {
     "name": "stderr",
     "output_type": "stream",
     "text": [
      "C:\\Anaconnda3\\envs\\python-gpu\\lib\\site-packages\\sklearn\\metrics\\_classification.py:1471: UndefinedMetricWarning: Precision and F-score are ill-defined and being set to 0.0 in labels with no predicted samples. Use `zero_division` parameter to control this behavior.\n",
      "  _warn_prf(average, modifier, msg_start, len(result))\n",
      "C:\\Anaconnda3\\envs\\python-gpu\\lib\\site-packages\\sklearn\\metrics\\_classification.py:1471: UndefinedMetricWarning: Precision and F-score are ill-defined and being set to 0.0 in labels with no predicted samples. Use `zero_division` parameter to control this behavior.\n",
      "  _warn_prf(average, modifier, msg_start, len(result))\n",
      "C:\\Anaconnda3\\envs\\python-gpu\\lib\\site-packages\\sklearn\\metrics\\_classification.py:1471: UndefinedMetricWarning: Precision and F-score are ill-defined and being set to 0.0 in labels with no predicted samples. Use `zero_division` parameter to control this behavior.\n",
      "  _warn_prf(average, modifier, msg_start, len(result))\n"
     ]
    }
   ],
   "source": [
    "# 검증 데이터로 예측\n",
    "val_predictions = rf_model.predict(val_images.reshape(len(val_images), -1))\n",
    "\n",
    "# 정확도 및 기타 성능 평가\n",
    "accuracy = accuracy_score(np.argmax(val_labels, axis=1), val_predictions)\n",
    "print(f'Validation Accuracy: {accuracy:.4f}')\n",
    "print(classification_report(np.argmax(val_labels, axis=1), val_predictions))"
   ]
  },
  {
   "cell_type": "code",
   "execution_count": 11,
   "id": "3b200312-9588-4116-9fe6-0d7fa3fa95fb",
   "metadata": {},
   "outputs": [
    {
     "data": {
      "text/plain": [
       "['random_forest_model.pkl']"
      ]
     },
     "execution_count": 11,
     "metadata": {},
     "output_type": "execute_result"
    }
   ],
   "source": [
    "import joblib\n",
    "\n",
    "# 모델 저장\n",
    "joblib.dump(rf_model, 'random_forest_model.pkl')"
   ]
  },
  {
   "cell_type": "code",
   "execution_count": 12,
   "id": "362d96fc-6ca7-4bf3-98da-ddf5364003ed",
   "metadata": {},
   "outputs": [
    {
     "data": {
      "text/plain": [
       "\"\\n# 저장된 모델 불러오기\\nloaded_model = joblib.load('random_forest_model.pkl')\\n\\n# 예측 수행\\npredictions = loaded_model.predict(X_test)\\n\""
      ]
     },
     "execution_count": 12,
     "metadata": {},
     "output_type": "execute_result"
    }
   ],
   "source": [
    "'''\n",
    "# 저장된 모델 불러오기\n",
    "loaded_model = joblib.load('random_forest_model.pkl')\n",
    "\n",
    "# 예측 수행\n",
    "predictions = loaded_model.predict(X_test)\n",
    "'''"
   ]
  },
  {
   "cell_type": "code",
   "execution_count": 13,
   "id": "1cb0cb7b-1dac-433f-b683-5bea66e5e3ac",
   "metadata": {},
   "outputs": [
    {
     "data": {
      "text/plain": [
       "'\\n데이터 제너레이터 랜덤포레스트 모델\\nValidation Accuracy: 0.7715\\n'"
      ]
     },
     "execution_count": 13,
     "metadata": {},
     "output_type": "execute_result"
    }
   ],
   "source": [
    "'''\n",
    "데이터 제너레이터 랜덤포레스트 모델\n",
    "Validation Accuracy: 0.7715\n",
    "'''"
   ]
  },
  {
   "cell_type": "code",
   "execution_count": null,
   "id": "06f3cc01-25a7-449b-a2cb-a6f8e6328f65",
   "metadata": {},
   "outputs": [],
   "source": []
  }
 ],
 "metadata": {
  "kernelspec": {
   "display_name": "python-gpu",
   "language": "python",
   "name": "python-gpu"
  },
  "language_info": {
   "codemirror_mode": {
    "name": "ipython",
    "version": 3
   },
   "file_extension": ".py",
   "mimetype": "text/x-python",
   "name": "python",
   "nbconvert_exporter": "python",
   "pygments_lexer": "ipython3",
   "version": "3.8.19"
  }
 },
 "nbformat": 4,
 "nbformat_minor": 5
}
