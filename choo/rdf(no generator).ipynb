{
 "cells": [
  {
   "cell_type": "code",
   "execution_count": 1,
   "id": "cb848646-cd52-4247-bfbd-d0b12d1544b3",
   "metadata": {},
   "outputs": [],
   "source": [
    "import pandas as pd\n",
    "import numpy as np\n",
    "import pydicom\n",
    "import cv2"
   ]
  },
  {
   "cell_type": "code",
   "execution_count": 2,
   "id": "dd67779c-0557-44c5-affc-6f0f97351167",
   "metadata": {},
   "outputs": [
    {
     "name": "stdout",
     "output_type": "stream",
     "text": [
      "1 Physical GPUs, 1 Logical GPU\n"
     ]
    }
   ],
   "source": [
    "import tensorflow as tf\n",
    "\n",
    "gpus = tf.config.list_physical_devices('GPU')\n",
    "if gpus:\n",
    "    try:\n",
    "        # 필요한 만큼만 메모리를 사용하도록 설정\n",
    "        for gpu in gpus:\n",
    "            tf.config.experimental.set_memory_growth(gpu, True)\n",
    "            \n",
    "        # 특정 GPU에 연산을 할당\n",
    "        tf.config.set_visible_devices(gpus[0], 'GPU')\n",
    "        \n",
    "        logical_gpus = tf.config.experimental.list_logical_devices('GPU')\n",
    "        print(len(gpus), \"Physical GPUs,\", len(logical_gpus), \"Logical GPU\")\n",
    "        \n",
    "    except RuntimeError as e:\n",
    "        print(e)\n"
   ]
  },
  {
   "cell_type": "code",
   "execution_count": 3,
   "id": "31d0be2f-c797-4972-b321-68d914bbbf08",
   "metadata": {},
   "outputs": [],
   "source": [
    "train_df = pd.read_pickle('train_data.pkl')"
   ]
  },
  {
   "cell_type": "code",
   "execution_count": 4,
   "id": "5813f152-8e37-47c1-b7b5-1090ee35d25c",
   "metadata": {},
   "outputs": [],
   "source": [
    "val_df= pd.read_pickle('val_data.pkl')"
   ]
  },
  {
   "cell_type": "code",
   "execution_count": 5,
   "id": "d985258d-25a7-42d0-b257-6691a0d00d71",
   "metadata": {},
   "outputs": [],
   "source": [
    "# 이미지 전처\n",
    "\n",
    "from tensorflow.keras.utils import Sequence\n",
    "import numpy as np\n",
    "import pydicom\n",
    "import cv2\n",
    "\n",
    "class DicomDataGenerator(Sequence):\n",
    "    def __init__(self, dataframe, x_col, y_col, batch_size, target_size, shuffle=True):\n",
    "        self.dataframe = dataframe\n",
    "        self.x_col = x_col\n",
    "        self.y_col = y_col\n",
    "        self.batch_size = batch_size\n",
    "        self.target_size = target_size\n",
    "        self.shuffle = shuffle\n",
    "        self.on_epoch_end()\n",
    "\n",
    "    def __len__(self):\n",
    "        return int(np.floor(len(self.dataframe) / self.batch_size))\n",
    "\n",
    "    def __getitem__(self, index):\n",
    "        batch = self.dataframe.iloc[index*self.batch_size:(index+1)*self.batch_size]\n",
    "        x, y = self.__data_generation(batch)\n",
    "        return x, y\n",
    "\n",
    "    def on_epoch_end(self):\n",
    "        self.indexes = np.arange(len(self.dataframe))\n",
    "        if self.shuffle:\n",
    "            np.random.shuffle(self.indexes)\n",
    "\n",
    "    def __data_generation(self, batch):\n",
    "        images = []\n",
    "        labels = []\n",
    "\n",
    "        for _, row in batch.iterrows():\n",
    "            dicom_path = row[self.x_col]\n",
    "            dicom = pydicom.dcmread(dicom_path)\n",
    "            image = dicom.pixel_array\n",
    "            image = cv2.resize(image, self.target_size)\n",
    "            image = cv2.normalize(image, None, 0, 255, cv2.NORM_MINMAX)\n",
    "            image = image.astype('float32') / 255.0\n",
    "            image = np.expand_dims(image, axis=-1)\n",
    "            images.append(image)\n",
    "            labels.append(row[self.y_col])\n",
    "        \n",
    "        x = np.array(images)\n",
    "        y = tf.keras.utils.to_categorical(labels, num_classes=3)\n",
    "        return x, y\n",
    "\n",
    "# 사용 예시\n",
    "# train_df와 val_df는 DataFrame 형태로, 'img_file_path'와 'category' 컬럼이 있다고 가정\n",
    "train_df['category'] = train_df['category'].astype(int)\n",
    "val_df['category'] = val_df['category'].astype(int)\n",
    "\n",
    "train_generator = DicomDataGenerator(\n",
    "    dataframe=train_df,\n",
    "    x_col='img_file_path',\n",
    "    y_col='category',\n",
    "    batch_size=32,\n",
    "    target_size=(224, 224),\n",
    "    shuffle=True\n",
    ")\n",
    "\n",
    "val_generator = DicomDataGenerator(\n",
    "    dataframe=val_df,\n",
    "    x_col='img_file_path',\n",
    "    y_col='category',\n",
    "    batch_size=32,\n",
    "    target_size=(224, 224),\n",
    "    shuffle=False\n",
    ")"
   ]
  },
  {
   "cell_type": "code",
   "execution_count": 6,
   "id": "bc7d44a9-0a4d-434a-a48c-21ed21629cea",
   "metadata": {},
   "outputs": [],
   "source": [
    "import numpy as np\n",
    "from sklearn.ensemble import RandomForestClassifier\n",
    "from sklearn.metrics import accuracy_score, classification_report\n",
    "\n",
    "# 데이터를 모두 수집하기 위해 리스트 초기화\n",
    "train_images = []\n",
    "train_labels = []\n",
    "val_images = []\n",
    "val_labels = []\n",
    "\n",
    "# train_generator에서 데이터를 추출하여 하나의 큰 배열로 결합\n",
    "for i in range(len(train_generator)):\n",
    "    x_batch, y_batch = train_generator[i]\n",
    "    train_images.append(x_batch)\n",
    "    train_labels.append(y_batch)\n",
    "\n",
    "# val_generator에서 데이터를 추출하여 하나의 큰 배열로 결합\n",
    "for i in range(len(val_generator)):\n",
    "    x_batch, y_batch = val_generator[i]\n",
    "    val_images.append(x_batch)\n",
    "    val_labels.append(y_batch)"
   ]
  },
  {
   "cell_type": "code",
   "execution_count": 7,
   "id": "ed3ed5d0-f12c-41b5-9565-4d309ee125b5",
   "metadata": {},
   "outputs": [],
   "source": [
    "# NumPy 배열로 변환\n",
    "train_images = np.concatenate(train_images, axis=0)\n",
    "train_labels = np.concatenate(train_labels, axis=0)\n",
    "val_images = np.concatenate(val_images, axis=0)\n",
    "val_labels = np.concatenate(val_labels, axis=0)"
   ]
  },
  {
   "cell_type": "code",
   "execution_count": 8,
   "id": "84ba3160-640d-4c36-8162-2f6f0164ba86",
   "metadata": {},
   "outputs": [
    {
     "data": {
      "text/html": [
       "<style>#sk-container-id-1 {color: black;}#sk-container-id-1 pre{padding: 0;}#sk-container-id-1 div.sk-toggleable {background-color: white;}#sk-container-id-1 label.sk-toggleable__label {cursor: pointer;display: block;width: 100%;margin-bottom: 0;padding: 0.3em;box-sizing: border-box;text-align: center;}#sk-container-id-1 label.sk-toggleable__label-arrow:before {content: \"▸\";float: left;margin-right: 0.25em;color: #696969;}#sk-container-id-1 label.sk-toggleable__label-arrow:hover:before {color: black;}#sk-container-id-1 div.sk-estimator:hover label.sk-toggleable__label-arrow:before {color: black;}#sk-container-id-1 div.sk-toggleable__content {max-height: 0;max-width: 0;overflow: hidden;text-align: left;background-color: #f0f8ff;}#sk-container-id-1 div.sk-toggleable__content pre {margin: 0.2em;color: black;border-radius: 0.25em;background-color: #f0f8ff;}#sk-container-id-1 input.sk-toggleable__control:checked~div.sk-toggleable__content {max-height: 200px;max-width: 100%;overflow: auto;}#sk-container-id-1 input.sk-toggleable__control:checked~label.sk-toggleable__label-arrow:before {content: \"▾\";}#sk-container-id-1 div.sk-estimator input.sk-toggleable__control:checked~label.sk-toggleable__label {background-color: #d4ebff;}#sk-container-id-1 div.sk-label input.sk-toggleable__control:checked~label.sk-toggleable__label {background-color: #d4ebff;}#sk-container-id-1 input.sk-hidden--visually {border: 0;clip: rect(1px 1px 1px 1px);clip: rect(1px, 1px, 1px, 1px);height: 1px;margin: -1px;overflow: hidden;padding: 0;position: absolute;width: 1px;}#sk-container-id-1 div.sk-estimator {font-family: monospace;background-color: #f0f8ff;border: 1px dotted black;border-radius: 0.25em;box-sizing: border-box;margin-bottom: 0.5em;}#sk-container-id-1 div.sk-estimator:hover {background-color: #d4ebff;}#sk-container-id-1 div.sk-parallel-item::after {content: \"\";width: 100%;border-bottom: 1px solid gray;flex-grow: 1;}#sk-container-id-1 div.sk-label:hover label.sk-toggleable__label {background-color: #d4ebff;}#sk-container-id-1 div.sk-serial::before {content: \"\";position: absolute;border-left: 1px solid gray;box-sizing: border-box;top: 0;bottom: 0;left: 50%;z-index: 0;}#sk-container-id-1 div.sk-serial {display: flex;flex-direction: column;align-items: center;background-color: white;padding-right: 0.2em;padding-left: 0.2em;position: relative;}#sk-container-id-1 div.sk-item {position: relative;z-index: 1;}#sk-container-id-1 div.sk-parallel {display: flex;align-items: stretch;justify-content: center;background-color: white;position: relative;}#sk-container-id-1 div.sk-item::before, #sk-container-id-1 div.sk-parallel-item::before {content: \"\";position: absolute;border-left: 1px solid gray;box-sizing: border-box;top: 0;bottom: 0;left: 50%;z-index: -1;}#sk-container-id-1 div.sk-parallel-item {display: flex;flex-direction: column;z-index: 1;position: relative;background-color: white;}#sk-container-id-1 div.sk-parallel-item:first-child::after {align-self: flex-end;width: 50%;}#sk-container-id-1 div.sk-parallel-item:last-child::after {align-self: flex-start;width: 50%;}#sk-container-id-1 div.sk-parallel-item:only-child::after {width: 0;}#sk-container-id-1 div.sk-dashed-wrapped {border: 1px dashed gray;margin: 0 0.4em 0.5em 0.4em;box-sizing: border-box;padding-bottom: 0.4em;background-color: white;}#sk-container-id-1 div.sk-label label {font-family: monospace;font-weight: bold;display: inline-block;line-height: 1.2em;}#sk-container-id-1 div.sk-label-container {text-align: center;}#sk-container-id-1 div.sk-container {/* jupyter's `normalize.less` sets `[hidden] { display: none; }` but bootstrap.min.css set `[hidden] { display: none !important; }` so we also need the `!important` here to be able to override the default hidden behavior on the sphinx rendered scikit-learn.org. See: https://github.com/scikit-learn/scikit-learn/issues/21755 */display: inline-block !important;position: relative;}#sk-container-id-1 div.sk-text-repr-fallback {display: none;}</style><div id=\"sk-container-id-1\" class=\"sk-top-container\"><div class=\"sk-text-repr-fallback\"><pre>RandomForestClassifier(random_state=42)</pre><b>In a Jupyter environment, please rerun this cell to show the HTML representation or trust the notebook. <br />On GitHub, the HTML representation is unable to render, please try loading this page with nbviewer.org.</b></div><div class=\"sk-container\" hidden><div class=\"sk-item\"><div class=\"sk-estimator sk-toggleable\"><input class=\"sk-toggleable__control sk-hidden--visually\" id=\"sk-estimator-id-1\" type=\"checkbox\" checked><label for=\"sk-estimator-id-1\" class=\"sk-toggleable__label sk-toggleable__label-arrow\">RandomForestClassifier</label><div class=\"sk-toggleable__content\"><pre>RandomForestClassifier(random_state=42)</pre></div></div></div></div></div>"
      ],
      "text/plain": [
       "RandomForestClassifier(random_state=42)"
      ]
     },
     "execution_count": 8,
     "metadata": {},
     "output_type": "execute_result"
    }
   ],
   "source": [
    "# 랜덤 포레스트 모델 초기화\n",
    "rf_model = RandomForestClassifier(n_estimators=100, max_depth=None, random_state=42)\n",
    "\n",
    "# 모델 학습\n",
    "rf_model.fit(train_images.reshape(len(train_images), -1), np.argmax(train_labels, axis=1))"
   ]
  },
  {
   "cell_type": "code",
   "execution_count": 9,
   "id": "0149229b-6be6-4763-8a6d-7f5d17bd3021",
   "metadata": {},
   "outputs": [
    {
     "name": "stdout",
     "output_type": "stream",
     "text": [
      "Validation Accuracy: 0.7598\n",
      "              precision    recall  f1-score   support\n",
      "\n",
      "           0       0.35      0.20      0.25      1589\n",
      "           1       0.82      0.92      0.87      7523\n",
      "           2       0.38      0.20      0.27       616\n",
      "\n",
      "    accuracy                           0.76      9728\n",
      "   macro avg       0.52      0.44      0.46      9728\n",
      "weighted avg       0.71      0.76      0.73      9728\n",
      "\n"
     ]
    }
   ],
   "source": [
    "# 검증 데이터로 예측\n",
    "val_predictions = rf_model.predict(val_images.reshape(len(val_images), -1))\n",
    "\n",
    "# 정확도 및 기타 성능 평가\n",
    "accuracy = accuracy_score(np.argmax(val_labels, axis=1), val_predictions)\n",
    "print(f'Validation Accuracy: {accuracy:.4f}')\n",
    "print(classification_report(np.argmax(val_labels, axis=1), val_predictions))"
   ]
  },
  {
   "cell_type": "code",
   "execution_count": 10,
   "id": "88dd769b-c335-4715-858b-678f356cc33f",
   "metadata": {},
   "outputs": [
    {
     "data": {
      "text/plain": [
       "'\\nrandomForest-no generator\\nValidation Accuracy: 0.7598\\n'"
      ]
     },
     "execution_count": 10,
     "metadata": {},
     "output_type": "execute_result"
    }
   ],
   "source": [
    "'''\n",
    "randomForest-no generator\n",
    "Validation Accuracy: 0.7598\n",
    "'''"
   ]
  },
  {
   "cell_type": "code",
   "execution_count": null,
   "id": "b52a969d-89e0-4350-a05b-3a398efe7641",
   "metadata": {},
   "outputs": [],
   "source": []
  }
 ],
 "metadata": {
  "kernelspec": {
   "display_name": "python-gpu",
   "language": "python",
   "name": "python-gpu"
  },
  "language_info": {
   "codemirror_mode": {
    "name": "ipython",
    "version": 3
   },
   "file_extension": ".py",
   "mimetype": "text/x-python",
   "name": "python",
   "nbconvert_exporter": "python",
   "pygments_lexer": "ipython3",
   "version": "3.8.19"
  }
 },
 "nbformat": 4,
 "nbformat_minor": 5
}
