{
 "cells": [
  {
   "cell_type": "code",
   "execution_count": 1,
   "id": "525ab360-5038-4742-b198-7bec65941876",
   "metadata": {},
   "outputs": [
    {
     "data": {
      "text/plain": [
       "'\\nhttps://www.kaggle.com/code/gunesevitan/rsna-2024-lsdc-eda\\n'"
      ]
     },
     "execution_count": 1,
     "metadata": {},
     "output_type": "execute_result"
    }
   ],
   "source": [
    "'''\n",
    "https://www.kaggle.com/code/gunesevitan/rsna-2024-lsdc-eda\n",
    "'''"
   ]
  },
  {
   "cell_type": "code",
   "execution_count": 3,
   "id": "7b9fc930-34f7-42f6-bc05-a56676f3befd",
   "metadata": {},
   "outputs": [
    {
     "name": "stdout",
     "output_type": "stream",
     "text": [
      "Collecting missingno\n",
      "  Downloading missingno-0.5.2-py3-none-any.whl.metadata (639 bytes)\n",
      "Requirement already satisfied: numpy in c:\\anaconnda3\\lib\\site-packages (from missingno) (1.26.4)\n",
      "Requirement already satisfied: matplotlib in c:\\anaconnda3\\lib\\site-packages (from missingno) (3.8.0)\n",
      "Requirement already satisfied: scipy in c:\\anaconnda3\\lib\\site-packages (from missingno) (1.11.4)\n",
      "Requirement already satisfied: seaborn in c:\\anaconnda3\\lib\\site-packages (from missingno) (0.12.2)\n",
      "Requirement already satisfied: contourpy>=1.0.1 in c:\\anaconnda3\\lib\\site-packages (from matplotlib->missingno) (1.2.0)\n",
      "Requirement already satisfied: cycler>=0.10 in c:\\anaconnda3\\lib\\site-packages (from matplotlib->missingno) (0.11.0)\n",
      "Requirement already satisfied: fonttools>=4.22.0 in c:\\anaconnda3\\lib\\site-packages (from matplotlib->missingno) (4.25.0)\n",
      "Requirement already satisfied: kiwisolver>=1.0.1 in c:\\anaconnda3\\lib\\site-packages (from matplotlib->missingno) (1.4.4)\n",
      "Requirement already satisfied: packaging>=20.0 in c:\\anaconnda3\\lib\\site-packages (from matplotlib->missingno) (23.1)\n",
      "Requirement already satisfied: pillow>=6.2.0 in c:\\anaconnda3\\lib\\site-packages (from matplotlib->missingno) (10.2.0)\n",
      "Requirement already satisfied: pyparsing>=2.3.1 in c:\\anaconnda3\\lib\\site-packages (from matplotlib->missingno) (3.0.9)\n",
      "Requirement already satisfied: python-dateutil>=2.7 in c:\\anaconnda3\\lib\\site-packages (from matplotlib->missingno) (2.8.2)\n",
      "Requirement already satisfied: pandas>=0.25 in c:\\anaconnda3\\lib\\site-packages (from seaborn->missingno) (2.1.4)\n",
      "Requirement already satisfied: pytz>=2020.1 in c:\\anaconnda3\\lib\\site-packages (from pandas>=0.25->seaborn->missingno) (2023.3.post1)\n",
      "Requirement already satisfied: tzdata>=2022.1 in c:\\anaconnda3\\lib\\site-packages (from pandas>=0.25->seaborn->missingno) (2023.3)\n",
      "Requirement already satisfied: six>=1.5 in c:\\anaconnda3\\lib\\site-packages (from python-dateutil>=2.7->matplotlib->missingno) (1.16.0)\n",
      "Downloading missingno-0.5.2-py3-none-any.whl (8.7 kB)\n",
      "Installing collected packages: missingno\n",
      "Successfully installed missingno-0.5.2\n",
      "Note: you may need to restart the kernel to use updated packages.\n"
     ]
    }
   ],
   "source": [
    "pip install missingno"
   ]
  },
  {
   "cell_type": "code",
   "execution_count": 118,
   "id": "3b40a485-6b29-40f5-86fe-ea8e8111ec01",
   "metadata": {},
   "outputs": [],
   "source": [
    "from glob import glob\n",
    "from tqdm import tqdm\n",
    "from pathlib import Path\n",
    "import numpy as np\n",
    "import pandas as pd\n",
    "import matplotlib.pyplot as plt\n",
    "import missingno as msno\n",
    "import plotly.graph_objects as go\n",
    "import plotly.express as px"
   ]
  },
  {
   "cell_type": "code",
   "execution_count": 3,
   "id": "3b818717-0120-40c7-9b27-959bb4f378d7",
   "metadata": {},
   "outputs": [],
   "source": [
    "pd.set_option('display.max_rows', 100)\n",
    "pd.set_option('display.max_columns', 100)\n",
    "pd.set_option('display.width', 1000)\n",
    "\n",
    "competition_dataset_directory = Path('spine')"
   ]
  },
  {
   "cell_type": "code",
   "execution_count": 6,
   "id": "4021cb35-157a-42c2-88ed-697abd01f676",
   "metadata": {},
   "outputs": [
    {
     "data": {
      "text/plain": [
       "['spine\\\\train_images\\\\100206310\\\\1012284084\\\\1.dcm',\n",
       " 'spine\\\\train_images\\\\100206310\\\\1012284084\\\\10.dcm',\n",
       " 'spine\\\\train_images\\\\100206310\\\\1012284084\\\\11.dcm',\n",
       " 'spine\\\\train_images\\\\100206310\\\\1012284084\\\\12.dcm',\n",
       " 'spine\\\\train_images\\\\100206310\\\\1012284084\\\\13.dcm',\n",
       " 'spine\\\\train_images\\\\100206310\\\\1012284084\\\\14.dcm',\n",
       " 'spine\\\\train_images\\\\100206310\\\\1012284084\\\\15.dcm',\n",
       " 'spine\\\\train_images\\\\100206310\\\\1012284084\\\\16.dcm',\n",
       " 'spine\\\\train_images\\\\100206310\\\\1012284084\\\\17.dcm',\n",
       " 'spine\\\\train_images\\\\100206310\\\\1012284084\\\\18.dcm',\n",
       " 'spine\\\\train_images\\\\100206310\\\\1012284084\\\\19.dcm',\n",
       " 'spine\\\\train_images\\\\100206310\\\\1012284084\\\\2.dcm',\n",
       " 'spine\\\\train_images\\\\100206310\\\\1012284084\\\\20.dcm',\n",
       " 'spine\\\\train_images\\\\100206310\\\\1012284084\\\\21.dcm',\n",
       " 'spine\\\\train_images\\\\100206310\\\\1012284084\\\\22.dcm',\n",
       " 'spine\\\\train_images\\\\100206310\\\\1012284084\\\\23.dcm',\n",
       " 'spine\\\\train_images\\\\100206310\\\\1012284084\\\\24.dcm',\n",
       " 'spine\\\\train_images\\\\100206310\\\\1012284084\\\\25.dcm',\n",
       " 'spine\\\\train_images\\\\100206310\\\\1012284084\\\\26.dcm',\n",
       " 'spine\\\\train_images\\\\100206310\\\\1012284084\\\\27.dcm',\n",
       " 'spine\\\\train_images\\\\100206310\\\\1012284084\\\\28.dcm',\n",
       " 'spine\\\\train_images\\\\100206310\\\\1012284084\\\\29.dcm',\n",
       " 'spine\\\\train_images\\\\100206310\\\\1012284084\\\\3.dcm',\n",
       " 'spine\\\\train_images\\\\100206310\\\\1012284084\\\\30.dcm',\n",
       " 'spine\\\\train_images\\\\100206310\\\\1012284084\\\\31.dcm',\n",
       " 'spine\\\\train_images\\\\100206310\\\\1012284084\\\\32.dcm',\n",
       " 'spine\\\\train_images\\\\100206310\\\\1012284084\\\\33.dcm',\n",
       " 'spine\\\\train_images\\\\100206310\\\\1012284084\\\\34.dcm',\n",
       " 'spine\\\\train_images\\\\100206310\\\\1012284084\\\\35.dcm',\n",
       " 'spine\\\\train_images\\\\100206310\\\\1012284084\\\\36.dcm',\n",
       " 'spine\\\\train_images\\\\100206310\\\\1012284084\\\\37.dcm',\n",
       " 'spine\\\\train_images\\\\100206310\\\\1012284084\\\\38.dcm',\n",
       " 'spine\\\\train_images\\\\100206310\\\\1012284084\\\\39.dcm',\n",
       " 'spine\\\\train_images\\\\100206310\\\\1012284084\\\\4.dcm',\n",
       " 'spine\\\\train_images\\\\100206310\\\\1012284084\\\\40.dcm',\n",
       " 'spine\\\\train_images\\\\100206310\\\\1012284084\\\\41.dcm',\n",
       " 'spine\\\\train_images\\\\100206310\\\\1012284084\\\\42.dcm',\n",
       " 'spine\\\\train_images\\\\100206310\\\\1012284084\\\\43.dcm',\n",
       " 'spine\\\\train_images\\\\100206310\\\\1012284084\\\\44.dcm',\n",
       " 'spine\\\\train_images\\\\100206310\\\\1012284084\\\\45.dcm',\n",
       " 'spine\\\\train_images\\\\100206310\\\\1012284084\\\\46.dcm',\n",
       " 'spine\\\\train_images\\\\100206310\\\\1012284084\\\\47.dcm',\n",
       " 'spine\\\\train_images\\\\100206310\\\\1012284084\\\\48.dcm',\n",
       " 'spine\\\\train_images\\\\100206310\\\\1012284084\\\\49.dcm',\n",
       " 'spine\\\\train_images\\\\100206310\\\\1012284084\\\\5.dcm',\n",
       " 'spine\\\\train_images\\\\100206310\\\\1012284084\\\\50.dcm',\n",
       " 'spine\\\\train_images\\\\100206310\\\\1012284084\\\\51.dcm',\n",
       " 'spine\\\\train_images\\\\100206310\\\\1012284084\\\\52.dcm',\n",
       " 'spine\\\\train_images\\\\100206310\\\\1012284084\\\\53.dcm',\n",
       " 'spine\\\\train_images\\\\100206310\\\\1012284084\\\\54.dcm',\n",
       " 'spine\\\\train_images\\\\100206310\\\\1012284084\\\\55.dcm',\n",
       " 'spine\\\\train_images\\\\100206310\\\\1012284084\\\\56.dcm',\n",
       " 'spine\\\\train_images\\\\100206310\\\\1012284084\\\\57.dcm',\n",
       " 'spine\\\\train_images\\\\100206310\\\\1012284084\\\\58.dcm',\n",
       " 'spine\\\\train_images\\\\100206310\\\\1012284084\\\\59.dcm',\n",
       " 'spine\\\\train_images\\\\100206310\\\\1012284084\\\\6.dcm',\n",
       " 'spine\\\\train_images\\\\100206310\\\\1012284084\\\\60.dcm',\n",
       " 'spine\\\\train_images\\\\100206310\\\\1012284084\\\\7.dcm',\n",
       " 'spine\\\\train_images\\\\100206310\\\\1012284084\\\\8.dcm',\n",
       " 'spine\\\\train_images\\\\100206310\\\\1012284084\\\\9.dcm',\n",
       " 'spine\\\\train_images\\\\100206310\\\\1792451510\\\\1.dcm',\n",
       " 'spine\\\\train_images\\\\100206310\\\\1792451510\\\\10.dcm',\n",
       " 'spine\\\\train_images\\\\100206310\\\\1792451510\\\\11.dcm',\n",
       " 'spine\\\\train_images\\\\100206310\\\\1792451510\\\\12.dcm',\n",
       " 'spine\\\\train_images\\\\100206310\\\\1792451510\\\\13.dcm',\n",
       " 'spine\\\\train_images\\\\100206310\\\\1792451510\\\\14.dcm',\n",
       " 'spine\\\\train_images\\\\100206310\\\\1792451510\\\\15.dcm',\n",
       " 'spine\\\\train_images\\\\100206310\\\\1792451510\\\\16.dcm',\n",
       " 'spine\\\\train_images\\\\100206310\\\\1792451510\\\\17.dcm',\n",
       " 'spine\\\\train_images\\\\100206310\\\\1792451510\\\\18.dcm',\n",
       " 'spine\\\\train_images\\\\100206310\\\\1792451510\\\\2.dcm',\n",
       " 'spine\\\\train_images\\\\100206310\\\\1792451510\\\\3.dcm',\n",
       " 'spine\\\\train_images\\\\100206310\\\\1792451510\\\\4.dcm',\n",
       " 'spine\\\\train_images\\\\100206310\\\\1792451510\\\\5.dcm',\n",
       " 'spine\\\\train_images\\\\100206310\\\\1792451510\\\\6.dcm',\n",
       " 'spine\\\\train_images\\\\100206310\\\\1792451510\\\\7.dcm',\n",
       " 'spine\\\\train_images\\\\100206310\\\\1792451510\\\\8.dcm',\n",
       " 'spine\\\\train_images\\\\100206310\\\\1792451510\\\\9.dcm',\n",
       " 'spine\\\\train_images\\\\100206310\\\\2092806862\\\\1.dcm',\n",
       " 'spine\\\\train_images\\\\100206310\\\\2092806862\\\\10.dcm',\n",
       " 'spine\\\\train_images\\\\100206310\\\\2092806862\\\\11.dcm',\n",
       " 'spine\\\\train_images\\\\100206310\\\\2092806862\\\\12.dcm',\n",
       " 'spine\\\\train_images\\\\100206310\\\\2092806862\\\\13.dcm',\n",
       " 'spine\\\\train_images\\\\100206310\\\\2092806862\\\\14.dcm',\n",
       " 'spine\\\\train_images\\\\100206310\\\\2092806862\\\\15.dcm',\n",
       " 'spine\\\\train_images\\\\100206310\\\\2092806862\\\\16.dcm',\n",
       " 'spine\\\\train_images\\\\100206310\\\\2092806862\\\\17.dcm',\n",
       " 'spine\\\\train_images\\\\100206310\\\\2092806862\\\\18.dcm',\n",
       " 'spine\\\\train_images\\\\100206310\\\\2092806862\\\\2.dcm',\n",
       " 'spine\\\\train_images\\\\100206310\\\\2092806862\\\\3.dcm',\n",
       " 'spine\\\\train_images\\\\100206310\\\\2092806862\\\\4.dcm',\n",
       " 'spine\\\\train_images\\\\100206310\\\\2092806862\\\\5.dcm',\n",
       " 'spine\\\\train_images\\\\100206310\\\\2092806862\\\\6.dcm',\n",
       " 'spine\\\\train_images\\\\100206310\\\\2092806862\\\\7.dcm',\n",
       " 'spine\\\\train_images\\\\100206310\\\\2092806862\\\\8.dcm',\n",
       " 'spine\\\\train_images\\\\100206310\\\\2092806862\\\\9.dcm',\n",
       " 'spine\\\\train_images\\\\1002894806\\\\1252873726\\\\1.dcm',\n",
       " 'spine\\\\train_images\\\\1002894806\\\\1252873726\\\\10.dcm',\n",
       " 'spine\\\\train_images\\\\1002894806\\\\1252873726\\\\11.dcm',\n",
       " 'spine\\\\train_images\\\\1002894806\\\\1252873726\\\\12.dcm',\n",
       " 'spine\\\\train_images\\\\1002894806\\\\1252873726\\\\13.dcm',\n",
       " 'spine\\\\train_images\\\\1002894806\\\\1252873726\\\\14.dcm',\n",
       " 'spine\\\\train_images\\\\1002894806\\\\1252873726\\\\15.dcm',\n",
       " 'spine\\\\train_images\\\\1002894806\\\\1252873726\\\\16.dcm',\n",
       " 'spine\\\\train_images\\\\1002894806\\\\1252873726\\\\17.dcm',\n",
       " 'spine\\\\train_images\\\\1002894806\\\\1252873726\\\\18.dcm',\n",
       " 'spine\\\\train_images\\\\1002894806\\\\1252873726\\\\19.dcm',\n",
       " 'spine\\\\train_images\\\\1002894806\\\\1252873726\\\\2.dcm',\n",
       " 'spine\\\\train_images\\\\1002894806\\\\1252873726\\\\20.dcm',\n",
       " 'spine\\\\train_images\\\\1002894806\\\\1252873726\\\\21.dcm',\n",
       " 'spine\\\\train_images\\\\1002894806\\\\1252873726\\\\22.dcm',\n",
       " 'spine\\\\train_images\\\\1002894806\\\\1252873726\\\\23.dcm',\n",
       " 'spine\\\\train_images\\\\1002894806\\\\1252873726\\\\24.dcm',\n",
       " 'spine\\\\train_images\\\\1002894806\\\\1252873726\\\\25.dcm',\n",
       " 'spine\\\\train_images\\\\1002894806\\\\1252873726\\\\26.dcm',\n",
       " 'spine\\\\train_images\\\\1002894806\\\\1252873726\\\\27.dcm',\n",
       " 'spine\\\\train_images\\\\1002894806\\\\1252873726\\\\28.dcm',\n",
       " 'spine\\\\train_images\\\\1002894806\\\\1252873726\\\\29.dcm',\n",
       " 'spine\\\\train_images\\\\1002894806\\\\1252873726\\\\3.dcm',\n",
       " 'spine\\\\train_images\\\\1002894806\\\\1252873726\\\\30.dcm',\n",
       " 'spine\\\\train_images\\\\1002894806\\\\1252873726\\\\31.dcm',\n",
       " 'spine\\\\train_images\\\\1002894806\\\\1252873726\\\\32.dcm',\n",
       " 'spine\\\\train_images\\\\1002894806\\\\1252873726\\\\33.dcm',\n",
       " 'spine\\\\train_images\\\\1002894806\\\\1252873726\\\\34.dcm',\n",
       " 'spine\\\\train_images\\\\1002894806\\\\1252873726\\\\35.dcm',\n",
       " 'spine\\\\train_images\\\\1002894806\\\\1252873726\\\\36.dcm',\n",
       " 'spine\\\\train_images\\\\1002894806\\\\1252873726\\\\37.dcm',\n",
       " 'spine\\\\train_images\\\\1002894806\\\\1252873726\\\\38.dcm',\n",
       " 'spine\\\\train_images\\\\1002894806\\\\1252873726\\\\39.dcm',\n",
       " 'spine\\\\train_images\\\\1002894806\\\\1252873726\\\\4.dcm',\n",
       " 'spine\\\\train_images\\\\1002894806\\\\1252873726\\\\40.dcm',\n",
       " 'spine\\\\train_images\\\\1002894806\\\\1252873726\\\\41.dcm',\n",
       " 'spine\\\\train_images\\\\1002894806\\\\1252873726\\\\42.dcm',\n",
       " 'spine\\\\train_images\\\\1002894806\\\\1252873726\\\\5.dcm',\n",
       " 'spine\\\\train_images\\\\1002894806\\\\1252873726\\\\6.dcm',\n",
       " 'spine\\\\train_images\\\\1002894806\\\\1252873726\\\\7.dcm',\n",
       " 'spine\\\\train_images\\\\1002894806\\\\1252873726\\\\8.dcm',\n",
       " 'spine\\\\train_images\\\\1002894806\\\\1252873726\\\\9.dcm',\n",
       " 'spine\\\\train_images\\\\1002894806\\\\801316590\\\\1.dcm',\n",
       " 'spine\\\\train_images\\\\1002894806\\\\801316590\\\\10.dcm',\n",
       " 'spine\\\\train_images\\\\1002894806\\\\801316590\\\\11.dcm',\n",
       " 'spine\\\\train_images\\\\1002894806\\\\801316590\\\\12.dcm',\n",
       " 'spine\\\\train_images\\\\1002894806\\\\801316590\\\\13.dcm',\n",
       " 'spine\\\\train_images\\\\1002894806\\\\801316590\\\\14.dcm',\n",
       " 'spine\\\\train_images\\\\1002894806\\\\801316590\\\\15.dcm',\n",
       " 'spine\\\\train_images\\\\1002894806\\\\801316590\\\\16.dcm',\n",
       " 'spine\\\\train_images\\\\1002894806\\\\801316590\\\\17.dcm',\n",
       " 'spine\\\\train_images\\\\1002894806\\\\801316590\\\\18.dcm',\n",
       " 'spine\\\\train_images\\\\1002894806\\\\801316590\\\\2.dcm',\n",
       " 'spine\\\\train_images\\\\1002894806\\\\801316590\\\\3.dcm',\n",
       " 'spine\\\\train_images\\\\1002894806\\\\801316590\\\\4.dcm',\n",
       " 'spine\\\\train_images\\\\1002894806\\\\801316590\\\\5.dcm',\n",
       " 'spine\\\\train_images\\\\1002894806\\\\801316590\\\\6.dcm',\n",
       " 'spine\\\\train_images\\\\1002894806\\\\801316590\\\\7.dcm',\n",
       " 'spine\\\\train_images\\\\1002894806\\\\801316590\\\\8.dcm',\n",
       " 'spine\\\\train_images\\\\1002894806\\\\801316590\\\\9.dcm',\n",
       " 'spine\\\\train_images\\\\1002894806\\\\866293114\\\\1.dcm',\n",
       " 'spine\\\\train_images\\\\1002894806\\\\866293114\\\\10.dcm',\n",
       " 'spine\\\\train_images\\\\1002894806\\\\866293114\\\\11.dcm',\n",
       " 'spine\\\\train_images\\\\1002894806\\\\866293114\\\\12.dcm',\n",
       " 'spine\\\\train_images\\\\1002894806\\\\866293114\\\\13.dcm',\n",
       " 'spine\\\\train_images\\\\1002894806\\\\866293114\\\\14.dcm',\n",
       " 'spine\\\\train_images\\\\1002894806\\\\866293114\\\\15.dcm',\n",
       " 'spine\\\\train_images\\\\1002894806\\\\866293114\\\\16.dcm',\n",
       " 'spine\\\\train_images\\\\1002894806\\\\866293114\\\\17.dcm',\n",
       " 'spine\\\\train_images\\\\1002894806\\\\866293114\\\\18.dcm',\n",
       " 'spine\\\\train_images\\\\1002894806\\\\866293114\\\\2.dcm',\n",
       " 'spine\\\\train_images\\\\1002894806\\\\866293114\\\\3.dcm',\n",
       " 'spine\\\\train_images\\\\1002894806\\\\866293114\\\\4.dcm',\n",
       " 'spine\\\\train_images\\\\1002894806\\\\866293114\\\\5.dcm',\n",
       " 'spine\\\\train_images\\\\1002894806\\\\866293114\\\\6.dcm',\n",
       " 'spine\\\\train_images\\\\1002894806\\\\866293114\\\\7.dcm',\n",
       " 'spine\\\\train_images\\\\1002894806\\\\866293114\\\\8.dcm',\n",
       " 'spine\\\\train_images\\\\1002894806\\\\866293114\\\\9.dcm',\n",
       " 'spine\\\\train_images\\\\1004726367\\\\1709080005\\\\1.dcm',\n",
       " 'spine\\\\train_images\\\\1004726367\\\\1709080005\\\\10.dcm',\n",
       " 'spine\\\\train_images\\\\1004726367\\\\1709080005\\\\11.dcm',\n",
       " 'spine\\\\train_images\\\\1004726367\\\\1709080005\\\\12.dcm',\n",
       " 'spine\\\\train_images\\\\1004726367\\\\1709080005\\\\13.dcm',\n",
       " 'spine\\\\train_images\\\\1004726367\\\\1709080005\\\\14.dcm',\n",
       " 'spine\\\\train_images\\\\1004726367\\\\1709080005\\\\15.dcm',\n",
       " 'spine\\\\train_images\\\\1004726367\\\\1709080005\\\\16.dcm',\n",
       " 'spine\\\\train_images\\\\1004726367\\\\1709080005\\\\17.dcm',\n",
       " 'spine\\\\train_images\\\\1004726367\\\\1709080005\\\\18.dcm',\n",
       " 'spine\\\\train_images\\\\1004726367\\\\1709080005\\\\2.dcm',\n",
       " 'spine\\\\train_images\\\\1004726367\\\\1709080005\\\\3.dcm',\n",
       " 'spine\\\\train_images\\\\1004726367\\\\1709080005\\\\4.dcm',\n",
       " 'spine\\\\train_images\\\\1004726367\\\\1709080005\\\\5.dcm',\n",
       " 'spine\\\\train_images\\\\1004726367\\\\1709080005\\\\6.dcm',\n",
       " 'spine\\\\train_images\\\\1004726367\\\\1709080005\\\\7.dcm',\n",
       " 'spine\\\\train_images\\\\1004726367\\\\1709080005\\\\8.dcm',\n",
       " 'spine\\\\train_images\\\\1004726367\\\\1709080005\\\\9.dcm',\n",
       " 'spine\\\\train_images\\\\1004726367\\\\2526352865\\\\1.dcm',\n",
       " 'spine\\\\train_images\\\\1004726367\\\\2526352865\\\\10.dcm',\n",
       " 'spine\\\\train_images\\\\1004726367\\\\2526352865\\\\11.dcm',\n",
       " 'spine\\\\train_images\\\\1004726367\\\\2526352865\\\\12.dcm',\n",
       " 'spine\\\\train_images\\\\1004726367\\\\2526352865\\\\13.dcm',\n",
       " 'spine\\\\train_images\\\\1004726367\\\\2526352865\\\\14.dcm',\n",
       " 'spine\\\\train_images\\\\1004726367\\\\2526352865\\\\15.dcm',\n",
       " 'spine\\\\train_images\\\\1004726367\\\\2526352865\\\\16.dcm',\n",
       " 'spine\\\\train_images\\\\1004726367\\\\2526352865\\\\17.dcm',\n",
       " 'spine\\\\train_images\\\\1004726367\\\\2526352865\\\\18.dcm',\n",
       " 'spine\\\\train_images\\\\1004726367\\\\2526352865\\\\2.dcm',\n",
       " 'spine\\\\train_images\\\\1004726367\\\\2526352865\\\\3.dcm',\n",
       " 'spine\\\\train_images\\\\1004726367\\\\2526352865\\\\4.dcm',\n",
       " 'spine\\\\train_images\\\\1004726367\\\\2526352865\\\\5.dcm',\n",
       " 'spine\\\\train_images\\\\1004726367\\\\2526352865\\\\6.dcm',\n",
       " 'spine\\\\train_images\\\\1004726367\\\\2526352865\\\\7.dcm',\n",
       " 'spine\\\\train_images\\\\1004726367\\\\2526352865\\\\8.dcm',\n",
       " 'spine\\\\train_images\\\\1004726367\\\\2526352865\\\\9.dcm',\n",
       " 'spine\\\\train_images\\\\1004726367\\\\992525108\\\\1.dcm',\n",
       " 'spine\\\\train_images\\\\1004726367\\\\992525108\\\\10.dcm',\n",
       " 'spine\\\\train_images\\\\1004726367\\\\992525108\\\\11.dcm',\n",
       " 'spine\\\\train_images\\\\1004726367\\\\992525108\\\\12.dcm',\n",
       " 'spine\\\\train_images\\\\1004726367\\\\992525108\\\\13.dcm',\n",
       " 'spine\\\\train_images\\\\1004726367\\\\992525108\\\\14.dcm',\n",
       " 'spine\\\\train_images\\\\1004726367\\\\992525108\\\\15.dcm',\n",
       " 'spine\\\\train_images\\\\1004726367\\\\992525108\\\\16.dcm',\n",
       " 'spine\\\\train_images\\\\1004726367\\\\992525108\\\\17.dcm',\n",
       " 'spine\\\\train_images\\\\1004726367\\\\992525108\\\\18.dcm',\n",
       " 'spine\\\\train_images\\\\1004726367\\\\992525108\\\\19.dcm',\n",
       " 'spine\\\\train_images\\\\1004726367\\\\992525108\\\\2.dcm',\n",
       " 'spine\\\\train_images\\\\1004726367\\\\992525108\\\\20.dcm',\n",
       " 'spine\\\\train_images\\\\1004726367\\\\992525108\\\\21.dcm',\n",
       " 'spine\\\\train_images\\\\1004726367\\\\992525108\\\\22.dcm',\n",
       " 'spine\\\\train_images\\\\1004726367\\\\992525108\\\\23.dcm',\n",
       " 'spine\\\\train_images\\\\1004726367\\\\992525108\\\\24.dcm',\n",
       " 'spine\\\\train_images\\\\1004726367\\\\992525108\\\\25.dcm',\n",
       " 'spine\\\\train_images\\\\1004726367\\\\992525108\\\\26.dcm',\n",
       " 'spine\\\\train_images\\\\1004726367\\\\992525108\\\\27.dcm',\n",
       " 'spine\\\\train_images\\\\1004726367\\\\992525108\\\\28.dcm',\n",
       " 'spine\\\\train_images\\\\1004726367\\\\992525108\\\\29.dcm',\n",
       " 'spine\\\\train_images\\\\1004726367\\\\992525108\\\\3.dcm',\n",
       " 'spine\\\\train_images\\\\1004726367\\\\992525108\\\\30.dcm',\n",
       " 'spine\\\\train_images\\\\1004726367\\\\992525108\\\\31.dcm',\n",
       " 'spine\\\\train_images\\\\1004726367\\\\992525108\\\\32.dcm',\n",
       " 'spine\\\\train_images\\\\1004726367\\\\992525108\\\\33.dcm',\n",
       " 'spine\\\\train_images\\\\1004726367\\\\992525108\\\\34.dcm',\n",
       " 'spine\\\\train_images\\\\1004726367\\\\992525108\\\\35.dcm',\n",
       " 'spine\\\\train_images\\\\1004726367\\\\992525108\\\\36.dcm',\n",
       " 'spine\\\\train_images\\\\1004726367\\\\992525108\\\\37.dcm',\n",
       " 'spine\\\\train_images\\\\1004726367\\\\992525108\\\\38.dcm',\n",
       " 'spine\\\\train_images\\\\1004726367\\\\992525108\\\\39.dcm',\n",
       " 'spine\\\\train_images\\\\1004726367\\\\992525108\\\\4.dcm',\n",
       " 'spine\\\\train_images\\\\1004726367\\\\992525108\\\\40.dcm',\n",
       " 'spine\\\\train_images\\\\1004726367\\\\992525108\\\\41.dcm',\n",
       " 'spine\\\\train_images\\\\1004726367\\\\992525108\\\\42.dcm',\n",
       " 'spine\\\\train_images\\\\1004726367\\\\992525108\\\\43.dcm',\n",
       " 'spine\\\\train_images\\\\1004726367\\\\992525108\\\\5.dcm',\n",
       " 'spine\\\\train_images\\\\1004726367\\\\992525108\\\\6.dcm',\n",
       " 'spine\\\\train_images\\\\1004726367\\\\992525108\\\\7.dcm',\n",
       " 'spine\\\\train_images\\\\1004726367\\\\992525108\\\\8.dcm',\n",
       " 'spine\\\\train_images\\\\1004726367\\\\992525108\\\\9.dcm',\n",
       " 'spine\\\\train_images\\\\1008446160\\\\2539455828\\\\1.dcm',\n",
       " 'spine\\\\train_images\\\\1008446160\\\\2539455828\\\\10.dcm',\n",
       " 'spine\\\\train_images\\\\1008446160\\\\2539455828\\\\11.dcm',\n",
       " 'spine\\\\train_images\\\\1008446160\\\\2539455828\\\\12.dcm',\n",
       " 'spine\\\\train_images\\\\1008446160\\\\2539455828\\\\2.dcm',\n",
       " 'spine\\\\train_images\\\\1008446160\\\\2539455828\\\\3.dcm',\n",
       " 'spine\\\\train_images\\\\1008446160\\\\2539455828\\\\4.dcm',\n",
       " 'spine\\\\train_images\\\\1008446160\\\\2539455828\\\\5.dcm',\n",
       " 'spine\\\\train_images\\\\1008446160\\\\2539455828\\\\6.dcm',\n",
       " 'spine\\\\train_images\\\\1008446160\\\\2539455828\\\\7.dcm',\n",
       " 'spine\\\\train_images\\\\1008446160\\\\2539455828\\\\8.dcm',\n",
       " 'spine\\\\train_images\\\\1008446160\\\\2539455828\\\\9.dcm',\n",
       " 'spine\\\\train_images\\\\1008446160\\\\2720025375\\\\1.dcm',\n",
       " 'spine\\\\train_images\\\\1008446160\\\\2720025375\\\\10.dcm',\n",
       " 'spine\\\\train_images\\\\1008446160\\\\2720025375\\\\11.dcm',\n",
       " 'spine\\\\train_images\\\\1008446160\\\\2720025375\\\\12.dcm',\n",
       " 'spine\\\\train_images\\\\1008446160\\\\2720025375\\\\2.dcm',\n",
       " 'spine\\\\train_images\\\\1008446160\\\\2720025375\\\\3.dcm',\n",
       " 'spine\\\\train_images\\\\1008446160\\\\2720025375\\\\4.dcm',\n",
       " 'spine\\\\train_images\\\\1008446160\\\\2720025375\\\\5.dcm',\n",
       " 'spine\\\\train_images\\\\1008446160\\\\2720025375\\\\6.dcm',\n",
       " 'spine\\\\train_images\\\\1008446160\\\\2720025375\\\\7.dcm',\n",
       " 'spine\\\\train_images\\\\1008446160\\\\2720025375\\\\8.dcm',\n",
       " 'spine\\\\train_images\\\\1008446160\\\\2720025375\\\\9.dcm',\n",
       " 'spine\\\\train_images\\\\1008446160\\\\3775545364\\\\1.dcm',\n",
       " 'spine\\\\train_images\\\\1008446160\\\\3775545364\\\\10.dcm',\n",
       " 'spine\\\\train_images\\\\1008446160\\\\3775545364\\\\11.dcm',\n",
       " 'spine\\\\train_images\\\\1008446160\\\\3775545364\\\\12.dcm',\n",
       " 'spine\\\\train_images\\\\1008446160\\\\3775545364\\\\13.dcm',\n",
       " 'spine\\\\train_images\\\\1008446160\\\\3775545364\\\\14.dcm',\n",
       " 'spine\\\\train_images\\\\1008446160\\\\3775545364\\\\15.dcm',\n",
       " 'spine\\\\train_images\\\\1008446160\\\\3775545364\\\\16.dcm',\n",
       " 'spine\\\\train_images\\\\1008446160\\\\3775545364\\\\17.dcm',\n",
       " 'spine\\\\train_images\\\\1008446160\\\\3775545364\\\\18.dcm',\n",
       " 'spine\\\\train_images\\\\1008446160\\\\3775545364\\\\19.dcm',\n",
       " 'spine\\\\train_images\\\\1008446160\\\\3775545364\\\\2.dcm',\n",
       " 'spine\\\\train_images\\\\1008446160\\\\3775545364\\\\20.dcm',\n",
       " 'spine\\\\train_images\\\\1008446160\\\\3775545364\\\\21.dcm',\n",
       " 'spine\\\\train_images\\\\1008446160\\\\3775545364\\\\22.dcm',\n",
       " 'spine\\\\train_images\\\\1008446160\\\\3775545364\\\\23.dcm',\n",
       " 'spine\\\\train_images\\\\1008446160\\\\3775545364\\\\24.dcm',\n",
       " 'spine\\\\train_images\\\\1008446160\\\\3775545364\\\\3.dcm',\n",
       " 'spine\\\\train_images\\\\1008446160\\\\3775545364\\\\4.dcm',\n",
       " 'spine\\\\train_images\\\\1008446160\\\\3775545364\\\\5.dcm',\n",
       " 'spine\\\\train_images\\\\1008446160\\\\3775545364\\\\6.dcm',\n",
       " 'spine\\\\train_images\\\\1008446160\\\\3775545364\\\\7.dcm',\n",
       " 'spine\\\\train_images\\\\1008446160\\\\3775545364\\\\8.dcm',\n",
       " 'spine\\\\train_images\\\\1008446160\\\\3775545364\\\\9.dcm',\n",
       " 'spine\\\\train_images\\\\1009445512\\\\1705522953\\\\1.dcm',\n",
       " 'spine\\\\train_images\\\\1009445512\\\\1705522953\\\\10.dcm',\n",
       " 'spine\\\\train_images\\\\1009445512\\\\1705522953\\\\11.dcm',\n",
       " 'spine\\\\train_images\\\\1009445512\\\\1705522953\\\\12.dcm',\n",
       " 'spine\\\\train_images\\\\1009445512\\\\1705522953\\\\13.dcm',\n",
       " 'spine\\\\train_images\\\\1009445512\\\\1705522953\\\\14.dcm',\n",
       " 'spine\\\\train_images\\\\1009445512\\\\1705522953\\\\15.dcm',\n",
       " 'spine\\\\train_images\\\\1009445512\\\\1705522953\\\\16.dcm',\n",
       " 'spine\\\\train_images\\\\1009445512\\\\1705522953\\\\17.dcm',\n",
       " 'spine\\\\train_images\\\\1009445512\\\\1705522953\\\\18.dcm',\n",
       " 'spine\\\\train_images\\\\1009445512\\\\1705522953\\\\19.dcm',\n",
       " 'spine\\\\train_images\\\\1009445512\\\\1705522953\\\\2.dcm',\n",
       " 'spine\\\\train_images\\\\1009445512\\\\1705522953\\\\20.dcm',\n",
       " 'spine\\\\train_images\\\\1009445512\\\\1705522953\\\\21.dcm',\n",
       " 'spine\\\\train_images\\\\1009445512\\\\1705522953\\\\22.dcm',\n",
       " 'spine\\\\train_images\\\\1009445512\\\\1705522953\\\\23.dcm',\n",
       " 'spine\\\\train_images\\\\1009445512\\\\1705522953\\\\24.dcm',\n",
       " 'spine\\\\train_images\\\\1009445512\\\\1705522953\\\\25.dcm',\n",
       " 'spine\\\\train_images\\\\1009445512\\\\1705522953\\\\3.dcm',\n",
       " 'spine\\\\train_images\\\\1009445512\\\\1705522953\\\\4.dcm',\n",
       " 'spine\\\\train_images\\\\1009445512\\\\1705522953\\\\5.dcm',\n",
       " 'spine\\\\train_images\\\\1009445512\\\\1705522953\\\\6.dcm',\n",
       " 'spine\\\\train_images\\\\1009445512\\\\1705522953\\\\7.dcm',\n",
       " 'spine\\\\train_images\\\\1009445512\\\\1705522953\\\\8.dcm',\n",
       " 'spine\\\\train_images\\\\1009445512\\\\1705522953\\\\9.dcm',\n",
       " 'spine\\\\train_images\\\\1009445512\\\\2883858173\\\\1.dcm',\n",
       " 'spine\\\\train_images\\\\1009445512\\\\2883858173\\\\10.dcm',\n",
       " 'spine\\\\train_images\\\\1009445512\\\\2883858173\\\\11.dcm',\n",
       " 'spine\\\\train_images\\\\1009445512\\\\2883858173\\\\12.dcm',\n",
       " 'spine\\\\train_images\\\\1009445512\\\\2883858173\\\\13.dcm',\n",
       " 'spine\\\\train_images\\\\1009445512\\\\2883858173\\\\14.dcm',\n",
       " 'spine\\\\train_images\\\\1009445512\\\\2883858173\\\\15.dcm',\n",
       " 'spine\\\\train_images\\\\1009445512\\\\2883858173\\\\16.dcm',\n",
       " 'spine\\\\train_images\\\\1009445512\\\\2883858173\\\\17.dcm',\n",
       " 'spine\\\\train_images\\\\1009445512\\\\2883858173\\\\18.dcm',\n",
       " 'spine\\\\train_images\\\\1009445512\\\\2883858173\\\\19.dcm',\n",
       " 'spine\\\\train_images\\\\1009445512\\\\2883858173\\\\2.dcm',\n",
       " 'spine\\\\train_images\\\\1009445512\\\\2883858173\\\\20.dcm',\n",
       " 'spine\\\\train_images\\\\1009445512\\\\2883858173\\\\21.dcm',\n",
       " 'spine\\\\train_images\\\\1009445512\\\\2883858173\\\\22.dcm',\n",
       " 'spine\\\\train_images\\\\1009445512\\\\2883858173\\\\23.dcm',\n",
       " 'spine\\\\train_images\\\\1009445512\\\\2883858173\\\\3.dcm',\n",
       " 'spine\\\\train_images\\\\1009445512\\\\2883858173\\\\4.dcm',\n",
       " 'spine\\\\train_images\\\\1009445512\\\\2883858173\\\\5.dcm',\n",
       " 'spine\\\\train_images\\\\1009445512\\\\2883858173\\\\6.dcm',\n",
       " 'spine\\\\train_images\\\\1009445512\\\\2883858173\\\\7.dcm',\n",
       " 'spine\\\\train_images\\\\1009445512\\\\2883858173\\\\8.dcm',\n",
       " 'spine\\\\train_images\\\\1009445512\\\\2883858173\\\\9.dcm',\n",
       " 'spine\\\\train_images\\\\1009445512\\\\3088482668\\\\1.dcm',\n",
       " 'spine\\\\train_images\\\\1009445512\\\\3088482668\\\\10.dcm',\n",
       " 'spine\\\\train_images\\\\1009445512\\\\3088482668\\\\11.dcm',\n",
       " 'spine\\\\train_images\\\\1009445512\\\\3088482668\\\\12.dcm',\n",
       " 'spine\\\\train_images\\\\1009445512\\\\3088482668\\\\13.dcm',\n",
       " 'spine\\\\train_images\\\\1009445512\\\\3088482668\\\\14.dcm',\n",
       " 'spine\\\\train_images\\\\1009445512\\\\3088482668\\\\15.dcm',\n",
       " 'spine\\\\train_images\\\\1009445512\\\\3088482668\\\\16.dcm',\n",
       " 'spine\\\\train_images\\\\1009445512\\\\3088482668\\\\17.dcm',\n",
       " 'spine\\\\train_images\\\\1009445512\\\\3088482668\\\\18.dcm',\n",
       " 'spine\\\\train_images\\\\1009445512\\\\3088482668\\\\19.dcm',\n",
       " 'spine\\\\train_images\\\\1009445512\\\\3088482668\\\\2.dcm',\n",
       " 'spine\\\\train_images\\\\1009445512\\\\3088482668\\\\20.dcm',\n",
       " 'spine\\\\train_images\\\\1009445512\\\\3088482668\\\\21.dcm',\n",
       " 'spine\\\\train_images\\\\1009445512\\\\3088482668\\\\22.dcm',\n",
       " 'spine\\\\train_images\\\\1009445512\\\\3088482668\\\\23.dcm',\n",
       " 'spine\\\\train_images\\\\1009445512\\\\3088482668\\\\3.dcm',\n",
       " 'spine\\\\train_images\\\\1009445512\\\\3088482668\\\\4.dcm',\n",
       " 'spine\\\\train_images\\\\1009445512\\\\3088482668\\\\5.dcm',\n",
       " 'spine\\\\train_images\\\\1009445512\\\\3088482668\\\\6.dcm',\n",
       " 'spine\\\\train_images\\\\1009445512\\\\3088482668\\\\7.dcm',\n",
       " 'spine\\\\train_images\\\\1009445512\\\\3088482668\\\\8.dcm',\n",
       " 'spine\\\\train_images\\\\1009445512\\\\3088482668\\\\9.dcm',\n",
       " 'spine\\\\train_images\\\\1009445512\\\\4018190332\\\\1.dcm',\n",
       " 'spine\\\\train_images\\\\1009445512\\\\4018190332\\\\10.dcm',\n",
       " 'spine\\\\train_images\\\\1009445512\\\\4018190332\\\\11.dcm',\n",
       " 'spine\\\\train_images\\\\1009445512\\\\4018190332\\\\12.dcm',\n",
       " 'spine\\\\train_images\\\\1009445512\\\\4018190332\\\\13.dcm',\n",
       " 'spine\\\\train_images\\\\1009445512\\\\4018190332\\\\14.dcm',\n",
       " 'spine\\\\train_images\\\\1009445512\\\\4018190332\\\\15.dcm',\n",
       " 'spine\\\\train_images\\\\1009445512\\\\4018190332\\\\16.dcm',\n",
       " 'spine\\\\train_images\\\\1009445512\\\\4018190332\\\\17.dcm',\n",
       " 'spine\\\\train_images\\\\1009445512\\\\4018190332\\\\18.dcm',\n",
       " 'spine\\\\train_images\\\\1009445512\\\\4018190332\\\\19.dcm',\n",
       " 'spine\\\\train_images\\\\1009445512\\\\4018190332\\\\2.dcm',\n",
       " 'spine\\\\train_images\\\\1009445512\\\\4018190332\\\\20.dcm',\n",
       " 'spine\\\\train_images\\\\1009445512\\\\4018190332\\\\21.dcm',\n",
       " 'spine\\\\train_images\\\\1009445512\\\\4018190332\\\\22.dcm',\n",
       " 'spine\\\\train_images\\\\1009445512\\\\4018190332\\\\23.dcm',\n",
       " 'spine\\\\train_images\\\\1009445512\\\\4018190332\\\\24.dcm',\n",
       " 'spine\\\\train_images\\\\1009445512\\\\4018190332\\\\25.dcm',\n",
       " 'spine\\\\train_images\\\\1009445512\\\\4018190332\\\\3.dcm',\n",
       " 'spine\\\\train_images\\\\1009445512\\\\4018190332\\\\4.dcm',\n",
       " 'spine\\\\train_images\\\\1009445512\\\\4018190332\\\\5.dcm',\n",
       " 'spine\\\\train_images\\\\1009445512\\\\4018190332\\\\6.dcm',\n",
       " 'spine\\\\train_images\\\\1009445512\\\\4018190332\\\\7.dcm',\n",
       " 'spine\\\\train_images\\\\1009445512\\\\4018190332\\\\8.dcm',\n",
       " 'spine\\\\train_images\\\\1009445512\\\\4018190332\\\\9.dcm',\n",
       " 'spine\\\\train_images\\\\1009905322\\\\1243755365\\\\1.dcm',\n",
       " 'spine\\\\train_images\\\\1009905322\\\\1243755365\\\\10.dcm',\n",
       " 'spine\\\\train_images\\\\1009905322\\\\1243755365\\\\11.dcm',\n",
       " 'spine\\\\train_images\\\\1009905322\\\\1243755365\\\\12.dcm',\n",
       " 'spine\\\\train_images\\\\1009905322\\\\1243755365\\\\13.dcm',\n",
       " 'spine\\\\train_images\\\\1009905322\\\\1243755365\\\\14.dcm',\n",
       " 'spine\\\\train_images\\\\1009905322\\\\1243755365\\\\15.dcm',\n",
       " 'spine\\\\train_images\\\\1009905322\\\\1243755365\\\\2.dcm',\n",
       " 'spine\\\\train_images\\\\1009905322\\\\1243755365\\\\3.dcm',\n",
       " 'spine\\\\train_images\\\\1009905322\\\\1243755365\\\\4.dcm',\n",
       " 'spine\\\\train_images\\\\1009905322\\\\1243755365\\\\5.dcm',\n",
       " 'spine\\\\train_images\\\\1009905322\\\\1243755365\\\\6.dcm',\n",
       " 'spine\\\\train_images\\\\1009905322\\\\1243755365\\\\7.dcm',\n",
       " 'spine\\\\train_images\\\\1009905322\\\\1243755365\\\\8.dcm',\n",
       " 'spine\\\\train_images\\\\1009905322\\\\1243755365\\\\9.dcm',\n",
       " 'spine\\\\train_images\\\\1009905322\\\\1870630737\\\\1.dcm',\n",
       " 'spine\\\\train_images\\\\1009905322\\\\1870630737\\\\10.dcm',\n",
       " 'spine\\\\train_images\\\\1009905322\\\\1870630737\\\\11.dcm',\n",
       " 'spine\\\\train_images\\\\1009905322\\\\1870630737\\\\12.dcm',\n",
       " 'spine\\\\train_images\\\\1009905322\\\\1870630737\\\\13.dcm',\n",
       " 'spine\\\\train_images\\\\1009905322\\\\1870630737\\\\14.dcm',\n",
       " 'spine\\\\train_images\\\\1009905322\\\\1870630737\\\\15.dcm',\n",
       " 'spine\\\\train_images\\\\1009905322\\\\1870630737\\\\16.dcm',\n",
       " 'spine\\\\train_images\\\\1009905322\\\\1870630737\\\\17.dcm',\n",
       " 'spine\\\\train_images\\\\1009905322\\\\1870630737\\\\18.dcm',\n",
       " 'spine\\\\train_images\\\\1009905322\\\\1870630737\\\\19.dcm',\n",
       " 'spine\\\\train_images\\\\1009905322\\\\1870630737\\\\2.dcm',\n",
       " 'spine\\\\train_images\\\\1009905322\\\\1870630737\\\\20.dcm',\n",
       " 'spine\\\\train_images\\\\1009905322\\\\1870630737\\\\21.dcm',\n",
       " 'spine\\\\train_images\\\\1009905322\\\\1870630737\\\\22.dcm',\n",
       " 'spine\\\\train_images\\\\1009905322\\\\1870630737\\\\23.dcm',\n",
       " 'spine\\\\train_images\\\\1009905322\\\\1870630737\\\\24.dcm',\n",
       " 'spine\\\\train_images\\\\1009905322\\\\1870630737\\\\25.dcm',\n",
       " 'spine\\\\train_images\\\\1009905322\\\\1870630737\\\\26.dcm',\n",
       " 'spine\\\\train_images\\\\1009905322\\\\1870630737\\\\27.dcm',\n",
       " 'spine\\\\train_images\\\\1009905322\\\\1870630737\\\\28.dcm',\n",
       " 'spine\\\\train_images\\\\1009905322\\\\1870630737\\\\29.dcm',\n",
       " 'spine\\\\train_images\\\\1009905322\\\\1870630737\\\\3.dcm',\n",
       " 'spine\\\\train_images\\\\1009905322\\\\1870630737\\\\30.dcm',\n",
       " 'spine\\\\train_images\\\\1009905322\\\\1870630737\\\\31.dcm',\n",
       " 'spine\\\\train_images\\\\1009905322\\\\1870630737\\\\32.dcm',\n",
       " 'spine\\\\train_images\\\\1009905322\\\\1870630737\\\\33.dcm',\n",
       " 'spine\\\\train_images\\\\1009905322\\\\1870630737\\\\34.dcm',\n",
       " 'spine\\\\train_images\\\\1009905322\\\\1870630737\\\\35.dcm',\n",
       " 'spine\\\\train_images\\\\1009905322\\\\1870630737\\\\36.dcm',\n",
       " 'spine\\\\train_images\\\\1009905322\\\\1870630737\\\\37.dcm',\n",
       " 'spine\\\\train_images\\\\1009905322\\\\1870630737\\\\38.dcm',\n",
       " 'spine\\\\train_images\\\\1009905322\\\\1870630737\\\\39.dcm',\n",
       " 'spine\\\\train_images\\\\1009905322\\\\1870630737\\\\4.dcm',\n",
       " 'spine\\\\train_images\\\\1009905322\\\\1870630737\\\\40.dcm',\n",
       " 'spine\\\\train_images\\\\1009905322\\\\1870630737\\\\41.dcm',\n",
       " 'spine\\\\train_images\\\\1009905322\\\\1870630737\\\\42.dcm',\n",
       " 'spine\\\\train_images\\\\1009905322\\\\1870630737\\\\43.dcm',\n",
       " 'spine\\\\train_images\\\\1009905322\\\\1870630737\\\\44.dcm',\n",
       " 'spine\\\\train_images\\\\1009905322\\\\1870630737\\\\45.dcm',\n",
       " 'spine\\\\train_images\\\\1009905322\\\\1870630737\\\\5.dcm',\n",
       " 'spine\\\\train_images\\\\1009905322\\\\1870630737\\\\6.dcm',\n",
       " 'spine\\\\train_images\\\\1009905322\\\\1870630737\\\\7.dcm',\n",
       " 'spine\\\\train_images\\\\1009905322\\\\1870630737\\\\8.dcm',\n",
       " 'spine\\\\train_images\\\\1009905322\\\\1870630737\\\\9.dcm',\n",
       " 'spine\\\\train_images\\\\1009905322\\\\3461716915\\\\1.dcm',\n",
       " 'spine\\\\train_images\\\\1009905322\\\\3461716915\\\\10.dcm',\n",
       " 'spine\\\\train_images\\\\1009905322\\\\3461716915\\\\11.dcm',\n",
       " 'spine\\\\train_images\\\\1009905322\\\\3461716915\\\\12.dcm',\n",
       " 'spine\\\\train_images\\\\1009905322\\\\3461716915\\\\13.dcm',\n",
       " 'spine\\\\train_images\\\\1009905322\\\\3461716915\\\\14.dcm',\n",
       " 'spine\\\\train_images\\\\1009905322\\\\3461716915\\\\15.dcm',\n",
       " 'spine\\\\train_images\\\\1009905322\\\\3461716915\\\\2.dcm',\n",
       " 'spine\\\\train_images\\\\1009905322\\\\3461716915\\\\3.dcm',\n",
       " 'spine\\\\train_images\\\\1009905322\\\\3461716915\\\\4.dcm',\n",
       " 'spine\\\\train_images\\\\1009905322\\\\3461716915\\\\5.dcm',\n",
       " 'spine\\\\train_images\\\\1009905322\\\\3461716915\\\\6.dcm',\n",
       " 'spine\\\\train_images\\\\1009905322\\\\3461716915\\\\7.dcm',\n",
       " 'spine\\\\train_images\\\\1009905322\\\\3461716915\\\\8.dcm',\n",
       " 'spine\\\\train_images\\\\1009905322\\\\3461716915\\\\9.dcm',\n",
       " 'spine\\\\train_images\\\\1012375618\\\\352098527\\\\1.dcm',\n",
       " 'spine\\\\train_images\\\\1012375618\\\\352098527\\\\10.dcm',\n",
       " 'spine\\\\train_images\\\\1012375618\\\\352098527\\\\11.dcm',\n",
       " 'spine\\\\train_images\\\\1012375618\\\\352098527\\\\12.dcm',\n",
       " 'spine\\\\train_images\\\\1012375618\\\\352098527\\\\13.dcm',\n",
       " 'spine\\\\train_images\\\\1012375618\\\\352098527\\\\14.dcm',\n",
       " 'spine\\\\train_images\\\\1012375618\\\\352098527\\\\15.dcm',\n",
       " 'spine\\\\train_images\\\\1012375618\\\\352098527\\\\16.dcm',\n",
       " 'spine\\\\train_images\\\\1012375618\\\\352098527\\\\17.dcm',\n",
       " 'spine\\\\train_images\\\\1012375618\\\\352098527\\\\2.dcm',\n",
       " 'spine\\\\train_images\\\\1012375618\\\\352098527\\\\3.dcm',\n",
       " 'spine\\\\train_images\\\\1012375618\\\\352098527\\\\4.dcm',\n",
       " 'spine\\\\train_images\\\\1012375618\\\\352098527\\\\5.dcm',\n",
       " 'spine\\\\train_images\\\\1012375618\\\\352098527\\\\6.dcm',\n",
       " 'spine\\\\train_images\\\\1012375618\\\\352098527\\\\7.dcm',\n",
       " 'spine\\\\train_images\\\\1012375618\\\\352098527\\\\8.dcm',\n",
       " 'spine\\\\train_images\\\\1012375618\\\\352098527\\\\9.dcm',\n",
       " 'spine\\\\train_images\\\\1012375618\\\\4014890929\\\\1.dcm',\n",
       " 'spine\\\\train_images\\\\1012375618\\\\4014890929\\\\10.dcm',\n",
       " 'spine\\\\train_images\\\\1012375618\\\\4014890929\\\\11.dcm',\n",
       " 'spine\\\\train_images\\\\1012375618\\\\4014890929\\\\12.dcm',\n",
       " 'spine\\\\train_images\\\\1012375618\\\\4014890929\\\\13.dcm',\n",
       " 'spine\\\\train_images\\\\1012375618\\\\4014890929\\\\14.dcm',\n",
       " 'spine\\\\train_images\\\\1012375618\\\\4014890929\\\\15.dcm',\n",
       " 'spine\\\\train_images\\\\1012375618\\\\4014890929\\\\16.dcm',\n",
       " 'spine\\\\train_images\\\\1012375618\\\\4014890929\\\\17.dcm',\n",
       " 'spine\\\\train_images\\\\1012375618\\\\4014890929\\\\2.dcm',\n",
       " 'spine\\\\train_images\\\\1012375618\\\\4014890929\\\\3.dcm',\n",
       " 'spine\\\\train_images\\\\1012375618\\\\4014890929\\\\4.dcm',\n",
       " 'spine\\\\train_images\\\\1012375618\\\\4014890929\\\\5.dcm',\n",
       " 'spine\\\\train_images\\\\1012375618\\\\4014890929\\\\6.dcm',\n",
       " 'spine\\\\train_images\\\\1012375618\\\\4014890929\\\\7.dcm',\n",
       " 'spine\\\\train_images\\\\1012375618\\\\4014890929\\\\8.dcm',\n",
       " 'spine\\\\train_images\\\\1012375618\\\\4014890929\\\\9.dcm',\n",
       " 'spine\\\\train_images\\\\1012375618\\\\588002243\\\\1.dcm',\n",
       " 'spine\\\\train_images\\\\1012375618\\\\588002243\\\\10.dcm',\n",
       " 'spine\\\\train_images\\\\1012375618\\\\588002243\\\\11.dcm',\n",
       " 'spine\\\\train_images\\\\1012375618\\\\588002243\\\\12.dcm',\n",
       " 'spine\\\\train_images\\\\1012375618\\\\588002243\\\\13.dcm',\n",
       " 'spine\\\\train_images\\\\1012375618\\\\588002243\\\\14.dcm',\n",
       " 'spine\\\\train_images\\\\1012375618\\\\588002243\\\\15.dcm',\n",
       " 'spine\\\\train_images\\\\1012375618\\\\588002243\\\\16.dcm',\n",
       " 'spine\\\\train_images\\\\1012375618\\\\588002243\\\\17.dcm',\n",
       " 'spine\\\\train_images\\\\1012375618\\\\588002243\\\\18.dcm',\n",
       " 'spine\\\\train_images\\\\1012375618\\\\588002243\\\\19.dcm',\n",
       " 'spine\\\\train_images\\\\1012375618\\\\588002243\\\\2.dcm',\n",
       " 'spine\\\\train_images\\\\1012375618\\\\588002243\\\\20.dcm',\n",
       " 'spine\\\\train_images\\\\1012375618\\\\588002243\\\\21.dcm',\n",
       " 'spine\\\\train_images\\\\1012375618\\\\588002243\\\\22.dcm',\n",
       " 'spine\\\\train_images\\\\1012375618\\\\588002243\\\\23.dcm',\n",
       " 'spine\\\\train_images\\\\1012375618\\\\588002243\\\\24.dcm',\n",
       " 'spine\\\\train_images\\\\1012375618\\\\588002243\\\\25.dcm',\n",
       " 'spine\\\\train_images\\\\1012375618\\\\588002243\\\\3.dcm',\n",
       " 'spine\\\\train_images\\\\1012375618\\\\588002243\\\\4.dcm',\n",
       " 'spine\\\\train_images\\\\1012375618\\\\588002243\\\\5.dcm',\n",
       " 'spine\\\\train_images\\\\1012375618\\\\588002243\\\\6.dcm',\n",
       " 'spine\\\\train_images\\\\1012375618\\\\588002243\\\\7.dcm',\n",
       " 'spine\\\\train_images\\\\1012375618\\\\588002243\\\\8.dcm',\n",
       " 'spine\\\\train_images\\\\1012375618\\\\588002243\\\\9.dcm',\n",
       " 'spine\\\\train_images\\\\1013589491\\\\2391548363\\\\1.dcm',\n",
       " 'spine\\\\train_images\\\\1013589491\\\\2391548363\\\\10.dcm',\n",
       " 'spine\\\\train_images\\\\1013589491\\\\2391548363\\\\11.dcm',\n",
       " 'spine\\\\train_images\\\\1013589491\\\\2391548363\\\\12.dcm',\n",
       " 'spine\\\\train_images\\\\1013589491\\\\2391548363\\\\13.dcm',\n",
       " 'spine\\\\train_images\\\\1013589491\\\\2391548363\\\\14.dcm',\n",
       " 'spine\\\\train_images\\\\1013589491\\\\2391548363\\\\15.dcm',\n",
       " 'spine\\\\train_images\\\\1013589491\\\\2391548363\\\\16.dcm',\n",
       " 'spine\\\\train_images\\\\1013589491\\\\2391548363\\\\17.dcm',\n",
       " 'spine\\\\train_images\\\\1013589491\\\\2391548363\\\\18.dcm',\n",
       " 'spine\\\\train_images\\\\1013589491\\\\2391548363\\\\19.dcm',\n",
       " 'spine\\\\train_images\\\\1013589491\\\\2391548363\\\\2.dcm',\n",
       " 'spine\\\\train_images\\\\1013589491\\\\2391548363\\\\3.dcm',\n",
       " 'spine\\\\train_images\\\\1013589491\\\\2391548363\\\\4.dcm',\n",
       " 'spine\\\\train_images\\\\1013589491\\\\2391548363\\\\5.dcm',\n",
       " 'spine\\\\train_images\\\\1013589491\\\\2391548363\\\\6.dcm',\n",
       " 'spine\\\\train_images\\\\1013589491\\\\2391548363\\\\7.dcm',\n",
       " 'spine\\\\train_images\\\\1013589491\\\\2391548363\\\\8.dcm',\n",
       " 'spine\\\\train_images\\\\1013589491\\\\2391548363\\\\9.dcm',\n",
       " 'spine\\\\train_images\\\\1013589491\\\\482346415\\\\1.dcm',\n",
       " 'spine\\\\train_images\\\\1013589491\\\\482346415\\\\10.dcm',\n",
       " 'spine\\\\train_images\\\\1013589491\\\\482346415\\\\11.dcm',\n",
       " 'spine\\\\train_images\\\\1013589491\\\\482346415\\\\12.dcm',\n",
       " 'spine\\\\train_images\\\\1013589491\\\\482346415\\\\13.dcm',\n",
       " 'spine\\\\train_images\\\\1013589491\\\\482346415\\\\14.dcm',\n",
       " 'spine\\\\train_images\\\\1013589491\\\\482346415\\\\15.dcm',\n",
       " 'spine\\\\train_images\\\\1013589491\\\\482346415\\\\16.dcm',\n",
       " 'spine\\\\train_images\\\\1013589491\\\\482346415\\\\17.dcm',\n",
       " 'spine\\\\train_images\\\\1013589491\\\\482346415\\\\18.dcm',\n",
       " 'spine\\\\train_images\\\\1013589491\\\\482346415\\\\19.dcm',\n",
       " 'spine\\\\train_images\\\\1013589491\\\\482346415\\\\2.dcm',\n",
       " 'spine\\\\train_images\\\\1013589491\\\\482346415\\\\3.dcm',\n",
       " 'spine\\\\train_images\\\\1013589491\\\\482346415\\\\4.dcm',\n",
       " 'spine\\\\train_images\\\\1013589491\\\\482346415\\\\5.dcm',\n",
       " 'spine\\\\train_images\\\\1013589491\\\\482346415\\\\6.dcm',\n",
       " 'spine\\\\train_images\\\\1013589491\\\\482346415\\\\7.dcm',\n",
       " 'spine\\\\train_images\\\\1013589491\\\\482346415\\\\8.dcm',\n",
       " 'spine\\\\train_images\\\\1013589491\\\\482346415\\\\9.dcm',\n",
       " 'spine\\\\train_images\\\\1013589491\\\\598943280\\\\1.dcm',\n",
       " 'spine\\\\train_images\\\\1013589491\\\\598943280\\\\10.dcm',\n",
       " 'spine\\\\train_images\\\\1013589491\\\\598943280\\\\11.dcm',\n",
       " 'spine\\\\train_images\\\\1013589491\\\\598943280\\\\12.dcm',\n",
       " 'spine\\\\train_images\\\\1013589491\\\\598943280\\\\13.dcm',\n",
       " 'spine\\\\train_images\\\\1013589491\\\\598943280\\\\14.dcm',\n",
       " 'spine\\\\train_images\\\\1013589491\\\\598943280\\\\15.dcm',\n",
       " 'spine\\\\train_images\\\\1013589491\\\\598943280\\\\16.dcm',\n",
       " 'spine\\\\train_images\\\\1013589491\\\\598943280\\\\17.dcm',\n",
       " 'spine\\\\train_images\\\\1013589491\\\\598943280\\\\18.dcm',\n",
       " 'spine\\\\train_images\\\\1013589491\\\\598943280\\\\19.dcm',\n",
       " 'spine\\\\train_images\\\\1013589491\\\\598943280\\\\2.dcm',\n",
       " 'spine\\\\train_images\\\\1013589491\\\\598943280\\\\20.dcm',\n",
       " 'spine\\\\train_images\\\\1013589491\\\\598943280\\\\21.dcm',\n",
       " 'spine\\\\train_images\\\\1013589491\\\\598943280\\\\22.dcm',\n",
       " 'spine\\\\train_images\\\\1013589491\\\\598943280\\\\23.dcm',\n",
       " 'spine\\\\train_images\\\\1013589491\\\\598943280\\\\24.dcm',\n",
       " 'spine\\\\train_images\\\\1013589491\\\\598943280\\\\25.dcm',\n",
       " 'spine\\\\train_images\\\\1013589491\\\\598943280\\\\26.dcm',\n",
       " 'spine\\\\train_images\\\\1013589491\\\\598943280\\\\27.dcm',\n",
       " 'spine\\\\train_images\\\\1013589491\\\\598943280\\\\28.dcm',\n",
       " 'spine\\\\train_images\\\\1013589491\\\\598943280\\\\29.dcm',\n",
       " 'spine\\\\train_images\\\\1013589491\\\\598943280\\\\3.dcm',\n",
       " 'spine\\\\train_images\\\\1013589491\\\\598943280\\\\30.dcm',\n",
       " 'spine\\\\train_images\\\\1013589491\\\\598943280\\\\31.dcm',\n",
       " 'spine\\\\train_images\\\\1013589491\\\\598943280\\\\32.dcm',\n",
       " 'spine\\\\train_images\\\\1013589491\\\\598943280\\\\33.dcm',\n",
       " 'spine\\\\train_images\\\\1013589491\\\\598943280\\\\34.dcm',\n",
       " 'spine\\\\train_images\\\\1013589491\\\\598943280\\\\35.dcm',\n",
       " 'spine\\\\train_images\\\\1013589491\\\\598943280\\\\36.dcm',\n",
       " 'spine\\\\train_images\\\\1013589491\\\\598943280\\\\37.dcm',\n",
       " 'spine\\\\train_images\\\\1013589491\\\\598943280\\\\38.dcm',\n",
       " 'spine\\\\train_images\\\\1013589491\\\\598943280\\\\39.dcm',\n",
       " 'spine\\\\train_images\\\\1013589491\\\\598943280\\\\4.dcm',\n",
       " 'spine\\\\train_images\\\\1013589491\\\\598943280\\\\40.dcm',\n",
       " 'spine\\\\train_images\\\\1013589491\\\\598943280\\\\41.dcm',\n",
       " 'spine\\\\train_images\\\\1013589491\\\\598943280\\\\42.dcm',\n",
       " 'spine\\\\train_images\\\\1013589491\\\\598943280\\\\43.dcm',\n",
       " 'spine\\\\train_images\\\\1013589491\\\\598943280\\\\44.dcm',\n",
       " 'spine\\\\train_images\\\\1013589491\\\\598943280\\\\5.dcm',\n",
       " 'spine\\\\train_images\\\\1013589491\\\\598943280\\\\6.dcm',\n",
       " 'spine\\\\train_images\\\\1013589491\\\\598943280\\\\7.dcm',\n",
       " 'spine\\\\train_images\\\\1013589491\\\\598943280\\\\8.dcm',\n",
       " 'spine\\\\train_images\\\\1013589491\\\\598943280\\\\9.dcm',\n",
       " 'spine\\\\train_images\\\\1013791258\\\\2460967246\\\\1.dcm',\n",
       " 'spine\\\\train_images\\\\1013791258\\\\2460967246\\\\10.dcm',\n",
       " 'spine\\\\train_images\\\\1013791258\\\\2460967246\\\\11.dcm',\n",
       " 'spine\\\\train_images\\\\1013791258\\\\2460967246\\\\12.dcm',\n",
       " 'spine\\\\train_images\\\\1013791258\\\\2460967246\\\\13.dcm',\n",
       " 'spine\\\\train_images\\\\1013791258\\\\2460967246\\\\14.dcm',\n",
       " 'spine\\\\train_images\\\\1013791258\\\\2460967246\\\\15.dcm',\n",
       " 'spine\\\\train_images\\\\1013791258\\\\2460967246\\\\16.dcm',\n",
       " 'spine\\\\train_images\\\\1013791258\\\\2460967246\\\\17.dcm',\n",
       " 'spine\\\\train_images\\\\1013791258\\\\2460967246\\\\2.dcm',\n",
       " 'spine\\\\train_images\\\\1013791258\\\\2460967246\\\\3.dcm',\n",
       " 'spine\\\\train_images\\\\1013791258\\\\2460967246\\\\4.dcm',\n",
       " 'spine\\\\train_images\\\\1013791258\\\\2460967246\\\\5.dcm',\n",
       " 'spine\\\\train_images\\\\1013791258\\\\2460967246\\\\6.dcm',\n",
       " 'spine\\\\train_images\\\\1013791258\\\\2460967246\\\\7.dcm',\n",
       " 'spine\\\\train_images\\\\1013791258\\\\2460967246\\\\8.dcm',\n",
       " 'spine\\\\train_images\\\\1013791258\\\\2460967246\\\\9.dcm',\n",
       " 'spine\\\\train_images\\\\1013791258\\\\821987258\\\\1.dcm',\n",
       " 'spine\\\\train_images\\\\1013791258\\\\821987258\\\\10.dcm',\n",
       " 'spine\\\\train_images\\\\1013791258\\\\821987258\\\\11.dcm',\n",
       " 'spine\\\\train_images\\\\1013791258\\\\821987258\\\\12.dcm',\n",
       " 'spine\\\\train_images\\\\1013791258\\\\821987258\\\\13.dcm',\n",
       " 'spine\\\\train_images\\\\1013791258\\\\821987258\\\\14.dcm',\n",
       " 'spine\\\\train_images\\\\1013791258\\\\821987258\\\\15.dcm',\n",
       " 'spine\\\\train_images\\\\1013791258\\\\821987258\\\\16.dcm',\n",
       " 'spine\\\\train_images\\\\1013791258\\\\821987258\\\\17.dcm',\n",
       " 'spine\\\\train_images\\\\1013791258\\\\821987258\\\\18.dcm',\n",
       " 'spine\\\\train_images\\\\1013791258\\\\821987258\\\\19.dcm',\n",
       " 'spine\\\\train_images\\\\1013791258\\\\821987258\\\\2.dcm',\n",
       " 'spine\\\\train_images\\\\1013791258\\\\821987258\\\\20.dcm',\n",
       " 'spine\\\\train_images\\\\1013791258\\\\821987258\\\\21.dcm',\n",
       " 'spine\\\\train_images\\\\1013791258\\\\821987258\\\\22.dcm',\n",
       " 'spine\\\\train_images\\\\1013791258\\\\821987258\\\\23.dcm',\n",
       " 'spine\\\\train_images\\\\1013791258\\\\821987258\\\\24.dcm',\n",
       " 'spine\\\\train_images\\\\1013791258\\\\821987258\\\\25.dcm',\n",
       " 'spine\\\\train_images\\\\1013791258\\\\821987258\\\\3.dcm',\n",
       " 'spine\\\\train_images\\\\1013791258\\\\821987258\\\\4.dcm',\n",
       " 'spine\\\\train_images\\\\1013791258\\\\821987258\\\\5.dcm',\n",
       " 'spine\\\\train_images\\\\1013791258\\\\821987258\\\\6.dcm',\n",
       " 'spine\\\\train_images\\\\1013791258\\\\821987258\\\\7.dcm',\n",
       " 'spine\\\\train_images\\\\1013791258\\\\821987258\\\\8.dcm',\n",
       " 'spine\\\\train_images\\\\1013791258\\\\821987258\\\\9.dcm',\n",
       " 'spine\\\\train_images\\\\1013791258\\\\995943005\\\\1.dcm',\n",
       " 'spine\\\\train_images\\\\1013791258\\\\995943005\\\\10.dcm',\n",
       " 'spine\\\\train_images\\\\1013791258\\\\995943005\\\\11.dcm',\n",
       " 'spine\\\\train_images\\\\1013791258\\\\995943005\\\\12.dcm',\n",
       " 'spine\\\\train_images\\\\1013791258\\\\995943005\\\\13.dcm',\n",
       " 'spine\\\\train_images\\\\1013791258\\\\995943005\\\\14.dcm',\n",
       " 'spine\\\\train_images\\\\1013791258\\\\995943005\\\\15.dcm',\n",
       " 'spine\\\\train_images\\\\1013791258\\\\995943005\\\\16.dcm',\n",
       " 'spine\\\\train_images\\\\1013791258\\\\995943005\\\\17.dcm',\n",
       " 'spine\\\\train_images\\\\1013791258\\\\995943005\\\\2.dcm',\n",
       " 'spine\\\\train_images\\\\1013791258\\\\995943005\\\\3.dcm',\n",
       " 'spine\\\\train_images\\\\1013791258\\\\995943005\\\\4.dcm',\n",
       " 'spine\\\\train_images\\\\1013791258\\\\995943005\\\\5.dcm',\n",
       " 'spine\\\\train_images\\\\1013791258\\\\995943005\\\\6.dcm',\n",
       " 'spine\\\\train_images\\\\1013791258\\\\995943005\\\\7.dcm',\n",
       " 'spine\\\\train_images\\\\1013791258\\\\995943005\\\\8.dcm',\n",
       " 'spine\\\\train_images\\\\1013791258\\\\995943005\\\\9.dcm',\n",
       " 'spine\\\\train_images\\\\1018005303\\\\1049505285\\\\1.dcm',\n",
       " 'spine\\\\train_images\\\\1018005303\\\\1049505285\\\\10.dcm',\n",
       " 'spine\\\\train_images\\\\1018005303\\\\1049505285\\\\11.dcm',\n",
       " 'spine\\\\train_images\\\\1018005303\\\\1049505285\\\\12.dcm',\n",
       " 'spine\\\\train_images\\\\1018005303\\\\1049505285\\\\13.dcm',\n",
       " 'spine\\\\train_images\\\\1018005303\\\\1049505285\\\\14.dcm',\n",
       " 'spine\\\\train_images\\\\1018005303\\\\1049505285\\\\15.dcm',\n",
       " 'spine\\\\train_images\\\\1018005303\\\\1049505285\\\\16.dcm',\n",
       " 'spine\\\\train_images\\\\1018005303\\\\1049505285\\\\17.dcm',\n",
       " 'spine\\\\train_images\\\\1018005303\\\\1049505285\\\\18.dcm',\n",
       " 'spine\\\\train_images\\\\1018005303\\\\1049505285\\\\19.dcm',\n",
       " 'spine\\\\train_images\\\\1018005303\\\\1049505285\\\\2.dcm',\n",
       " 'spine\\\\train_images\\\\1018005303\\\\1049505285\\\\20.dcm',\n",
       " 'spine\\\\train_images\\\\1018005303\\\\1049505285\\\\21.dcm',\n",
       " 'spine\\\\train_images\\\\1018005303\\\\1049505285\\\\22.dcm',\n",
       " 'spine\\\\train_images\\\\1018005303\\\\1049505285\\\\23.dcm',\n",
       " 'spine\\\\train_images\\\\1018005303\\\\1049505285\\\\24.dcm',\n",
       " 'spine\\\\train_images\\\\1018005303\\\\1049505285\\\\3.dcm',\n",
       " 'spine\\\\train_images\\\\1018005303\\\\1049505285\\\\4.dcm',\n",
       " 'spine\\\\train_images\\\\1018005303\\\\1049505285\\\\5.dcm',\n",
       " 'spine\\\\train_images\\\\1018005303\\\\1049505285\\\\6.dcm',\n",
       " 'spine\\\\train_images\\\\1018005303\\\\1049505285\\\\7.dcm',\n",
       " 'spine\\\\train_images\\\\1018005303\\\\1049505285\\\\8.dcm',\n",
       " 'spine\\\\train_images\\\\1018005303\\\\1049505285\\\\9.dcm',\n",
       " 'spine\\\\train_images\\\\1018005303\\\\1131788901\\\\1.dcm',\n",
       " 'spine\\\\train_images\\\\1018005303\\\\1131788901\\\\10.dcm',\n",
       " 'spine\\\\train_images\\\\1018005303\\\\1131788901\\\\11.dcm',\n",
       " 'spine\\\\train_images\\\\1018005303\\\\1131788901\\\\12.dcm',\n",
       " 'spine\\\\train_images\\\\1018005303\\\\1131788901\\\\13.dcm',\n",
       " 'spine\\\\train_images\\\\1018005303\\\\1131788901\\\\14.dcm',\n",
       " 'spine\\\\train_images\\\\1018005303\\\\1131788901\\\\15.dcm',\n",
       " 'spine\\\\train_images\\\\1018005303\\\\1131788901\\\\16.dcm',\n",
       " 'spine\\\\train_images\\\\1018005303\\\\1131788901\\\\17.dcm',\n",
       " 'spine\\\\train_images\\\\1018005303\\\\1131788901\\\\18.dcm',\n",
       " 'spine\\\\train_images\\\\1018005303\\\\1131788901\\\\2.dcm',\n",
       " 'spine\\\\train_images\\\\1018005303\\\\1131788901\\\\3.dcm',\n",
       " 'spine\\\\train_images\\\\1018005303\\\\1131788901\\\\4.dcm',\n",
       " 'spine\\\\train_images\\\\1018005303\\\\1131788901\\\\5.dcm',\n",
       " 'spine\\\\train_images\\\\1018005303\\\\1131788901\\\\6.dcm',\n",
       " 'spine\\\\train_images\\\\1018005303\\\\1131788901\\\\7.dcm',\n",
       " 'spine\\\\train_images\\\\1018005303\\\\1131788901\\\\8.dcm',\n",
       " 'spine\\\\train_images\\\\1018005303\\\\1131788901\\\\9.dcm',\n",
       " 'spine\\\\train_images\\\\1018005303\\\\3398516088\\\\1.dcm',\n",
       " 'spine\\\\train_images\\\\1018005303\\\\3398516088\\\\10.dcm',\n",
       " 'spine\\\\train_images\\\\1018005303\\\\3398516088\\\\11.dcm',\n",
       " 'spine\\\\train_images\\\\1018005303\\\\3398516088\\\\12.dcm',\n",
       " 'spine\\\\train_images\\\\1018005303\\\\3398516088\\\\13.dcm',\n",
       " 'spine\\\\train_images\\\\1018005303\\\\3398516088\\\\14.dcm',\n",
       " 'spine\\\\train_images\\\\1018005303\\\\3398516088\\\\15.dcm',\n",
       " 'spine\\\\train_images\\\\1018005303\\\\3398516088\\\\16.dcm',\n",
       " 'spine\\\\train_images\\\\1018005303\\\\3398516088\\\\17.dcm',\n",
       " 'spine\\\\train_images\\\\1018005303\\\\3398516088\\\\18.dcm',\n",
       " 'spine\\\\train_images\\\\1018005303\\\\3398516088\\\\2.dcm',\n",
       " 'spine\\\\train_images\\\\1018005303\\\\3398516088\\\\3.dcm',\n",
       " 'spine\\\\train_images\\\\1018005303\\\\3398516088\\\\4.dcm',\n",
       " 'spine\\\\train_images\\\\1018005303\\\\3398516088\\\\5.dcm',\n",
       " 'spine\\\\train_images\\\\1018005303\\\\3398516088\\\\6.dcm',\n",
       " 'spine\\\\train_images\\\\1018005303\\\\3398516088\\\\7.dcm',\n",
       " 'spine\\\\train_images\\\\1018005303\\\\3398516088\\\\8.dcm',\n",
       " 'spine\\\\train_images\\\\1018005303\\\\3398516088\\\\9.dcm',\n",
       " 'spine\\\\train_images\\\\1018005303\\\\3675524442\\\\1.dcm',\n",
       " 'spine\\\\train_images\\\\1018005303\\\\3675524442\\\\10.dcm',\n",
       " 'spine\\\\train_images\\\\1018005303\\\\3675524442\\\\11.dcm',\n",
       " 'spine\\\\train_images\\\\1018005303\\\\3675524442\\\\12.dcm',\n",
       " 'spine\\\\train_images\\\\1018005303\\\\3675524442\\\\13.dcm',\n",
       " 'spine\\\\train_images\\\\1018005303\\\\3675524442\\\\14.dcm',\n",
       " 'spine\\\\train_images\\\\1018005303\\\\3675524442\\\\15.dcm',\n",
       " 'spine\\\\train_images\\\\1018005303\\\\3675524442\\\\16.dcm',\n",
       " 'spine\\\\train_images\\\\1018005303\\\\3675524442\\\\17.dcm',\n",
       " 'spine\\\\train_images\\\\1018005303\\\\3675524442\\\\18.dcm',\n",
       " 'spine\\\\train_images\\\\1018005303\\\\3675524442\\\\19.dcm',\n",
       " 'spine\\\\train_images\\\\1018005303\\\\3675524442\\\\2.dcm',\n",
       " 'spine\\\\train_images\\\\1018005303\\\\3675524442\\\\20.dcm',\n",
       " 'spine\\\\train_images\\\\1018005303\\\\3675524442\\\\21.dcm',\n",
       " 'spine\\\\train_images\\\\1018005303\\\\3675524442\\\\22.dcm',\n",
       " 'spine\\\\train_images\\\\1018005303\\\\3675524442\\\\23.dcm',\n",
       " 'spine\\\\train_images\\\\1018005303\\\\3675524442\\\\24.dcm',\n",
       " 'spine\\\\train_images\\\\1018005303\\\\3675524442\\\\25.dcm',\n",
       " 'spine\\\\train_images\\\\1018005303\\\\3675524442\\\\26.dcm',\n",
       " 'spine\\\\train_images\\\\1018005303\\\\3675524442\\\\27.dcm',\n",
       " 'spine\\\\train_images\\\\1018005303\\\\3675524442\\\\28.dcm',\n",
       " 'spine\\\\train_images\\\\1018005303\\\\3675524442\\\\29.dcm',\n",
       " 'spine\\\\train_images\\\\1018005303\\\\3675524442\\\\3.dcm',\n",
       " 'spine\\\\train_images\\\\1018005303\\\\3675524442\\\\30.dcm',\n",
       " 'spine\\\\train_images\\\\1018005303\\\\3675524442\\\\31.dcm',\n",
       " 'spine\\\\train_images\\\\1018005303\\\\3675524442\\\\32.dcm',\n",
       " 'spine\\\\train_images\\\\1018005303\\\\3675524442\\\\4.dcm',\n",
       " 'spine\\\\train_images\\\\1018005303\\\\3675524442\\\\5.dcm',\n",
       " 'spine\\\\train_images\\\\1018005303\\\\3675524442\\\\6.dcm',\n",
       " 'spine\\\\train_images\\\\1018005303\\\\3675524442\\\\7.dcm',\n",
       " 'spine\\\\train_images\\\\1018005303\\\\3675524442\\\\8.dcm',\n",
       " 'spine\\\\train_images\\\\1018005303\\\\3675524442\\\\9.dcm',\n",
       " 'spine\\\\train_images\\\\1018005303\\\\4193900495\\\\1.dcm',\n",
       " 'spine\\\\train_images\\\\1018005303\\\\4193900495\\\\10.dcm',\n",
       " 'spine\\\\train_images\\\\1018005303\\\\4193900495\\\\11.dcm',\n",
       " 'spine\\\\train_images\\\\1018005303\\\\4193900495\\\\12.dcm',\n",
       " 'spine\\\\train_images\\\\1018005303\\\\4193900495\\\\13.dcm',\n",
       " 'spine\\\\train_images\\\\1018005303\\\\4193900495\\\\14.dcm',\n",
       " 'spine\\\\train_images\\\\1018005303\\\\4193900495\\\\15.dcm',\n",
       " 'spine\\\\train_images\\\\1018005303\\\\4193900495\\\\16.dcm',\n",
       " 'spine\\\\train_images\\\\1018005303\\\\4193900495\\\\17.dcm',\n",
       " 'spine\\\\train_images\\\\1018005303\\\\4193900495\\\\18.dcm',\n",
       " 'spine\\\\train_images\\\\1018005303\\\\4193900495\\\\19.dcm',\n",
       " 'spine\\\\train_images\\\\1018005303\\\\4193900495\\\\2.dcm',\n",
       " 'spine\\\\train_images\\\\1018005303\\\\4193900495\\\\20.dcm',\n",
       " 'spine\\\\train_images\\\\1018005303\\\\4193900495\\\\21.dcm',\n",
       " 'spine\\\\train_images\\\\1018005303\\\\4193900495\\\\22.dcm',\n",
       " 'spine\\\\train_images\\\\1018005303\\\\4193900495\\\\23.dcm',\n",
       " 'spine\\\\train_images\\\\1018005303\\\\4193900495\\\\24.dcm',\n",
       " 'spine\\\\train_images\\\\1018005303\\\\4193900495\\\\25.dcm',\n",
       " 'spine\\\\train_images\\\\1018005303\\\\4193900495\\\\26.dcm',\n",
       " 'spine\\\\train_images\\\\1018005303\\\\4193900495\\\\27.dcm',\n",
       " 'spine\\\\train_images\\\\1018005303\\\\4193900495\\\\28.dcm',\n",
       " 'spine\\\\train_images\\\\1018005303\\\\4193900495\\\\29.dcm',\n",
       " 'spine\\\\train_images\\\\1018005303\\\\4193900495\\\\3.dcm',\n",
       " 'spine\\\\train_images\\\\1018005303\\\\4193900495\\\\30.dcm',\n",
       " 'spine\\\\train_images\\\\1018005303\\\\4193900495\\\\4.dcm',\n",
       " 'spine\\\\train_images\\\\1018005303\\\\4193900495\\\\5.dcm',\n",
       " 'spine\\\\train_images\\\\1018005303\\\\4193900495\\\\6.dcm',\n",
       " 'spine\\\\train_images\\\\1018005303\\\\4193900495\\\\7.dcm',\n",
       " 'spine\\\\train_images\\\\1018005303\\\\4193900495\\\\8.dcm',\n",
       " 'spine\\\\train_images\\\\1018005303\\\\4193900495\\\\9.dcm',\n",
       " 'spine\\\\train_images\\\\1019430579\\\\2116282832\\\\1.dcm',\n",
       " 'spine\\\\train_images\\\\1019430579\\\\2116282832\\\\10.dcm',\n",
       " 'spine\\\\train_images\\\\1019430579\\\\2116282832\\\\11.dcm',\n",
       " 'spine\\\\train_images\\\\1019430579\\\\2116282832\\\\12.dcm',\n",
       " 'spine\\\\train_images\\\\1019430579\\\\2116282832\\\\13.dcm',\n",
       " 'spine\\\\train_images\\\\1019430579\\\\2116282832\\\\14.dcm',\n",
       " 'spine\\\\train_images\\\\1019430579\\\\2116282832\\\\15.dcm',\n",
       " 'spine\\\\train_images\\\\1019430579\\\\2116282832\\\\2.dcm',\n",
       " 'spine\\\\train_images\\\\1019430579\\\\2116282832\\\\3.dcm',\n",
       " 'spine\\\\train_images\\\\1019430579\\\\2116282832\\\\4.dcm',\n",
       " 'spine\\\\train_images\\\\1019430579\\\\2116282832\\\\5.dcm',\n",
       " 'spine\\\\train_images\\\\1019430579\\\\2116282832\\\\6.dcm',\n",
       " 'spine\\\\train_images\\\\1019430579\\\\2116282832\\\\7.dcm',\n",
       " 'spine\\\\train_images\\\\1019430579\\\\2116282832\\\\8.dcm',\n",
       " 'spine\\\\train_images\\\\1019430579\\\\2116282832\\\\9.dcm',\n",
       " 'spine\\\\train_images\\\\1019430579\\\\3087919501\\\\1.dcm',\n",
       " 'spine\\\\train_images\\\\1019430579\\\\3087919501\\\\10.dcm',\n",
       " 'spine\\\\train_images\\\\1019430579\\\\3087919501\\\\11.dcm',\n",
       " 'spine\\\\train_images\\\\1019430579\\\\3087919501\\\\12.dcm',\n",
       " 'spine\\\\train_images\\\\1019430579\\\\3087919501\\\\13.dcm',\n",
       " 'spine\\\\train_images\\\\1019430579\\\\3087919501\\\\14.dcm',\n",
       " 'spine\\\\train_images\\\\1019430579\\\\3087919501\\\\15.dcm',\n",
       " 'spine\\\\train_images\\\\1019430579\\\\3087919501\\\\2.dcm',\n",
       " 'spine\\\\train_images\\\\1019430579\\\\3087919501\\\\3.dcm',\n",
       " 'spine\\\\train_images\\\\1019430579\\\\3087919501\\\\4.dcm',\n",
       " 'spine\\\\train_images\\\\1019430579\\\\3087919501\\\\5.dcm',\n",
       " 'spine\\\\train_images\\\\1019430579\\\\3087919501\\\\6.dcm',\n",
       " 'spine\\\\train_images\\\\1019430579\\\\3087919501\\\\7.dcm',\n",
       " 'spine\\\\train_images\\\\1019430579\\\\3087919501\\\\8.dcm',\n",
       " 'spine\\\\train_images\\\\1019430579\\\\3087919501\\\\9.dcm',\n",
       " 'spine\\\\train_images\\\\1019430579\\\\4056780644\\\\1.dcm',\n",
       " 'spine\\\\train_images\\\\1019430579\\\\4056780644\\\\10.dcm',\n",
       " 'spine\\\\train_images\\\\1019430579\\\\4056780644\\\\11.dcm',\n",
       " 'spine\\\\train_images\\\\1019430579\\\\4056780644\\\\12.dcm',\n",
       " 'spine\\\\train_images\\\\1019430579\\\\4056780644\\\\13.dcm',\n",
       " 'spine\\\\train_images\\\\1019430579\\\\4056780644\\\\14.dcm',\n",
       " 'spine\\\\train_images\\\\1019430579\\\\4056780644\\\\15.dcm',\n",
       " 'spine\\\\train_images\\\\1019430579\\\\4056780644\\\\16.dcm',\n",
       " 'spine\\\\train_images\\\\1019430579\\\\4056780644\\\\17.dcm',\n",
       " 'spine\\\\train_images\\\\1019430579\\\\4056780644\\\\18.dcm',\n",
       " 'spine\\\\train_images\\\\1019430579\\\\4056780644\\\\19.dcm',\n",
       " 'spine\\\\train_images\\\\1019430579\\\\4056780644\\\\2.dcm',\n",
       " 'spine\\\\train_images\\\\1019430579\\\\4056780644\\\\20.dcm',\n",
       " 'spine\\\\train_images\\\\1019430579\\\\4056780644\\\\21.dcm',\n",
       " 'spine\\\\train_images\\\\1019430579\\\\4056780644\\\\22.dcm',\n",
       " 'spine\\\\train_images\\\\1019430579\\\\4056780644\\\\23.dcm',\n",
       " 'spine\\\\train_images\\\\1019430579\\\\4056780644\\\\24.dcm',\n",
       " 'spine\\\\train_images\\\\1019430579\\\\4056780644\\\\25.dcm',\n",
       " 'spine\\\\train_images\\\\1019430579\\\\4056780644\\\\26.dcm',\n",
       " 'spine\\\\train_images\\\\1019430579\\\\4056780644\\\\3.dcm',\n",
       " 'spine\\\\train_images\\\\1019430579\\\\4056780644\\\\4.dcm',\n",
       " 'spine\\\\train_images\\\\1019430579\\\\4056780644\\\\5.dcm',\n",
       " 'spine\\\\train_images\\\\1019430579\\\\4056780644\\\\6.dcm',\n",
       " 'spine\\\\train_images\\\\1019430579\\\\4056780644\\\\7.dcm',\n",
       " 'spine\\\\train_images\\\\1019430579\\\\4056780644\\\\8.dcm',\n",
       " 'spine\\\\train_images\\\\1019430579\\\\4056780644\\\\9.dcm',\n",
       " 'spine\\\\train_images\\\\1020394063\\\\1523561649\\\\1.dcm',\n",
       " 'spine\\\\train_images\\\\1020394063\\\\1523561649\\\\10.dcm',\n",
       " 'spine\\\\train_images\\\\1020394063\\\\1523561649\\\\11.dcm',\n",
       " 'spine\\\\train_images\\\\1020394063\\\\1523561649\\\\12.dcm',\n",
       " 'spine\\\\train_images\\\\1020394063\\\\1523561649\\\\13.dcm',\n",
       " 'spine\\\\train_images\\\\1020394063\\\\1523561649\\\\14.dcm',\n",
       " 'spine\\\\train_images\\\\1020394063\\\\1523561649\\\\15.dcm',\n",
       " 'spine\\\\train_images\\\\1020394063\\\\1523561649\\\\16.dcm',\n",
       " 'spine\\\\train_images\\\\1020394063\\\\1523561649\\\\17.dcm',\n",
       " 'spine\\\\train_images\\\\1020394063\\\\1523561649\\\\18.dcm',\n",
       " 'spine\\\\train_images\\\\1020394063\\\\1523561649\\\\2.dcm',\n",
       " 'spine\\\\train_images\\\\1020394063\\\\1523561649\\\\3.dcm',\n",
       " 'spine\\\\train_images\\\\1020394063\\\\1523561649\\\\4.dcm',\n",
       " 'spine\\\\train_images\\\\1020394063\\\\1523561649\\\\5.dcm',\n",
       " 'spine\\\\train_images\\\\1020394063\\\\1523561649\\\\6.dcm',\n",
       " 'spine\\\\train_images\\\\1020394063\\\\1523561649\\\\7.dcm',\n",
       " 'spine\\\\train_images\\\\1020394063\\\\1523561649\\\\8.dcm',\n",
       " 'spine\\\\train_images\\\\1020394063\\\\1523561649\\\\9.dcm',\n",
       " 'spine\\\\train_images\\\\1020394063\\\\3995675145\\\\1.dcm',\n",
       " 'spine\\\\train_images\\\\1020394063\\\\3995675145\\\\10.dcm',\n",
       " 'spine\\\\train_images\\\\1020394063\\\\3995675145\\\\11.dcm',\n",
       " 'spine\\\\train_images\\\\1020394063\\\\3995675145\\\\12.dcm',\n",
       " 'spine\\\\train_images\\\\1020394063\\\\3995675145\\\\13.dcm',\n",
       " 'spine\\\\train_images\\\\1020394063\\\\3995675145\\\\14.dcm',\n",
       " 'spine\\\\train_images\\\\1020394063\\\\3995675145\\\\15.dcm',\n",
       " 'spine\\\\train_images\\\\1020394063\\\\3995675145\\\\16.dcm',\n",
       " 'spine\\\\train_images\\\\1020394063\\\\3995675145\\\\17.dcm',\n",
       " 'spine\\\\train_images\\\\1020394063\\\\3995675145\\\\18.dcm',\n",
       " 'spine\\\\train_images\\\\1020394063\\\\3995675145\\\\19.dcm',\n",
       " 'spine\\\\train_images\\\\1020394063\\\\3995675145\\\\2.dcm',\n",
       " 'spine\\\\train_images\\\\1020394063\\\\3995675145\\\\20.dcm',\n",
       " 'spine\\\\train_images\\\\1020394063\\\\3995675145\\\\3.dcm',\n",
       " 'spine\\\\train_images\\\\1020394063\\\\3995675145\\\\4.dcm',\n",
       " 'spine\\\\train_images\\\\1020394063\\\\3995675145\\\\5.dcm',\n",
       " 'spine\\\\train_images\\\\1020394063\\\\3995675145\\\\6.dcm',\n",
       " 'spine\\\\train_images\\\\1020394063\\\\3995675145\\\\7.dcm',\n",
       " 'spine\\\\train_images\\\\1020394063\\\\3995675145\\\\8.dcm',\n",
       " 'spine\\\\train_images\\\\1020394063\\\\3995675145\\\\9.dcm',\n",
       " 'spine\\\\train_images\\\\1020394063\\\\4236155943\\\\1.dcm',\n",
       " 'spine\\\\train_images\\\\1020394063\\\\4236155943\\\\10.dcm',\n",
       " 'spine\\\\train_images\\\\1020394063\\\\4236155943\\\\11.dcm',\n",
       " 'spine\\\\train_images\\\\1020394063\\\\4236155943\\\\12.dcm',\n",
       " 'spine\\\\train_images\\\\1020394063\\\\4236155943\\\\13.dcm',\n",
       " 'spine\\\\train_images\\\\1020394063\\\\4236155943\\\\14.dcm',\n",
       " 'spine\\\\train_images\\\\1020394063\\\\4236155943\\\\15.dcm',\n",
       " 'spine\\\\train_images\\\\1020394063\\\\4236155943\\\\16.dcm',\n",
       " 'spine\\\\train_images\\\\1020394063\\\\4236155943\\\\17.dcm',\n",
       " 'spine\\\\train_images\\\\1020394063\\\\4236155943\\\\18.dcm',\n",
       " 'spine\\\\train_images\\\\1020394063\\\\4236155943\\\\2.dcm',\n",
       " 'spine\\\\train_images\\\\1020394063\\\\4236155943\\\\3.dcm',\n",
       " 'spine\\\\train_images\\\\1020394063\\\\4236155943\\\\4.dcm',\n",
       " 'spine\\\\train_images\\\\1020394063\\\\4236155943\\\\5.dcm',\n",
       " 'spine\\\\train_images\\\\1020394063\\\\4236155943\\\\6.dcm',\n",
       " 'spine\\\\train_images\\\\1020394063\\\\4236155943\\\\7.dcm',\n",
       " 'spine\\\\train_images\\\\1020394063\\\\4236155943\\\\8.dcm',\n",
       " 'spine\\\\train_images\\\\1020394063\\\\4236155943\\\\9.dcm',\n",
       " 'spine\\\\train_images\\\\1025265129\\\\1603739483\\\\1.dcm',\n",
       " 'spine\\\\train_images\\\\1025265129\\\\1603739483\\\\10.dcm',\n",
       " 'spine\\\\train_images\\\\1025265129\\\\1603739483\\\\11.dcm',\n",
       " 'spine\\\\train_images\\\\1025265129\\\\1603739483\\\\12.dcm',\n",
       " 'spine\\\\train_images\\\\1025265129\\\\1603739483\\\\13.dcm',\n",
       " 'spine\\\\train_images\\\\1025265129\\\\1603739483\\\\14.dcm',\n",
       " 'spine\\\\train_images\\\\1025265129\\\\1603739483\\\\15.dcm',\n",
       " 'spine\\\\train_images\\\\1025265129\\\\1603739483\\\\2.dcm',\n",
       " 'spine\\\\train_images\\\\1025265129\\\\1603739483\\\\3.dcm',\n",
       " 'spine\\\\train_images\\\\1025265129\\\\1603739483\\\\4.dcm',\n",
       " 'spine\\\\train_images\\\\1025265129\\\\1603739483\\\\5.dcm',\n",
       " 'spine\\\\train_images\\\\1025265129\\\\1603739483\\\\6.dcm',\n",
       " 'spine\\\\train_images\\\\1025265129\\\\1603739483\\\\7.dcm',\n",
       " 'spine\\\\train_images\\\\1025265129\\\\1603739483\\\\8.dcm',\n",
       " 'spine\\\\train_images\\\\1025265129\\\\1603739483\\\\9.dcm',\n",
       " 'spine\\\\train_images\\\\1025265129\\\\2418620709\\\\1.dcm',\n",
       " 'spine\\\\train_images\\\\1025265129\\\\2418620709\\\\10.dcm',\n",
       " 'spine\\\\train_images\\\\1025265129\\\\2418620709\\\\11.dcm',\n",
       " 'spine\\\\train_images\\\\1025265129\\\\2418620709\\\\12.dcm',\n",
       " 'spine\\\\train_images\\\\1025265129\\\\2418620709\\\\13.dcm',\n",
       " 'spine\\\\train_images\\\\1025265129\\\\2418620709\\\\14.dcm',\n",
       " 'spine\\\\train_images\\\\1025265129\\\\2418620709\\\\15.dcm',\n",
       " 'spine\\\\train_images\\\\1025265129\\\\2418620709\\\\2.dcm',\n",
       " 'spine\\\\train_images\\\\1025265129\\\\2418620709\\\\3.dcm',\n",
       " 'spine\\\\train_images\\\\1025265129\\\\2418620709\\\\4.dcm',\n",
       " 'spine\\\\train_images\\\\1025265129\\\\2418620709\\\\5.dcm',\n",
       " 'spine\\\\train_images\\\\1025265129\\\\2418620709\\\\6.dcm',\n",
       " 'spine\\\\train_images\\\\1025265129\\\\2418620709\\\\7.dcm',\n",
       " 'spine\\\\train_images\\\\1025265129\\\\2418620709\\\\8.dcm',\n",
       " 'spine\\\\train_images\\\\1025265129\\\\2418620709\\\\9.dcm',\n",
       " 'spine\\\\train_images\\\\1025265129\\\\3119430323\\\\1.dcm',\n",
       " 'spine\\\\train_images\\\\1025265129\\\\3119430323\\\\10.dcm',\n",
       " 'spine\\\\train_images\\\\1025265129\\\\3119430323\\\\11.dcm',\n",
       " 'spine\\\\train_images\\\\1025265129\\\\3119430323\\\\12.dcm',\n",
       " 'spine\\\\train_images\\\\1025265129\\\\3119430323\\\\13.dcm',\n",
       " 'spine\\\\train_images\\\\1025265129\\\\3119430323\\\\14.dcm',\n",
       " 'spine\\\\train_images\\\\1025265129\\\\3119430323\\\\15.dcm',\n",
       " 'spine\\\\train_images\\\\1025265129\\\\3119430323\\\\16.dcm',\n",
       " 'spine\\\\train_images\\\\1025265129\\\\3119430323\\\\17.dcm',\n",
       " 'spine\\\\train_images\\\\1025265129\\\\3119430323\\\\18.dcm',\n",
       " 'spine\\\\train_images\\\\1025265129\\\\3119430323\\\\19.dcm',\n",
       " 'spine\\\\train_images\\\\1025265129\\\\3119430323\\\\2.dcm',\n",
       " 'spine\\\\train_images\\\\1025265129\\\\3119430323\\\\20.dcm',\n",
       " 'spine\\\\train_images\\\\1025265129\\\\3119430323\\\\21.dcm',\n",
       " 'spine\\\\train_images\\\\1025265129\\\\3119430323\\\\22.dcm',\n",
       " 'spine\\\\train_images\\\\1025265129\\\\3119430323\\\\23.dcm',\n",
       " 'spine\\\\train_images\\\\1025265129\\\\3119430323\\\\24.dcm',\n",
       " 'spine\\\\train_images\\\\1025265129\\\\3119430323\\\\25.dcm',\n",
       " 'spine\\\\train_images\\\\1025265129\\\\3119430323\\\\26.dcm',\n",
       " 'spine\\\\train_images\\\\1025265129\\\\3119430323\\\\27.dcm',\n",
       " 'spine\\\\train_images\\\\1025265129\\\\3119430323\\\\28.dcm',\n",
       " 'spine\\\\train_images\\\\1025265129\\\\3119430323\\\\29.dcm',\n",
       " 'spine\\\\train_images\\\\1025265129\\\\3119430323\\\\3.dcm',\n",
       " 'spine\\\\train_images\\\\1025265129\\\\3119430323\\\\30.dcm',\n",
       " 'spine\\\\train_images\\\\1025265129\\\\3119430323\\\\31.dcm',\n",
       " 'spine\\\\train_images\\\\1025265129\\\\3119430323\\\\32.dcm',\n",
       " 'spine\\\\train_images\\\\1025265129\\\\3119430323\\\\33.dcm',\n",
       " 'spine\\\\train_images\\\\1025265129\\\\3119430323\\\\34.dcm',\n",
       " 'spine\\\\train_images\\\\1025265129\\\\3119430323\\\\35.dcm',\n",
       " 'spine\\\\train_images\\\\1025265129\\\\3119430323\\\\36.dcm',\n",
       " 'spine\\\\train_images\\\\1025265129\\\\3119430323\\\\37.dcm',\n",
       " 'spine\\\\train_images\\\\1025265129\\\\3119430323\\\\38.dcm',\n",
       " 'spine\\\\train_images\\\\1025265129\\\\3119430323\\\\39.dcm',\n",
       " 'spine\\\\train_images\\\\1025265129\\\\3119430323\\\\4.dcm',\n",
       " 'spine\\\\train_images\\\\1025265129\\\\3119430323\\\\40.dcm',\n",
       " 'spine\\\\train_images\\\\1025265129\\\\3119430323\\\\41.dcm',\n",
       " 'spine\\\\train_images\\\\1025265129\\\\3119430323\\\\42.dcm',\n",
       " 'spine\\\\train_images\\\\1025265129\\\\3119430323\\\\43.dcm',\n",
       " 'spine\\\\train_images\\\\1025265129\\\\3119430323\\\\44.dcm',\n",
       " 'spine\\\\train_images\\\\1025265129\\\\3119430323\\\\45.dcm',\n",
       " 'spine\\\\train_images\\\\1025265129\\\\3119430323\\\\46.dcm',\n",
       " 'spine\\\\train_images\\\\1025265129\\\\3119430323\\\\5.dcm',\n",
       " 'spine\\\\train_images\\\\1025265129\\\\3119430323\\\\6.dcm',\n",
       " 'spine\\\\train_images\\\\1025265129\\\\3119430323\\\\7.dcm',\n",
       " 'spine\\\\train_images\\\\1025265129\\\\3119430323\\\\8.dcm',\n",
       " 'spine\\\\train_images\\\\1025265129\\\\3119430323\\\\9.dcm',\n",
       " 'spine\\\\train_images\\\\1028684462\\\\1958018915\\\\1.dcm',\n",
       " 'spine\\\\train_images\\\\1028684462\\\\1958018915\\\\10.dcm',\n",
       " 'spine\\\\train_images\\\\1028684462\\\\1958018915\\\\11.dcm',\n",
       " 'spine\\\\train_images\\\\1028684462\\\\1958018915\\\\12.dcm',\n",
       " 'spine\\\\train_images\\\\1028684462\\\\1958018915\\\\13.dcm',\n",
       " 'spine\\\\train_images\\\\1028684462\\\\1958018915\\\\14.dcm',\n",
       " 'spine\\\\train_images\\\\1028684462\\\\1958018915\\\\15.dcm',\n",
       " 'spine\\\\train_images\\\\1028684462\\\\1958018915\\\\16.dcm',\n",
       " 'spine\\\\train_images\\\\1028684462\\\\1958018915\\\\17.dcm',\n",
       " 'spine\\\\train_images\\\\1028684462\\\\1958018915\\\\18.dcm',\n",
       " 'spine\\\\train_images\\\\1028684462\\\\1958018915\\\\19.dcm',\n",
       " 'spine\\\\train_images\\\\1028684462\\\\1958018915\\\\2.dcm',\n",
       " 'spine\\\\train_images\\\\1028684462\\\\1958018915\\\\20.dcm',\n",
       " 'spine\\\\train_images\\\\1028684462\\\\1958018915\\\\21.dcm',\n",
       " 'spine\\\\train_images\\\\1028684462\\\\1958018915\\\\22.dcm',\n",
       " 'spine\\\\train_images\\\\1028684462\\\\1958018915\\\\23.dcm',\n",
       " 'spine\\\\train_images\\\\1028684462\\\\1958018915\\\\24.dcm',\n",
       " 'spine\\\\train_images\\\\1028684462\\\\1958018915\\\\25.dcm',\n",
       " ...]"
      ]
     },
     "execution_count": 6,
     "metadata": {},
     "output_type": "execute_result"
    }
   ],
   "source": [
    "train_images=glob(str(competition_dataset_directory / 'train_images' / '*' / '*' / '*.dcm'))\n",
    "train_images"
   ]
  },
  {
   "cell_type": "code",
   "execution_count": 11,
   "id": "31586a3b-6be3-464a-ad3d-4497d71a7ae9",
   "metadata": {},
   "outputs": [
    {
     "data": {
      "text/html": [
       "<div>\n",
       "<style scoped>\n",
       "    .dataframe tbody tr th:only-of-type {\n",
       "        vertical-align: middle;\n",
       "    }\n",
       "\n",
       "    .dataframe tbody tr th {\n",
       "        vertical-align: top;\n",
       "    }\n",
       "\n",
       "    .dataframe thead th {\n",
       "        text-align: right;\n",
       "    }\n",
       "</style>\n",
       "<table border=\"1\" class=\"dataframe\">\n",
       "  <thead>\n",
       "    <tr style=\"text-align: right;\">\n",
       "      <th></th>\n",
       "      <th>study_id</th>\n",
       "      <th>spinal_canal_stenosis_l1_l2</th>\n",
       "      <th>spinal_canal_stenosis_l2_l3</th>\n",
       "      <th>spinal_canal_stenosis_l3_l4</th>\n",
       "      <th>spinal_canal_stenosis_l4_l5</th>\n",
       "      <th>spinal_canal_stenosis_l5_s1</th>\n",
       "      <th>left_neural_foraminal_narrowing_l1_l2</th>\n",
       "      <th>left_neural_foraminal_narrowing_l2_l3</th>\n",
       "      <th>left_neural_foraminal_narrowing_l3_l4</th>\n",
       "      <th>left_neural_foraminal_narrowing_l4_l5</th>\n",
       "      <th>left_neural_foraminal_narrowing_l5_s1</th>\n",
       "      <th>right_neural_foraminal_narrowing_l1_l2</th>\n",
       "      <th>right_neural_foraminal_narrowing_l2_l3</th>\n",
       "      <th>right_neural_foraminal_narrowing_l3_l4</th>\n",
       "      <th>right_neural_foraminal_narrowing_l4_l5</th>\n",
       "      <th>right_neural_foraminal_narrowing_l5_s1</th>\n",
       "      <th>left_subarticular_stenosis_l1_l2</th>\n",
       "      <th>left_subarticular_stenosis_l2_l3</th>\n",
       "      <th>left_subarticular_stenosis_l3_l4</th>\n",
       "      <th>left_subarticular_stenosis_l4_l5</th>\n",
       "      <th>left_subarticular_stenosis_l5_s1</th>\n",
       "      <th>right_subarticular_stenosis_l1_l2</th>\n",
       "      <th>right_subarticular_stenosis_l2_l3</th>\n",
       "      <th>right_subarticular_stenosis_l3_l4</th>\n",
       "      <th>right_subarticular_stenosis_l4_l5</th>\n",
       "      <th>right_subarticular_stenosis_l5_s1</th>\n",
       "    </tr>\n",
       "  </thead>\n",
       "  <tbody>\n",
       "    <tr>\n",
       "      <th>0</th>\n",
       "      <td>4003253</td>\n",
       "      <td>Normal/Mild</td>\n",
       "      <td>Normal/Mild</td>\n",
       "      <td>Normal/Mild</td>\n",
       "      <td>Normal/Mild</td>\n",
       "      <td>Normal/Mild</td>\n",
       "      <td>Normal/Mild</td>\n",
       "      <td>Normal/Mild</td>\n",
       "      <td>Normal/Mild</td>\n",
       "      <td>Moderate</td>\n",
       "      <td>Normal/Mild</td>\n",
       "      <td>Normal/Mild</td>\n",
       "      <td>Normal/Mild</td>\n",
       "      <td>Moderate</td>\n",
       "      <td>Moderate</td>\n",
       "      <td>Normal/Mild</td>\n",
       "      <td>Normal/Mild</td>\n",
       "      <td>Normal/Mild</td>\n",
       "      <td>Normal/Mild</td>\n",
       "      <td>Moderate</td>\n",
       "      <td>Normal/Mild</td>\n",
       "      <td>Normal/Mild</td>\n",
       "      <td>Normal/Mild</td>\n",
       "      <td>Normal/Mild</td>\n",
       "      <td>Normal/Mild</td>\n",
       "      <td>Normal/Mild</td>\n",
       "    </tr>\n",
       "    <tr>\n",
       "      <th>1</th>\n",
       "      <td>4646740</td>\n",
       "      <td>Normal/Mild</td>\n",
       "      <td>Normal/Mild</td>\n",
       "      <td>Moderate</td>\n",
       "      <td>Severe</td>\n",
       "      <td>Normal/Mild</td>\n",
       "      <td>Normal/Mild</td>\n",
       "      <td>Normal/Mild</td>\n",
       "      <td>Normal/Mild</td>\n",
       "      <td>Moderate</td>\n",
       "      <td>Moderate</td>\n",
       "      <td>Normal/Mild</td>\n",
       "      <td>Normal/Mild</td>\n",
       "      <td>Moderate</td>\n",
       "      <td>Moderate</td>\n",
       "      <td>Normal/Mild</td>\n",
       "      <td>Normal/Mild</td>\n",
       "      <td>Normal/Mild</td>\n",
       "      <td>Normal/Mild</td>\n",
       "      <td>Severe</td>\n",
       "      <td>Normal/Mild</td>\n",
       "      <td>Normal/Mild</td>\n",
       "      <td>Moderate</td>\n",
       "      <td>Moderate</td>\n",
       "      <td>Moderate</td>\n",
       "      <td>Normal/Mild</td>\n",
       "    </tr>\n",
       "    <tr>\n",
       "      <th>2</th>\n",
       "      <td>7143189</td>\n",
       "      <td>Normal/Mild</td>\n",
       "      <td>Normal/Mild</td>\n",
       "      <td>Normal/Mild</td>\n",
       "      <td>Normal/Mild</td>\n",
       "      <td>Normal/Mild</td>\n",
       "      <td>Normal/Mild</td>\n",
       "      <td>Normal/Mild</td>\n",
       "      <td>Normal/Mild</td>\n",
       "      <td>Normal/Mild</td>\n",
       "      <td>Normal/Mild</td>\n",
       "      <td>Normal/Mild</td>\n",
       "      <td>Normal/Mild</td>\n",
       "      <td>Normal/Mild</td>\n",
       "      <td>Normal/Mild</td>\n",
       "      <td>Normal/Mild</td>\n",
       "      <td>Normal/Mild</td>\n",
       "      <td>Normal/Mild</td>\n",
       "      <td>Normal/Mild</td>\n",
       "      <td>Normal/Mild</td>\n",
       "      <td>Normal/Mild</td>\n",
       "      <td>Normal/Mild</td>\n",
       "      <td>Normal/Mild</td>\n",
       "      <td>Normal/Mild</td>\n",
       "      <td>Normal/Mild</td>\n",
       "      <td>Normal/Mild</td>\n",
       "    </tr>\n",
       "    <tr>\n",
       "      <th>3</th>\n",
       "      <td>8785691</td>\n",
       "      <td>Normal/Mild</td>\n",
       "      <td>Normal/Mild</td>\n",
       "      <td>Normal/Mild</td>\n",
       "      <td>Normal/Mild</td>\n",
       "      <td>Normal/Mild</td>\n",
       "      <td>Normal/Mild</td>\n",
       "      <td>Normal/Mild</td>\n",
       "      <td>Normal/Mild</td>\n",
       "      <td>Moderate</td>\n",
       "      <td>Moderate</td>\n",
       "      <td>Normal/Mild</td>\n",
       "      <td>Normal/Mild</td>\n",
       "      <td>Normal/Mild</td>\n",
       "      <td>Normal/Mild</td>\n",
       "      <td>Normal/Mild</td>\n",
       "      <td>Normal/Mild</td>\n",
       "      <td>Normal/Mild</td>\n",
       "      <td>Normal/Mild</td>\n",
       "      <td>Normal/Mild</td>\n",
       "      <td>Normal/Mild</td>\n",
       "      <td>Normal/Mild</td>\n",
       "      <td>Normal/Mild</td>\n",
       "      <td>Normal/Mild</td>\n",
       "      <td>Normal/Mild</td>\n",
       "      <td>Normal/Mild</td>\n",
       "    </tr>\n",
       "    <tr>\n",
       "      <th>4</th>\n",
       "      <td>10728036</td>\n",
       "      <td>Normal/Mild</td>\n",
       "      <td>Normal/Mild</td>\n",
       "      <td>Normal/Mild</td>\n",
       "      <td>Normal/Mild</td>\n",
       "      <td>Normal/Mild</td>\n",
       "      <td>Normal/Mild</td>\n",
       "      <td>Normal/Mild</td>\n",
       "      <td>Normal/Mild</td>\n",
       "      <td>Normal/Mild</td>\n",
       "      <td>Normal/Mild</td>\n",
       "      <td>Normal/Mild</td>\n",
       "      <td>Normal/Mild</td>\n",
       "      <td>Normal/Mild</td>\n",
       "      <td>Normal/Mild</td>\n",
       "      <td>Normal/Mild</td>\n",
       "      <td>Normal/Mild</td>\n",
       "      <td>Normal/Mild</td>\n",
       "      <td>Normal/Mild</td>\n",
       "      <td>Normal/Mild</td>\n",
       "      <td>Normal/Mild</td>\n",
       "      <td>Normal/Mild</td>\n",
       "      <td>Normal/Mild</td>\n",
       "      <td>Normal/Mild</td>\n",
       "      <td>Moderate</td>\n",
       "      <td>Normal/Mild</td>\n",
       "    </tr>\n",
       "    <tr>\n",
       "      <th>...</th>\n",
       "      <td>...</td>\n",
       "      <td>...</td>\n",
       "      <td>...</td>\n",
       "      <td>...</td>\n",
       "      <td>...</td>\n",
       "      <td>...</td>\n",
       "      <td>...</td>\n",
       "      <td>...</td>\n",
       "      <td>...</td>\n",
       "      <td>...</td>\n",
       "      <td>...</td>\n",
       "      <td>...</td>\n",
       "      <td>...</td>\n",
       "      <td>...</td>\n",
       "      <td>...</td>\n",
       "      <td>...</td>\n",
       "      <td>...</td>\n",
       "      <td>...</td>\n",
       "      <td>...</td>\n",
       "      <td>...</td>\n",
       "      <td>...</td>\n",
       "      <td>...</td>\n",
       "      <td>...</td>\n",
       "      <td>...</td>\n",
       "      <td>...</td>\n",
       "      <td>...</td>\n",
       "    </tr>\n",
       "    <tr>\n",
       "      <th>1970</th>\n",
       "      <td>4282019580</td>\n",
       "      <td>Normal/Mild</td>\n",
       "      <td>Normal/Mild</td>\n",
       "      <td>Normal/Mild</td>\n",
       "      <td>Normal/Mild</td>\n",
       "      <td>Normal/Mild</td>\n",
       "      <td>Normal/Mild</td>\n",
       "      <td>Normal/Mild</td>\n",
       "      <td>Normal/Mild</td>\n",
       "      <td>Moderate</td>\n",
       "      <td>Moderate</td>\n",
       "      <td>Normal/Mild</td>\n",
       "      <td>Normal/Mild</td>\n",
       "      <td>Normal/Mild</td>\n",
       "      <td>Moderate</td>\n",
       "      <td>Severe</td>\n",
       "      <td>Normal/Mild</td>\n",
       "      <td>Normal/Mild</td>\n",
       "      <td>Normal/Mild</td>\n",
       "      <td>Moderate</td>\n",
       "      <td>Normal/Mild</td>\n",
       "      <td>Normal/Mild</td>\n",
       "      <td>Normal/Mild</td>\n",
       "      <td>Moderate</td>\n",
       "      <td>Moderate</td>\n",
       "      <td>Moderate</td>\n",
       "    </tr>\n",
       "    <tr>\n",
       "      <th>1971</th>\n",
       "      <td>4283570761</td>\n",
       "      <td>Normal/Mild</td>\n",
       "      <td>Normal/Mild</td>\n",
       "      <td>Normal/Mild</td>\n",
       "      <td>Normal/Mild</td>\n",
       "      <td>Normal/Mild</td>\n",
       "      <td>Normal/Mild</td>\n",
       "      <td>Normal/Mild</td>\n",
       "      <td>Normal/Mild</td>\n",
       "      <td>Normal/Mild</td>\n",
       "      <td>Normal/Mild</td>\n",
       "      <td>Normal/Mild</td>\n",
       "      <td>Normal/Mild</td>\n",
       "      <td>Normal/Mild</td>\n",
       "      <td>Normal/Mild</td>\n",
       "      <td>Normal/Mild</td>\n",
       "      <td>Normal/Mild</td>\n",
       "      <td>Normal/Mild</td>\n",
       "      <td>Normal/Mild</td>\n",
       "      <td>Normal/Mild</td>\n",
       "      <td>Normal/Mild</td>\n",
       "      <td>Normal/Mild</td>\n",
       "      <td>Normal/Mild</td>\n",
       "      <td>Normal/Mild</td>\n",
       "      <td>Normal/Mild</td>\n",
       "      <td>Normal/Mild</td>\n",
       "    </tr>\n",
       "    <tr>\n",
       "      <th>1972</th>\n",
       "      <td>4284048608</td>\n",
       "      <td>Normal/Mild</td>\n",
       "      <td>Normal/Mild</td>\n",
       "      <td>Normal/Mild</td>\n",
       "      <td>Severe</td>\n",
       "      <td>Normal/Mild</td>\n",
       "      <td>Normal/Mild</td>\n",
       "      <td>Normal/Mild</td>\n",
       "      <td>Normal/Mild</td>\n",
       "      <td>Normal/Mild</td>\n",
       "      <td>Severe</td>\n",
       "      <td>Normal/Mild</td>\n",
       "      <td>Normal/Mild</td>\n",
       "      <td>Normal/Mild</td>\n",
       "      <td>Normal/Mild</td>\n",
       "      <td>Normal/Mild</td>\n",
       "      <td>Normal/Mild</td>\n",
       "      <td>Normal/Mild</td>\n",
       "      <td>Normal/Mild</td>\n",
       "      <td>Severe</td>\n",
       "      <td>Normal/Mild</td>\n",
       "      <td>Normal/Mild</td>\n",
       "      <td>Normal/Mild</td>\n",
       "      <td>Normal/Mild</td>\n",
       "      <td>Severe</td>\n",
       "      <td>Normal/Mild</td>\n",
       "    </tr>\n",
       "    <tr>\n",
       "      <th>1973</th>\n",
       "      <td>4287160193</td>\n",
       "      <td>Normal/Mild</td>\n",
       "      <td>Moderate</td>\n",
       "      <td>Normal/Mild</td>\n",
       "      <td>Normal/Mild</td>\n",
       "      <td>Normal/Mild</td>\n",
       "      <td>Normal/Mild</td>\n",
       "      <td>Normal/Mild</td>\n",
       "      <td>Normal/Mild</td>\n",
       "      <td>Moderate</td>\n",
       "      <td>Normal/Mild</td>\n",
       "      <td>Normal/Mild</td>\n",
       "      <td>Normal/Mild</td>\n",
       "      <td>Normal/Mild</td>\n",
       "      <td>Normal/Mild</td>\n",
       "      <td>Normal/Mild</td>\n",
       "      <td>Normal/Mild</td>\n",
       "      <td>Severe</td>\n",
       "      <td>Moderate</td>\n",
       "      <td>Moderate</td>\n",
       "      <td>Normal/Mild</td>\n",
       "      <td>Normal/Mild</td>\n",
       "      <td>Normal/Mild</td>\n",
       "      <td>Moderate</td>\n",
       "      <td>Moderate</td>\n",
       "      <td>Normal/Mild</td>\n",
       "    </tr>\n",
       "    <tr>\n",
       "      <th>1974</th>\n",
       "      <td>4290709089</td>\n",
       "      <td>Normal/Mild</td>\n",
       "      <td>Normal/Mild</td>\n",
       "      <td>Normal/Mild</td>\n",
       "      <td>Normal/Mild</td>\n",
       "      <td>Normal/Mild</td>\n",
       "      <td>Normal/Mild</td>\n",
       "      <td>Normal/Mild</td>\n",
       "      <td>Normal/Mild</td>\n",
       "      <td>Normal/Mild</td>\n",
       "      <td>Normal/Mild</td>\n",
       "      <td>Normal/Mild</td>\n",
       "      <td>Normal/Mild</td>\n",
       "      <td>Normal/Mild</td>\n",
       "      <td>Normal/Mild</td>\n",
       "      <td>Normal/Mild</td>\n",
       "      <td>Normal/Mild</td>\n",
       "      <td>Normal/Mild</td>\n",
       "      <td>Normal/Mild</td>\n",
       "      <td>Normal/Mild</td>\n",
       "      <td>Normal/Mild</td>\n",
       "      <td>Normal/Mild</td>\n",
       "      <td>Normal/Mild</td>\n",
       "      <td>Normal/Mild</td>\n",
       "      <td>Normal/Mild</td>\n",
       "      <td>Normal/Mild</td>\n",
       "    </tr>\n",
       "  </tbody>\n",
       "</table>\n",
       "<p>1975 rows × 26 columns</p>\n",
       "</div>"
      ],
      "text/plain": [
       "        study_id spinal_canal_stenosis_l1_l2 spinal_canal_stenosis_l2_l3 spinal_canal_stenosis_l3_l4 spinal_canal_stenosis_l4_l5 spinal_canal_stenosis_l5_s1 left_neural_foraminal_narrowing_l1_l2 left_neural_foraminal_narrowing_l2_l3 left_neural_foraminal_narrowing_l3_l4 left_neural_foraminal_narrowing_l4_l5 left_neural_foraminal_narrowing_l5_s1 right_neural_foraminal_narrowing_l1_l2 right_neural_foraminal_narrowing_l2_l3 right_neural_foraminal_narrowing_l3_l4 right_neural_foraminal_narrowing_l4_l5 right_neural_foraminal_narrowing_l5_s1 left_subarticular_stenosis_l1_l2 left_subarticular_stenosis_l2_l3 left_subarticular_stenosis_l3_l4 left_subarticular_stenosis_l4_l5 left_subarticular_stenosis_l5_s1 right_subarticular_stenosis_l1_l2 right_subarticular_stenosis_l2_l3 right_subarticular_stenosis_l3_l4 right_subarticular_stenosis_l4_l5 right_subarticular_stenosis_l5_s1\n",
       "0        4003253                 Normal/Mild                 Normal/Mild                 Normal/Mild                 Normal/Mild                 Normal/Mild                           Normal/Mild                           Normal/Mild                           Normal/Mild                              Moderate                           Normal/Mild                            Normal/Mild                            Normal/Mild                               Moderate                               Moderate                            Normal/Mild                      Normal/Mild                      Normal/Mild                      Normal/Mild                         Moderate                      Normal/Mild                       Normal/Mild                       Normal/Mild                       Normal/Mild                       Normal/Mild                       Normal/Mild\n",
       "1        4646740                 Normal/Mild                 Normal/Mild                    Moderate                      Severe                 Normal/Mild                           Normal/Mild                           Normal/Mild                           Normal/Mild                              Moderate                              Moderate                            Normal/Mild                            Normal/Mild                               Moderate                               Moderate                            Normal/Mild                      Normal/Mild                      Normal/Mild                      Normal/Mild                           Severe                      Normal/Mild                       Normal/Mild                          Moderate                          Moderate                          Moderate                       Normal/Mild\n",
       "2        7143189                 Normal/Mild                 Normal/Mild                 Normal/Mild                 Normal/Mild                 Normal/Mild                           Normal/Mild                           Normal/Mild                           Normal/Mild                           Normal/Mild                           Normal/Mild                            Normal/Mild                            Normal/Mild                            Normal/Mild                            Normal/Mild                            Normal/Mild                      Normal/Mild                      Normal/Mild                      Normal/Mild                      Normal/Mild                      Normal/Mild                       Normal/Mild                       Normal/Mild                       Normal/Mild                       Normal/Mild                       Normal/Mild\n",
       "3        8785691                 Normal/Mild                 Normal/Mild                 Normal/Mild                 Normal/Mild                 Normal/Mild                           Normal/Mild                           Normal/Mild                           Normal/Mild                              Moderate                              Moderate                            Normal/Mild                            Normal/Mild                            Normal/Mild                            Normal/Mild                            Normal/Mild                      Normal/Mild                      Normal/Mild                      Normal/Mild                      Normal/Mild                      Normal/Mild                       Normal/Mild                       Normal/Mild                       Normal/Mild                       Normal/Mild                       Normal/Mild\n",
       "4       10728036                 Normal/Mild                 Normal/Mild                 Normal/Mild                 Normal/Mild                 Normal/Mild                           Normal/Mild                           Normal/Mild                           Normal/Mild                           Normal/Mild                           Normal/Mild                            Normal/Mild                            Normal/Mild                            Normal/Mild                            Normal/Mild                            Normal/Mild                      Normal/Mild                      Normal/Mild                      Normal/Mild                      Normal/Mild                      Normal/Mild                       Normal/Mild                       Normal/Mild                       Normal/Mild                          Moderate                       Normal/Mild\n",
       "...          ...                         ...                         ...                         ...                         ...                         ...                                   ...                                   ...                                   ...                                   ...                                   ...                                    ...                                    ...                                    ...                                    ...                                    ...                              ...                              ...                              ...                              ...                              ...                               ...                               ...                               ...                               ...                               ...\n",
       "1970  4282019580                 Normal/Mild                 Normal/Mild                 Normal/Mild                 Normal/Mild                 Normal/Mild                           Normal/Mild                           Normal/Mild                           Normal/Mild                              Moderate                              Moderate                            Normal/Mild                            Normal/Mild                            Normal/Mild                               Moderate                                 Severe                      Normal/Mild                      Normal/Mild                      Normal/Mild                         Moderate                      Normal/Mild                       Normal/Mild                       Normal/Mild                          Moderate                          Moderate                          Moderate\n",
       "1971  4283570761                 Normal/Mild                 Normal/Mild                 Normal/Mild                 Normal/Mild                 Normal/Mild                           Normal/Mild                           Normal/Mild                           Normal/Mild                           Normal/Mild                           Normal/Mild                            Normal/Mild                            Normal/Mild                            Normal/Mild                            Normal/Mild                            Normal/Mild                      Normal/Mild                      Normal/Mild                      Normal/Mild                      Normal/Mild                      Normal/Mild                       Normal/Mild                       Normal/Mild                       Normal/Mild                       Normal/Mild                       Normal/Mild\n",
       "1972  4284048608                 Normal/Mild                 Normal/Mild                 Normal/Mild                      Severe                 Normal/Mild                           Normal/Mild                           Normal/Mild                           Normal/Mild                           Normal/Mild                                Severe                            Normal/Mild                            Normal/Mild                            Normal/Mild                            Normal/Mild                            Normal/Mild                      Normal/Mild                      Normal/Mild                      Normal/Mild                           Severe                      Normal/Mild                       Normal/Mild                       Normal/Mild                       Normal/Mild                            Severe                       Normal/Mild\n",
       "1973  4287160193                 Normal/Mild                    Moderate                 Normal/Mild                 Normal/Mild                 Normal/Mild                           Normal/Mild                           Normal/Mild                           Normal/Mild                              Moderate                           Normal/Mild                            Normal/Mild                            Normal/Mild                            Normal/Mild                            Normal/Mild                            Normal/Mild                      Normal/Mild                           Severe                         Moderate                         Moderate                      Normal/Mild                       Normal/Mild                       Normal/Mild                          Moderate                          Moderate                       Normal/Mild\n",
       "1974  4290709089                 Normal/Mild                 Normal/Mild                 Normal/Mild                 Normal/Mild                 Normal/Mild                           Normal/Mild                           Normal/Mild                           Normal/Mild                           Normal/Mild                           Normal/Mild                            Normal/Mild                            Normal/Mild                            Normal/Mild                            Normal/Mild                            Normal/Mild                      Normal/Mild                      Normal/Mild                      Normal/Mild                      Normal/Mild                      Normal/Mild                       Normal/Mild                       Normal/Mild                       Normal/Mild                       Normal/Mild                       Normal/Mild\n",
       "\n",
       "[1975 rows x 26 columns]"
      ]
     },
     "execution_count": 11,
     "metadata": {},
     "output_type": "execute_result"
    }
   ],
   "source": [
    "df_train = pd.read_csv(competition_dataset_directory / 'train.csv')\n",
    "df_train"
   ]
  },
  {
   "cell_type": "code",
   "execution_count": 15,
   "id": "becd13f2-e21d-4faa-8928-e149d658cc74",
   "metadata": {},
   "outputs": [
    {
     "data": {
      "text/html": [
       "<div>\n",
       "<style scoped>\n",
       "    .dataframe tbody tr th:only-of-type {\n",
       "        vertical-align: middle;\n",
       "    }\n",
       "\n",
       "    .dataframe tbody tr th {\n",
       "        vertical-align: top;\n",
       "    }\n",
       "\n",
       "    .dataframe thead th {\n",
       "        text-align: right;\n",
       "    }\n",
       "</style>\n",
       "<table border=\"1\" class=\"dataframe\">\n",
       "  <thead>\n",
       "    <tr style=\"text-align: right;\">\n",
       "      <th></th>\n",
       "      <th>study_id</th>\n",
       "      <th>series_id</th>\n",
       "      <th>series_description</th>\n",
       "    </tr>\n",
       "  </thead>\n",
       "  <tbody>\n",
       "    <tr>\n",
       "      <th>0</th>\n",
       "      <td>4003253</td>\n",
       "      <td>702807833</td>\n",
       "      <td>Sagittal T2/STIR</td>\n",
       "    </tr>\n",
       "    <tr>\n",
       "      <th>1</th>\n",
       "      <td>4003253</td>\n",
       "      <td>1054713880</td>\n",
       "      <td>Sagittal T1</td>\n",
       "    </tr>\n",
       "    <tr>\n",
       "      <th>2</th>\n",
       "      <td>4003253</td>\n",
       "      <td>2448190387</td>\n",
       "      <td>Axial T2</td>\n",
       "    </tr>\n",
       "    <tr>\n",
       "      <th>3</th>\n",
       "      <td>4646740</td>\n",
       "      <td>3201256954</td>\n",
       "      <td>Axial T2</td>\n",
       "    </tr>\n",
       "    <tr>\n",
       "      <th>4</th>\n",
       "      <td>4646740</td>\n",
       "      <td>3486248476</td>\n",
       "      <td>Sagittal T1</td>\n",
       "    </tr>\n",
       "    <tr>\n",
       "      <th>...</th>\n",
       "      <td>...</td>\n",
       "      <td>...</td>\n",
       "      <td>...</td>\n",
       "    </tr>\n",
       "    <tr>\n",
       "      <th>6289</th>\n",
       "      <td>4287160193</td>\n",
       "      <td>1507070277</td>\n",
       "      <td>Sagittal T2/STIR</td>\n",
       "    </tr>\n",
       "    <tr>\n",
       "      <th>6290</th>\n",
       "      <td>4287160193</td>\n",
       "      <td>1820446240</td>\n",
       "      <td>Axial T2</td>\n",
       "    </tr>\n",
       "    <tr>\n",
       "      <th>6291</th>\n",
       "      <td>4290709089</td>\n",
       "      <td>3274612423</td>\n",
       "      <td>Sagittal T2/STIR</td>\n",
       "    </tr>\n",
       "    <tr>\n",
       "      <th>6292</th>\n",
       "      <td>4290709089</td>\n",
       "      <td>3390218084</td>\n",
       "      <td>Axial T2</td>\n",
       "    </tr>\n",
       "    <tr>\n",
       "      <th>6293</th>\n",
       "      <td>4290709089</td>\n",
       "      <td>4237840455</td>\n",
       "      <td>Sagittal T1</td>\n",
       "    </tr>\n",
       "  </tbody>\n",
       "</table>\n",
       "<p>6294 rows × 3 columns</p>\n",
       "</div>"
      ],
      "text/plain": [
       "        study_id   series_id series_description\n",
       "0        4003253   702807833   Sagittal T2/STIR\n",
       "1        4003253  1054713880        Sagittal T1\n",
       "2        4003253  2448190387           Axial T2\n",
       "3        4646740  3201256954           Axial T2\n",
       "4        4646740  3486248476        Sagittal T1\n",
       "...          ...         ...                ...\n",
       "6289  4287160193  1507070277   Sagittal T2/STIR\n",
       "6290  4287160193  1820446240           Axial T2\n",
       "6291  4290709089  3274612423   Sagittal T2/STIR\n",
       "6292  4290709089  3390218084           Axial T2\n",
       "6293  4290709089  4237840455        Sagittal T1\n",
       "\n",
       "[6294 rows x 3 columns]"
      ]
     },
     "execution_count": 15,
     "metadata": {},
     "output_type": "execute_result"
    }
   ],
   "source": [
    "df_train_series_descriptions = pd.read_csv(competition_dataset_directory / 'train_series_descriptions.csv')\n",
    "df_train_series_descriptions"
   ]
  },
  {
   "cell_type": "code",
   "execution_count": 16,
   "id": "621b16a2-ff71-4962-89c6-cc86f8776de3",
   "metadata": {},
   "outputs": [
    {
     "data": {
      "text/html": [
       "<div>\n",
       "<style scoped>\n",
       "    .dataframe tbody tr th:only-of-type {\n",
       "        vertical-align: middle;\n",
       "    }\n",
       "\n",
       "    .dataframe tbody tr th {\n",
       "        vertical-align: top;\n",
       "    }\n",
       "\n",
       "    .dataframe thead th {\n",
       "        text-align: right;\n",
       "    }\n",
       "</style>\n",
       "<table border=\"1\" class=\"dataframe\">\n",
       "  <thead>\n",
       "    <tr style=\"text-align: right;\">\n",
       "      <th></th>\n",
       "      <th>study_id</th>\n",
       "      <th>series_id</th>\n",
       "      <th>instance_number</th>\n",
       "      <th>condition</th>\n",
       "      <th>level</th>\n",
       "      <th>x</th>\n",
       "      <th>y</th>\n",
       "    </tr>\n",
       "  </thead>\n",
       "  <tbody>\n",
       "    <tr>\n",
       "      <th>0</th>\n",
       "      <td>4003253</td>\n",
       "      <td>702807833</td>\n",
       "      <td>8</td>\n",
       "      <td>Spinal Canal Stenosis</td>\n",
       "      <td>L1/L2</td>\n",
       "      <td>322.831858</td>\n",
       "      <td>227.964602</td>\n",
       "    </tr>\n",
       "    <tr>\n",
       "      <th>1</th>\n",
       "      <td>4003253</td>\n",
       "      <td>702807833</td>\n",
       "      <td>8</td>\n",
       "      <td>Spinal Canal Stenosis</td>\n",
       "      <td>L2/L3</td>\n",
       "      <td>320.571429</td>\n",
       "      <td>295.714286</td>\n",
       "    </tr>\n",
       "    <tr>\n",
       "      <th>2</th>\n",
       "      <td>4003253</td>\n",
       "      <td>702807833</td>\n",
       "      <td>8</td>\n",
       "      <td>Spinal Canal Stenosis</td>\n",
       "      <td>L3/L4</td>\n",
       "      <td>323.030303</td>\n",
       "      <td>371.818182</td>\n",
       "    </tr>\n",
       "    <tr>\n",
       "      <th>3</th>\n",
       "      <td>4003253</td>\n",
       "      <td>702807833</td>\n",
       "      <td>8</td>\n",
       "      <td>Spinal Canal Stenosis</td>\n",
       "      <td>L4/L5</td>\n",
       "      <td>335.292035</td>\n",
       "      <td>427.327434</td>\n",
       "    </tr>\n",
       "    <tr>\n",
       "      <th>4</th>\n",
       "      <td>4003253</td>\n",
       "      <td>702807833</td>\n",
       "      <td>8</td>\n",
       "      <td>Spinal Canal Stenosis</td>\n",
       "      <td>L5/S1</td>\n",
       "      <td>353.415929</td>\n",
       "      <td>483.964602</td>\n",
       "    </tr>\n",
       "    <tr>\n",
       "      <th>...</th>\n",
       "      <td>...</td>\n",
       "      <td>...</td>\n",
       "      <td>...</td>\n",
       "      <td>...</td>\n",
       "      <td>...</td>\n",
       "      <td>...</td>\n",
       "      <td>...</td>\n",
       "    </tr>\n",
       "    <tr>\n",
       "      <th>48687</th>\n",
       "      <td>4290709089</td>\n",
       "      <td>4237840455</td>\n",
       "      <td>11</td>\n",
       "      <td>Left Neural Foraminal Narrowing</td>\n",
       "      <td>L1/L2</td>\n",
       "      <td>219.465940</td>\n",
       "      <td>97.831063</td>\n",
       "    </tr>\n",
       "    <tr>\n",
       "      <th>48688</th>\n",
       "      <td>4290709089</td>\n",
       "      <td>4237840455</td>\n",
       "      <td>12</td>\n",
       "      <td>Left Neural Foraminal Narrowing</td>\n",
       "      <td>L2/L3</td>\n",
       "      <td>205.340599</td>\n",
       "      <td>140.207084</td>\n",
       "    </tr>\n",
       "    <tr>\n",
       "      <th>48689</th>\n",
       "      <td>4290709089</td>\n",
       "      <td>4237840455</td>\n",
       "      <td>12</td>\n",
       "      <td>Left Neural Foraminal Narrowing</td>\n",
       "      <td>L3/L4</td>\n",
       "      <td>202.724796</td>\n",
       "      <td>181.013624</td>\n",
       "    </tr>\n",
       "    <tr>\n",
       "      <th>48690</th>\n",
       "      <td>4290709089</td>\n",
       "      <td>4237840455</td>\n",
       "      <td>12</td>\n",
       "      <td>Left Neural Foraminal Narrowing</td>\n",
       "      <td>L4/L5</td>\n",
       "      <td>202.933333</td>\n",
       "      <td>219.733333</td>\n",
       "    </tr>\n",
       "    <tr>\n",
       "      <th>48691</th>\n",
       "      <td>4290709089</td>\n",
       "      <td>4237840455</td>\n",
       "      <td>12</td>\n",
       "      <td>Left Neural Foraminal Narrowing</td>\n",
       "      <td>L5/S1</td>\n",
       "      <td>211.813953</td>\n",
       "      <td>259.534884</td>\n",
       "    </tr>\n",
       "  </tbody>\n",
       "</table>\n",
       "<p>48692 rows × 7 columns</p>\n",
       "</div>"
      ],
      "text/plain": [
       "         study_id   series_id  instance_number                        condition  level           x           y\n",
       "0         4003253   702807833                8            Spinal Canal Stenosis  L1/L2  322.831858  227.964602\n",
       "1         4003253   702807833                8            Spinal Canal Stenosis  L2/L3  320.571429  295.714286\n",
       "2         4003253   702807833                8            Spinal Canal Stenosis  L3/L4  323.030303  371.818182\n",
       "3         4003253   702807833                8            Spinal Canal Stenosis  L4/L5  335.292035  427.327434\n",
       "4         4003253   702807833                8            Spinal Canal Stenosis  L5/S1  353.415929  483.964602\n",
       "...           ...         ...              ...                              ...    ...         ...         ...\n",
       "48687  4290709089  4237840455               11  Left Neural Foraminal Narrowing  L1/L2  219.465940   97.831063\n",
       "48688  4290709089  4237840455               12  Left Neural Foraminal Narrowing  L2/L3  205.340599  140.207084\n",
       "48689  4290709089  4237840455               12  Left Neural Foraminal Narrowing  L3/L4  202.724796  181.013624\n",
       "48690  4290709089  4237840455               12  Left Neural Foraminal Narrowing  L4/L5  202.933333  219.733333\n",
       "48691  4290709089  4237840455               12  Left Neural Foraminal Narrowing  L5/S1  211.813953  259.534884\n",
       "\n",
       "[48692 rows x 7 columns]"
      ]
     },
     "execution_count": 16,
     "metadata": {},
     "output_type": "execute_result"
    }
   ],
   "source": [
    "df_train_label_coordinates = pd.read_csv(competition_dataset_directory / 'train_label_coordinates.csv')\n",
    "df_train_label_coordinates"
   ]
  },
  {
   "cell_type": "code",
   "execution_count": 17,
   "id": "78316f24-d575-42a5-9e5a-962556d080e5",
   "metadata": {},
   "outputs": [
    {
     "name": "stdout",
     "output_type": "stream",
     "text": [
      "Training Images Count 147218\n",
      "Training Set Shape: (1975, 26)\n",
      "Train Series Descriptions Shape: (6294, 3)\n",
      "Train Label Coordinates Shape: (48692, 7)\n"
     ]
    }
   ],
   "source": [
    "print(f'Training Images Count {len(train_images)}')\n",
    "print(f'Training Set Shape: {df_train.shape}')\n",
    "print(f'Train Series Descriptions Shape: {df_train_series_descriptions.shape}')\n",
    "print(f'Train Label Coordinates Shape: {df_train_label_coordinates.shape}')"
   ]
  },
  {
   "cell_type": "code",
   "execution_count": 20,
   "id": "f9ad41ec-6e04-4f14-893b-8197dba0d7c8",
   "metadata": {},
   "outputs": [
    {
     "data": {
      "text/plain": [
       "'\\n개요\\n문제는 아래 척추의 퇴행성 상태를 다섯 가지로 분류하는 것입니다. \\n척추관 협착증, 내측 협착증, 관절하 협착증의 세 가지 핵심 조건이 있습니다. \\n그중 마지막 두 가지는 척추의 각 면별로 고려되기 때문에 \\n좌측 신경 내부 협착증, 우측 신경 내부 협착증, 좌측 관절하 협착증, 우측 관절하 협착증, 척추관 협착증이 그 대상입니다. \\n데이터 세트의 각 영상 연구에는 디스크 레벨 L1/L2, L2/L3, L3/L4, L4/L5, L5/S1에서 \\n이 다섯 가지 조건 각각에 대해 주어진 세 가지 심각도 점수(Normal/Mild, Moderate, Serve)가 있습니다.\\n\\n디스크 레벨은 추간판이 위치한 요추의 특정 부위를 말합니다.\\n\\nL1/L2 : 제1요추(L1)와 제2요추(L2) 사이의 디스크\\nL2/L3: 두 번째(L2)와 세 번째(L3) 요추 사이의 디스크\\nL3/L4: 제3요추(L3)와 제4요추(L4) 사이의 디스크\\nL4/L5: 제4 요추(L4)와 제5 요추(L5) 사이의 디스크\\nL5/S1 : 제5요추(L5)와 제1천골(S1) 사이의 디스크\\n이러한 수준은 척추 문제를 평가하고 분류하는 위치를 나타냅니다. 척추의 해부학은 아래에서 확인할 수 있습니다.\\n'"
      ]
     },
     "execution_count": 20,
     "metadata": {},
     "output_type": "execute_result"
    }
   ],
   "source": [
    "'''\n",
    "개요\n",
    "문제는 아래 척추의 퇴행성 상태를 다섯 가지로 분류하는 것입니다. \n",
    "척추관 협착증, 내측 협착증, 관절하 협착증의 세 가지 핵심 조건이 있습니다. \n",
    "그중 마지막 두 가지는 척추의 각 면별로 고려되기 때문에 \n",
    "좌측 신경 내부 협착증, 우측 신경 내부 협착증, 좌측 관절하 협착증, 우측 관절하 협착증, 척추관 협착증이 그 대상입니다. \n",
    "데이터 세트의 각 영상 연구에는 디스크 레벨 L1/L2, L2/L3, L3/L4, L4/L5, L5/S1에서 \n",
    "이 다섯 가지 조건 각각에 대해 주어진 세 가지 심각도 점수(Normal/Mild, Moderate, Serve)가 있습니다.\n",
    "\n",
    "디스크 레벨은 추간판이 위치한 요추의 특정 부위를 말합니다.\n",
    "\n",
    "L1/L2 : 제1요추(L1)와 제2요추(L2) 사이의 디스크\n",
    "L2/L3: 두 번째(L2)와 세 번째(L3) 요추 사이의 디스크\n",
    "L3/L4: 제3요추(L3)와 제4요추(L4) 사이의 디스크\n",
    "L4/L5: 제4 요추(L4)와 제5 요추(L5) 사이의 디스크\n",
    "L5/S1 : 제5요추(L5)와 제1천골(S1) 사이의 디스크\n",
    "이러한 수준은 척추 문제를 평가하고 분류하는 위치를 나타냅니다. 척추의 해부학은 아래에서 확인할 수 있습니다.\n",
    "'''"
   ]
  },
  {
   "cell_type": "code",
   "execution_count": 21,
   "id": "ddc80250-814d-4265-9c80-aff2fb279f8c",
   "metadata": {},
   "outputs": [
    {
     "data": {
      "text/html": [
       "<div>\n",
       "<style scoped>\n",
       "    .dataframe tbody tr th:only-of-type {\n",
       "        vertical-align: middle;\n",
       "    }\n",
       "\n",
       "    .dataframe tbody tr th {\n",
       "        vertical-align: top;\n",
       "    }\n",
       "\n",
       "    .dataframe thead th {\n",
       "        text-align: right;\n",
       "    }\n",
       "</style>\n",
       "<table border=\"1\" class=\"dataframe\">\n",
       "  <thead>\n",
       "    <tr style=\"text-align: right;\">\n",
       "      <th></th>\n",
       "      <th>study_id</th>\n",
       "      <th>spinal_canal_stenosis_l1_l2</th>\n",
       "      <th>spinal_canal_stenosis_l2_l3</th>\n",
       "      <th>spinal_canal_stenosis_l3_l4</th>\n",
       "      <th>spinal_canal_stenosis_l4_l5</th>\n",
       "      <th>spinal_canal_stenosis_l5_s1</th>\n",
       "      <th>left_neural_foraminal_narrowing_l1_l2</th>\n",
       "      <th>left_neural_foraminal_narrowing_l2_l3</th>\n",
       "      <th>left_neural_foraminal_narrowing_l3_l4</th>\n",
       "      <th>left_neural_foraminal_narrowing_l4_l5</th>\n",
       "      <th>left_neural_foraminal_narrowing_l5_s1</th>\n",
       "      <th>right_neural_foraminal_narrowing_l1_l2</th>\n",
       "      <th>right_neural_foraminal_narrowing_l2_l3</th>\n",
       "      <th>right_neural_foraminal_narrowing_l3_l4</th>\n",
       "      <th>right_neural_foraminal_narrowing_l4_l5</th>\n",
       "      <th>right_neural_foraminal_narrowing_l5_s1</th>\n",
       "      <th>left_subarticular_stenosis_l1_l2</th>\n",
       "      <th>left_subarticular_stenosis_l2_l3</th>\n",
       "      <th>left_subarticular_stenosis_l3_l4</th>\n",
       "      <th>left_subarticular_stenosis_l4_l5</th>\n",
       "      <th>left_subarticular_stenosis_l5_s1</th>\n",
       "      <th>right_subarticular_stenosis_l1_l2</th>\n",
       "      <th>right_subarticular_stenosis_l2_l3</th>\n",
       "      <th>right_subarticular_stenosis_l3_l4</th>\n",
       "      <th>right_subarticular_stenosis_l4_l5</th>\n",
       "      <th>right_subarticular_stenosis_l5_s1</th>\n",
       "    </tr>\n",
       "  </thead>\n",
       "  <tbody>\n",
       "    <tr>\n",
       "      <th>0</th>\n",
       "      <td>4003253</td>\n",
       "      <td>Normal/Mild</td>\n",
       "      <td>Normal/Mild</td>\n",
       "      <td>Normal/Mild</td>\n",
       "      <td>Normal/Mild</td>\n",
       "      <td>Normal/Mild</td>\n",
       "      <td>Normal/Mild</td>\n",
       "      <td>Normal/Mild</td>\n",
       "      <td>Normal/Mild</td>\n",
       "      <td>Moderate</td>\n",
       "      <td>Normal/Mild</td>\n",
       "      <td>Normal/Mild</td>\n",
       "      <td>Normal/Mild</td>\n",
       "      <td>Moderate</td>\n",
       "      <td>Moderate</td>\n",
       "      <td>Normal/Mild</td>\n",
       "      <td>Normal/Mild</td>\n",
       "      <td>Normal/Mild</td>\n",
       "      <td>Normal/Mild</td>\n",
       "      <td>Moderate</td>\n",
       "      <td>Normal/Mild</td>\n",
       "      <td>Normal/Mild</td>\n",
       "      <td>Normal/Mild</td>\n",
       "      <td>Normal/Mild</td>\n",
       "      <td>Normal/Mild</td>\n",
       "      <td>Normal/Mild</td>\n",
       "    </tr>\n",
       "    <tr>\n",
       "      <th>1</th>\n",
       "      <td>4646740</td>\n",
       "      <td>Normal/Mild</td>\n",
       "      <td>Normal/Mild</td>\n",
       "      <td>Moderate</td>\n",
       "      <td>Severe</td>\n",
       "      <td>Normal/Mild</td>\n",
       "      <td>Normal/Mild</td>\n",
       "      <td>Normal/Mild</td>\n",
       "      <td>Normal/Mild</td>\n",
       "      <td>Moderate</td>\n",
       "      <td>Moderate</td>\n",
       "      <td>Normal/Mild</td>\n",
       "      <td>Normal/Mild</td>\n",
       "      <td>Moderate</td>\n",
       "      <td>Moderate</td>\n",
       "      <td>Normal/Mild</td>\n",
       "      <td>Normal/Mild</td>\n",
       "      <td>Normal/Mild</td>\n",
       "      <td>Normal/Mild</td>\n",
       "      <td>Severe</td>\n",
       "      <td>Normal/Mild</td>\n",
       "      <td>Normal/Mild</td>\n",
       "      <td>Moderate</td>\n",
       "      <td>Moderate</td>\n",
       "      <td>Moderate</td>\n",
       "      <td>Normal/Mild</td>\n",
       "    </tr>\n",
       "    <tr>\n",
       "      <th>2</th>\n",
       "      <td>7143189</td>\n",
       "      <td>Normal/Mild</td>\n",
       "      <td>Normal/Mild</td>\n",
       "      <td>Normal/Mild</td>\n",
       "      <td>Normal/Mild</td>\n",
       "      <td>Normal/Mild</td>\n",
       "      <td>Normal/Mild</td>\n",
       "      <td>Normal/Mild</td>\n",
       "      <td>Normal/Mild</td>\n",
       "      <td>Normal/Mild</td>\n",
       "      <td>Normal/Mild</td>\n",
       "      <td>Normal/Mild</td>\n",
       "      <td>Normal/Mild</td>\n",
       "      <td>Normal/Mild</td>\n",
       "      <td>Normal/Mild</td>\n",
       "      <td>Normal/Mild</td>\n",
       "      <td>Normal/Mild</td>\n",
       "      <td>Normal/Mild</td>\n",
       "      <td>Normal/Mild</td>\n",
       "      <td>Normal/Mild</td>\n",
       "      <td>Normal/Mild</td>\n",
       "      <td>Normal/Mild</td>\n",
       "      <td>Normal/Mild</td>\n",
       "      <td>Normal/Mild</td>\n",
       "      <td>Normal/Mild</td>\n",
       "      <td>Normal/Mild</td>\n",
       "    </tr>\n",
       "    <tr>\n",
       "      <th>3</th>\n",
       "      <td>8785691</td>\n",
       "      <td>Normal/Mild</td>\n",
       "      <td>Normal/Mild</td>\n",
       "      <td>Normal/Mild</td>\n",
       "      <td>Normal/Mild</td>\n",
       "      <td>Normal/Mild</td>\n",
       "      <td>Normal/Mild</td>\n",
       "      <td>Normal/Mild</td>\n",
       "      <td>Normal/Mild</td>\n",
       "      <td>Moderate</td>\n",
       "      <td>Moderate</td>\n",
       "      <td>Normal/Mild</td>\n",
       "      <td>Normal/Mild</td>\n",
       "      <td>Normal/Mild</td>\n",
       "      <td>Normal/Mild</td>\n",
       "      <td>Normal/Mild</td>\n",
       "      <td>Normal/Mild</td>\n",
       "      <td>Normal/Mild</td>\n",
       "      <td>Normal/Mild</td>\n",
       "      <td>Normal/Mild</td>\n",
       "      <td>Normal/Mild</td>\n",
       "      <td>Normal/Mild</td>\n",
       "      <td>Normal/Mild</td>\n",
       "      <td>Normal/Mild</td>\n",
       "      <td>Normal/Mild</td>\n",
       "      <td>Normal/Mild</td>\n",
       "    </tr>\n",
       "    <tr>\n",
       "      <th>4</th>\n",
       "      <td>10728036</td>\n",
       "      <td>Normal/Mild</td>\n",
       "      <td>Normal/Mild</td>\n",
       "      <td>Normal/Mild</td>\n",
       "      <td>Normal/Mild</td>\n",
       "      <td>Normal/Mild</td>\n",
       "      <td>Normal/Mild</td>\n",
       "      <td>Normal/Mild</td>\n",
       "      <td>Normal/Mild</td>\n",
       "      <td>Normal/Mild</td>\n",
       "      <td>Normal/Mild</td>\n",
       "      <td>Normal/Mild</td>\n",
       "      <td>Normal/Mild</td>\n",
       "      <td>Normal/Mild</td>\n",
       "      <td>Normal/Mild</td>\n",
       "      <td>Normal/Mild</td>\n",
       "      <td>Normal/Mild</td>\n",
       "      <td>Normal/Mild</td>\n",
       "      <td>Normal/Mild</td>\n",
       "      <td>Normal/Mild</td>\n",
       "      <td>Normal/Mild</td>\n",
       "      <td>Normal/Mild</td>\n",
       "      <td>Normal/Mild</td>\n",
       "      <td>Normal/Mild</td>\n",
       "      <td>Moderate</td>\n",
       "      <td>Normal/Mild</td>\n",
       "    </tr>\n",
       "    <tr>\n",
       "      <th>...</th>\n",
       "      <td>...</td>\n",
       "      <td>...</td>\n",
       "      <td>...</td>\n",
       "      <td>...</td>\n",
       "      <td>...</td>\n",
       "      <td>...</td>\n",
       "      <td>...</td>\n",
       "      <td>...</td>\n",
       "      <td>...</td>\n",
       "      <td>...</td>\n",
       "      <td>...</td>\n",
       "      <td>...</td>\n",
       "      <td>...</td>\n",
       "      <td>...</td>\n",
       "      <td>...</td>\n",
       "      <td>...</td>\n",
       "      <td>...</td>\n",
       "      <td>...</td>\n",
       "      <td>...</td>\n",
       "      <td>...</td>\n",
       "      <td>...</td>\n",
       "      <td>...</td>\n",
       "      <td>...</td>\n",
       "      <td>...</td>\n",
       "      <td>...</td>\n",
       "      <td>...</td>\n",
       "    </tr>\n",
       "    <tr>\n",
       "      <th>1970</th>\n",
       "      <td>4282019580</td>\n",
       "      <td>Normal/Mild</td>\n",
       "      <td>Normal/Mild</td>\n",
       "      <td>Normal/Mild</td>\n",
       "      <td>Normal/Mild</td>\n",
       "      <td>Normal/Mild</td>\n",
       "      <td>Normal/Mild</td>\n",
       "      <td>Normal/Mild</td>\n",
       "      <td>Normal/Mild</td>\n",
       "      <td>Moderate</td>\n",
       "      <td>Moderate</td>\n",
       "      <td>Normal/Mild</td>\n",
       "      <td>Normal/Mild</td>\n",
       "      <td>Normal/Mild</td>\n",
       "      <td>Moderate</td>\n",
       "      <td>Severe</td>\n",
       "      <td>Normal/Mild</td>\n",
       "      <td>Normal/Mild</td>\n",
       "      <td>Normal/Mild</td>\n",
       "      <td>Moderate</td>\n",
       "      <td>Normal/Mild</td>\n",
       "      <td>Normal/Mild</td>\n",
       "      <td>Normal/Mild</td>\n",
       "      <td>Moderate</td>\n",
       "      <td>Moderate</td>\n",
       "      <td>Moderate</td>\n",
       "    </tr>\n",
       "    <tr>\n",
       "      <th>1971</th>\n",
       "      <td>4283570761</td>\n",
       "      <td>Normal/Mild</td>\n",
       "      <td>Normal/Mild</td>\n",
       "      <td>Normal/Mild</td>\n",
       "      <td>Normal/Mild</td>\n",
       "      <td>Normal/Mild</td>\n",
       "      <td>Normal/Mild</td>\n",
       "      <td>Normal/Mild</td>\n",
       "      <td>Normal/Mild</td>\n",
       "      <td>Normal/Mild</td>\n",
       "      <td>Normal/Mild</td>\n",
       "      <td>Normal/Mild</td>\n",
       "      <td>Normal/Mild</td>\n",
       "      <td>Normal/Mild</td>\n",
       "      <td>Normal/Mild</td>\n",
       "      <td>Normal/Mild</td>\n",
       "      <td>Normal/Mild</td>\n",
       "      <td>Normal/Mild</td>\n",
       "      <td>Normal/Mild</td>\n",
       "      <td>Normal/Mild</td>\n",
       "      <td>Normal/Mild</td>\n",
       "      <td>Normal/Mild</td>\n",
       "      <td>Normal/Mild</td>\n",
       "      <td>Normal/Mild</td>\n",
       "      <td>Normal/Mild</td>\n",
       "      <td>Normal/Mild</td>\n",
       "    </tr>\n",
       "    <tr>\n",
       "      <th>1972</th>\n",
       "      <td>4284048608</td>\n",
       "      <td>Normal/Mild</td>\n",
       "      <td>Normal/Mild</td>\n",
       "      <td>Normal/Mild</td>\n",
       "      <td>Severe</td>\n",
       "      <td>Normal/Mild</td>\n",
       "      <td>Normal/Mild</td>\n",
       "      <td>Normal/Mild</td>\n",
       "      <td>Normal/Mild</td>\n",
       "      <td>Normal/Mild</td>\n",
       "      <td>Severe</td>\n",
       "      <td>Normal/Mild</td>\n",
       "      <td>Normal/Mild</td>\n",
       "      <td>Normal/Mild</td>\n",
       "      <td>Normal/Mild</td>\n",
       "      <td>Normal/Mild</td>\n",
       "      <td>Normal/Mild</td>\n",
       "      <td>Normal/Mild</td>\n",
       "      <td>Normal/Mild</td>\n",
       "      <td>Severe</td>\n",
       "      <td>Normal/Mild</td>\n",
       "      <td>Normal/Mild</td>\n",
       "      <td>Normal/Mild</td>\n",
       "      <td>Normal/Mild</td>\n",
       "      <td>Severe</td>\n",
       "      <td>Normal/Mild</td>\n",
       "    </tr>\n",
       "    <tr>\n",
       "      <th>1973</th>\n",
       "      <td>4287160193</td>\n",
       "      <td>Normal/Mild</td>\n",
       "      <td>Moderate</td>\n",
       "      <td>Normal/Mild</td>\n",
       "      <td>Normal/Mild</td>\n",
       "      <td>Normal/Mild</td>\n",
       "      <td>Normal/Mild</td>\n",
       "      <td>Normal/Mild</td>\n",
       "      <td>Normal/Mild</td>\n",
       "      <td>Moderate</td>\n",
       "      <td>Normal/Mild</td>\n",
       "      <td>Normal/Mild</td>\n",
       "      <td>Normal/Mild</td>\n",
       "      <td>Normal/Mild</td>\n",
       "      <td>Normal/Mild</td>\n",
       "      <td>Normal/Mild</td>\n",
       "      <td>Normal/Mild</td>\n",
       "      <td>Severe</td>\n",
       "      <td>Moderate</td>\n",
       "      <td>Moderate</td>\n",
       "      <td>Normal/Mild</td>\n",
       "      <td>Normal/Mild</td>\n",
       "      <td>Normal/Mild</td>\n",
       "      <td>Moderate</td>\n",
       "      <td>Moderate</td>\n",
       "      <td>Normal/Mild</td>\n",
       "    </tr>\n",
       "    <tr>\n",
       "      <th>1974</th>\n",
       "      <td>4290709089</td>\n",
       "      <td>Normal/Mild</td>\n",
       "      <td>Normal/Mild</td>\n",
       "      <td>Normal/Mild</td>\n",
       "      <td>Normal/Mild</td>\n",
       "      <td>Normal/Mild</td>\n",
       "      <td>Normal/Mild</td>\n",
       "      <td>Normal/Mild</td>\n",
       "      <td>Normal/Mild</td>\n",
       "      <td>Normal/Mild</td>\n",
       "      <td>Normal/Mild</td>\n",
       "      <td>Normal/Mild</td>\n",
       "      <td>Normal/Mild</td>\n",
       "      <td>Normal/Mild</td>\n",
       "      <td>Normal/Mild</td>\n",
       "      <td>Normal/Mild</td>\n",
       "      <td>Normal/Mild</td>\n",
       "      <td>Normal/Mild</td>\n",
       "      <td>Normal/Mild</td>\n",
       "      <td>Normal/Mild</td>\n",
       "      <td>Normal/Mild</td>\n",
       "      <td>Normal/Mild</td>\n",
       "      <td>Normal/Mild</td>\n",
       "      <td>Normal/Mild</td>\n",
       "      <td>Normal/Mild</td>\n",
       "      <td>Normal/Mild</td>\n",
       "    </tr>\n",
       "  </tbody>\n",
       "</table>\n",
       "<p>1975 rows × 26 columns</p>\n",
       "</div>"
      ],
      "text/plain": [
       "        study_id spinal_canal_stenosis_l1_l2 spinal_canal_stenosis_l2_l3 spinal_canal_stenosis_l3_l4 spinal_canal_stenosis_l4_l5 spinal_canal_stenosis_l5_s1 left_neural_foraminal_narrowing_l1_l2 left_neural_foraminal_narrowing_l2_l3 left_neural_foraminal_narrowing_l3_l4 left_neural_foraminal_narrowing_l4_l5 left_neural_foraminal_narrowing_l5_s1 right_neural_foraminal_narrowing_l1_l2 right_neural_foraminal_narrowing_l2_l3 right_neural_foraminal_narrowing_l3_l4 right_neural_foraminal_narrowing_l4_l5 right_neural_foraminal_narrowing_l5_s1 left_subarticular_stenosis_l1_l2 left_subarticular_stenosis_l2_l3 left_subarticular_stenosis_l3_l4 left_subarticular_stenosis_l4_l5 left_subarticular_stenosis_l5_s1 right_subarticular_stenosis_l1_l2 right_subarticular_stenosis_l2_l3 right_subarticular_stenosis_l3_l4 right_subarticular_stenosis_l4_l5 right_subarticular_stenosis_l5_s1\n",
       "0        4003253                 Normal/Mild                 Normal/Mild                 Normal/Mild                 Normal/Mild                 Normal/Mild                           Normal/Mild                           Normal/Mild                           Normal/Mild                              Moderate                           Normal/Mild                            Normal/Mild                            Normal/Mild                               Moderate                               Moderate                            Normal/Mild                      Normal/Mild                      Normal/Mild                      Normal/Mild                         Moderate                      Normal/Mild                       Normal/Mild                       Normal/Mild                       Normal/Mild                       Normal/Mild                       Normal/Mild\n",
       "1        4646740                 Normal/Mild                 Normal/Mild                    Moderate                      Severe                 Normal/Mild                           Normal/Mild                           Normal/Mild                           Normal/Mild                              Moderate                              Moderate                            Normal/Mild                            Normal/Mild                               Moderate                               Moderate                            Normal/Mild                      Normal/Mild                      Normal/Mild                      Normal/Mild                           Severe                      Normal/Mild                       Normal/Mild                          Moderate                          Moderate                          Moderate                       Normal/Mild\n",
       "2        7143189                 Normal/Mild                 Normal/Mild                 Normal/Mild                 Normal/Mild                 Normal/Mild                           Normal/Mild                           Normal/Mild                           Normal/Mild                           Normal/Mild                           Normal/Mild                            Normal/Mild                            Normal/Mild                            Normal/Mild                            Normal/Mild                            Normal/Mild                      Normal/Mild                      Normal/Mild                      Normal/Mild                      Normal/Mild                      Normal/Mild                       Normal/Mild                       Normal/Mild                       Normal/Mild                       Normal/Mild                       Normal/Mild\n",
       "3        8785691                 Normal/Mild                 Normal/Mild                 Normal/Mild                 Normal/Mild                 Normal/Mild                           Normal/Mild                           Normal/Mild                           Normal/Mild                              Moderate                              Moderate                            Normal/Mild                            Normal/Mild                            Normal/Mild                            Normal/Mild                            Normal/Mild                      Normal/Mild                      Normal/Mild                      Normal/Mild                      Normal/Mild                      Normal/Mild                       Normal/Mild                       Normal/Mild                       Normal/Mild                       Normal/Mild                       Normal/Mild\n",
       "4       10728036                 Normal/Mild                 Normal/Mild                 Normal/Mild                 Normal/Mild                 Normal/Mild                           Normal/Mild                           Normal/Mild                           Normal/Mild                           Normal/Mild                           Normal/Mild                            Normal/Mild                            Normal/Mild                            Normal/Mild                            Normal/Mild                            Normal/Mild                      Normal/Mild                      Normal/Mild                      Normal/Mild                      Normal/Mild                      Normal/Mild                       Normal/Mild                       Normal/Mild                       Normal/Mild                          Moderate                       Normal/Mild\n",
       "...          ...                         ...                         ...                         ...                         ...                         ...                                   ...                                   ...                                   ...                                   ...                                   ...                                    ...                                    ...                                    ...                                    ...                                    ...                              ...                              ...                              ...                              ...                              ...                               ...                               ...                               ...                               ...                               ...\n",
       "1970  4282019580                 Normal/Mild                 Normal/Mild                 Normal/Mild                 Normal/Mild                 Normal/Mild                           Normal/Mild                           Normal/Mild                           Normal/Mild                              Moderate                              Moderate                            Normal/Mild                            Normal/Mild                            Normal/Mild                               Moderate                                 Severe                      Normal/Mild                      Normal/Mild                      Normal/Mild                         Moderate                      Normal/Mild                       Normal/Mild                       Normal/Mild                          Moderate                          Moderate                          Moderate\n",
       "1971  4283570761                 Normal/Mild                 Normal/Mild                 Normal/Mild                 Normal/Mild                 Normal/Mild                           Normal/Mild                           Normal/Mild                           Normal/Mild                           Normal/Mild                           Normal/Mild                            Normal/Mild                            Normal/Mild                            Normal/Mild                            Normal/Mild                            Normal/Mild                      Normal/Mild                      Normal/Mild                      Normal/Mild                      Normal/Mild                      Normal/Mild                       Normal/Mild                       Normal/Mild                       Normal/Mild                       Normal/Mild                       Normal/Mild\n",
       "1972  4284048608                 Normal/Mild                 Normal/Mild                 Normal/Mild                      Severe                 Normal/Mild                           Normal/Mild                           Normal/Mild                           Normal/Mild                           Normal/Mild                                Severe                            Normal/Mild                            Normal/Mild                            Normal/Mild                            Normal/Mild                            Normal/Mild                      Normal/Mild                      Normal/Mild                      Normal/Mild                           Severe                      Normal/Mild                       Normal/Mild                       Normal/Mild                       Normal/Mild                            Severe                       Normal/Mild\n",
       "1973  4287160193                 Normal/Mild                    Moderate                 Normal/Mild                 Normal/Mild                 Normal/Mild                           Normal/Mild                           Normal/Mild                           Normal/Mild                              Moderate                           Normal/Mild                            Normal/Mild                            Normal/Mild                            Normal/Mild                            Normal/Mild                            Normal/Mild                      Normal/Mild                           Severe                         Moderate                         Moderate                      Normal/Mild                       Normal/Mild                       Normal/Mild                          Moderate                          Moderate                       Normal/Mild\n",
       "1974  4290709089                 Normal/Mild                 Normal/Mild                 Normal/Mild                 Normal/Mild                 Normal/Mild                           Normal/Mild                           Normal/Mild                           Normal/Mild                           Normal/Mild                           Normal/Mild                            Normal/Mild                            Normal/Mild                            Normal/Mild                            Normal/Mild                            Normal/Mild                      Normal/Mild                      Normal/Mild                      Normal/Mild                      Normal/Mild                      Normal/Mild                       Normal/Mild                       Normal/Mild                       Normal/Mild                       Normal/Mild                       Normal/Mild\n",
       "\n",
       "[1975 rows x 26 columns]"
      ]
     },
     "execution_count": 21,
     "metadata": {},
     "output_type": "execute_result"
    }
   ],
   "source": [
    "df_train"
   ]
  },
  {
   "cell_type": "code",
   "execution_count": 22,
   "id": "8c9dbfcc-45b0-4dc1-8c86-10a9c72244b2",
   "metadata": {},
   "outputs": [
    {
     "data": {
      "text/plain": [
       "'\\n조건\\n이미 언급했듯이 데이터셋에는 세 가지 조건이 존재합니다. \\n수준 간 분포가 다를 수 있으므로 함께 분석해야 합니다.\\n'"
      ]
     },
     "execution_count": 22,
     "metadata": {},
     "output_type": "execute_result"
    }
   ],
   "source": [
    "'''\n",
    "조건\n",
    "이미 언급했듯이 데이터셋에는 세 가지 조건이 존재합니다. \n",
    "수준 간 분포가 다를 수 있으므로 함께 분석해야 합니다.\n",
    "'''"
   ]
  },
  {
   "cell_type": "code",
   "execution_count": 115,
   "id": "5a3c5433-a378-4b39-8666-b66d201456ee",
   "metadata": {},
   "outputs": [],
   "source": [
    "def visualize_condition_counts(df, title, path=None):\n",
    "    \"\"\"\n",
    "    train 세트의 상태 수 시각화\n",
    "\n",
    "    매개변수\n",
    "    ----------\n",
    "    df: panda.DataFrame\n",
    "        Counts and percentages of conditions\n",
    "\n",
    "    title : str\n",
    "        Title of the plot\n",
    "\n",
    "    path: str, pathlib.path or none\n",
    "        출력 파일의 경로(path is None인 경우 선택한 백엔드와 함께 플롯이 표시됨)\n",
    "    \"\"\"\n",
    "    \n",
    "    y = np.arange(df.shape[0] // 3)\n",
    "\n",
    "    fig = go.Figure()\n",
    "\n",
    "    fig.add_trace(go.Bar(\n",
    "        y=y - 3,\n",
    "        x=df['count'].values[0::3],\n",
    "        orientation='h',\n",
    "        name='Normal/Mild',\n",
    "        marker=dict(color='blue'),\n",
    "        text=[\n",
    "            f'Normal Count: {normal_count} ({normal_percentage:.2f}%)' \n",
    "            for normal_count, normal_percentage in zip(df['count'].values[0::3], df['percentage'].values[0::3])\n",
    "        ],\n",
    "        hoverinfo='text'\n",
    "    ))\n",
    "\n",
    "    fig.add_trace(go.Bar(\n",
    "        y=y,\n",
    "        x=df['count'].values[1::3],\n",
    "        orientation='h',\n",
    "        name='Moderate',\n",
    "        marker=dict(color='orange'),\n",
    "        text=[\n",
    "            f'Moderate Count: {moderate_count} ({moderate_percentage:.2f}%)'\n",
    "            for moderate_count, moderate_percentage in zip(df['count'].values[1::3], df['percentage'].values[1::3])\n",
    "        ],\n",
    "        hoverinfo='text'\n",
    "    ))\n",
    "\n",
    "    fig.add_trace(go.Bar(\n",
    "        y=y + 3,\n",
    "        x=df['count'].values[2::3],\n",
    "        orientation='h',\n",
    "        name='Severe',\n",
    "        marker=dict(color='red'),\n",
    "        text=[\n",
    "            f'Severe Count: {severe_count} ({severe_percentage:.2f}%)'\n",
    "            for severe_count, severe_percentage in zip(df['count'].values[2::3], df['percentage'].values[2::3])\n",
    "        ],\n",
    "        hoverinfo='text'\n",
    "    ))\n",
    "\n",
    "    fig.update_layout(\n",
    "        title=title,\n",
    "        barmode='overlay',\n",
    "        yaxis=dict(\n",
    "            tickvals=y,\n",
    "            ticktext=[\n",
    "                f'{level}<br>Normal Count: {normal_count} ({normal_percentage:.2f}%)<br>Moderate Count: {moderate_count} ({moderate_percentage:.2f}%)<br>Severe Count: {severe_count} ({severe_percentage:.2f}%)' \n",
    "                for level, normal_count, normal_percentage, moderate_count, moderate_percentage, severe_count, severe_percentage in zip(\n",
    "                    df['level'].values[0::3],\n",
    "                    df['count'].values[0::3],\n",
    "                    df['percentage'].values[0::3],\n",
    "                    df['count'].values[1::3],\n",
    "                    df['percentage'].values[1::3],\n",
    "                    df['count'].values[2::3],\n",
    "                    df['percentage'].values[2::3]\n",
    "                )\n",
    "            ],\n",
    "            title=title\n",
    "        ),\n",
    "        xaxis=dict(title='Count'),\n",
    "        width=600,\n",
    "        height=400,\n",
    "        legend=dict(font=dict(size=18))\n",
    "    )\n",
    "\n",
    "    if path is None:\n",
    "        fig.show()\n",
    "    else:\n",
    "        fig.write_image(path)"
   ]
  },
  {
   "cell_type": "code",
   "execution_count": 27,
   "id": "798b7fce-233c-4757-9cd5-8ba5091def76",
   "metadata": {},
   "outputs": [
    {
     "data": {
      "text/plain": [
       "'\\nSpinal Canal Stenosis(척추관 협착증)\\n\\n척추관은 척추의 각 부분을 관통하며 척추를 수용하는 통로입니다. \\n척추관 내 공간이 좁아지면 척추와 그로부터 갈라지는 신경근을 압박할 수 있습니다. \\n이렇게 좁아지면 척추나 신경을 자극하거나 압박하거나 꼬집어 허리 통증과 좌골신경통 등 \\n신경과 관련된 문제가 발생할 수 있습니다. 척추관이 좁아지는 이유는 다양한 질환과 부상 때문입니다. \\n척추관 협착증은 누구에게나 발생할 수 있지만 50세 이상에서 가장 흔히 발생합니다.\\n\\n상태는 일반적으로 척추의 두 영역에 영향을 미칩니다:\\n\\n요추(요추협착증) : 요추에는 5개의 척추뼈가 있어 요추에서 가장 큰 L1~L5로 표시되어 있습니다\\n목(cervical spinal stenosis) : 경추는 목에 7개의 척추뼈가 있으며, C1~C7로 표시되어 있습니다\\n흔하지는 않지만 척추 협착증의 영향을 받을 수 있는 것이 중간 등(흉추)입니다.\\n'"
      ]
     },
     "execution_count": 27,
     "metadata": {},
     "output_type": "execute_result"
    }
   ],
   "source": [
    "'''\n",
    "Spinal Canal Stenosis(척추관 협착증)\n",
    "\n",
    "척추관은 척추의 각 부분을 관통하며 척추를 수용하는 통로입니다. \n",
    "척추관 내 공간이 좁아지면 척추와 그로부터 갈라지는 신경근을 압박할 수 있습니다. \n",
    "이렇게 좁아지면 척추나 신경을 자극하거나 압박하거나 꼬집어 허리 통증과 좌골신경통 등 \n",
    "신경과 관련된 문제가 발생할 수 있습니다. 척추관이 좁아지는 이유는 다양한 질환과 부상 때문입니다. \n",
    "척추관 협착증은 누구에게나 발생할 수 있지만 50세 이상에서 가장 흔히 발생합니다.\n",
    "\n",
    "상태는 일반적으로 척추의 두 영역에 영향을 미칩니다:\n",
    "\n",
    "요추(요추협착증) : 요추에는 5개의 척추뼈가 있어 요추에서 가장 큰 L1~L5로 표시되어 있습니다\n",
    "목(cervical spinal stenosis) : 경추는 목에 7개의 척추뼈가 있으며, C1~C7로 표시되어 있습니다\n",
    "흔하지는 않지만 척추 협착증의 영향을 받을 수 있는 것이 중간 등(흉추)입니다.\n",
    "'''"
   ]
  },
  {
   "cell_type": "code",
   "execution_count": 34,
   "id": "9b331c9c-3d46-4585-805c-d2fb4cf59b27",
   "metadata": {},
   "outputs": [
    {
     "data": {
      "text/plain": [
       "['spinal_canal_stenosis_l1_l2',\n",
       " 'spinal_canal_stenosis_l2_l3',\n",
       " 'spinal_canal_stenosis_l3_l4',\n",
       " 'spinal_canal_stenosis_l4_l5',\n",
       " 'spinal_canal_stenosis_l5_s1']"
      ]
     },
     "execution_count": 34,
     "metadata": {},
     "output_type": "execute_result"
    }
   ],
   "source": [
    "spinal_canal_stenosis_columns = [column for column in df_train.columns if column.startswith('spinal_canal_stenosis')]\n",
    "spinal_canal_stenosis_columns"
   ]
  },
  {
   "cell_type": "code",
   "execution_count": 52,
   "id": "5967d2d4-ee58-4f62-8281-2c30107a55ee",
   "metadata": {},
   "outputs": [],
   "source": [
    "df_train_spinal_canal_stenosis = []"
   ]
  },
  {
   "cell_type": "code",
   "execution_count": 53,
   "id": "b397db74-1d98-49f2-9354-d40d77d6cc6c",
   "metadata": {},
   "outputs": [
    {
     "data": {
      "text/plain": [
       "[     spinal_canal_stenosis  level\n",
       " 0              Normal/Mild  l1_l2\n",
       " 1              Normal/Mild  l1_l2\n",
       " 2              Normal/Mild  l1_l2\n",
       " 3              Normal/Mild  l1_l2\n",
       " 4              Normal/Mild  l1_l2\n",
       " ...                    ...    ...\n",
       " 1970           Normal/Mild  l1_l2\n",
       " 1971           Normal/Mild  l1_l2\n",
       " 1972           Normal/Mild  l1_l2\n",
       " 1973           Normal/Mild  l1_l2\n",
       " 1974           Normal/Mild  l1_l2\n",
       " \n",
       " [1975 rows x 2 columns],\n",
       "      spinal_canal_stenosis  level\n",
       " 0              Normal/Mild  l2_l3\n",
       " 1              Normal/Mild  l2_l3\n",
       " 2              Normal/Mild  l2_l3\n",
       " 3              Normal/Mild  l2_l3\n",
       " 4              Normal/Mild  l2_l3\n",
       " ...                    ...    ...\n",
       " 1970           Normal/Mild  l2_l3\n",
       " 1971           Normal/Mild  l2_l3\n",
       " 1972           Normal/Mild  l2_l3\n",
       " 1973              Moderate  l2_l3\n",
       " 1974           Normal/Mild  l2_l3\n",
       " \n",
       " [1975 rows x 2 columns],\n",
       "      spinal_canal_stenosis  level\n",
       " 0              Normal/Mild  l3_l4\n",
       " 1                 Moderate  l3_l4\n",
       " 2              Normal/Mild  l3_l4\n",
       " 3              Normal/Mild  l3_l4\n",
       " 4              Normal/Mild  l3_l4\n",
       " ...                    ...    ...\n",
       " 1970           Normal/Mild  l3_l4\n",
       " 1971           Normal/Mild  l3_l4\n",
       " 1972           Normal/Mild  l3_l4\n",
       " 1973           Normal/Mild  l3_l4\n",
       " 1974           Normal/Mild  l3_l4\n",
       " \n",
       " [1975 rows x 2 columns],\n",
       "      spinal_canal_stenosis  level\n",
       " 0              Normal/Mild  l4_l5\n",
       " 1                   Severe  l4_l5\n",
       " 2              Normal/Mild  l4_l5\n",
       " 3              Normal/Mild  l4_l5\n",
       " 4              Normal/Mild  l4_l5\n",
       " ...                    ...    ...\n",
       " 1970           Normal/Mild  l4_l5\n",
       " 1971           Normal/Mild  l4_l5\n",
       " 1972                Severe  l4_l5\n",
       " 1973           Normal/Mild  l4_l5\n",
       " 1974           Normal/Mild  l4_l5\n",
       " \n",
       " [1975 rows x 2 columns],\n",
       "      spinal_canal_stenosis  level\n",
       " 0              Normal/Mild  l5_s1\n",
       " 1              Normal/Mild  l5_s1\n",
       " 2              Normal/Mild  l5_s1\n",
       " 3              Normal/Mild  l5_s1\n",
       " 4              Normal/Mild  l5_s1\n",
       " ...                    ...    ...\n",
       " 1970           Normal/Mild  l5_s1\n",
       " 1971           Normal/Mild  l5_s1\n",
       " 1972           Normal/Mild  l5_s1\n",
       " 1973           Normal/Mild  l5_s1\n",
       " 1974           Normal/Mild  l5_s1\n",
       " \n",
       " [1975 rows x 2 columns]]"
      ]
     },
     "execution_count": 53,
     "metadata": {},
     "output_type": "execute_result"
    }
   ],
   "source": [
    "for column in spinal_canal_stenosis_columns:\n",
    "    df = df_train[[column]].copy(deep=True)\n",
    "    df['level'] = '_'.join(column.split('_')[-2:])\n",
    "    df = df.rename(columns={column: 'spinal_canal_stenosis'})\n",
    "    df_train_spinal_canal_stenosis.append(df)\n",
    "    \n",
    "df_train_spinal_canal_stenosis"
   ]
  },
  {
   "cell_type": "code",
   "execution_count": 54,
   "id": "7673ce98-0a9c-4c90-82a1-4475124f0e51",
   "metadata": {},
   "outputs": [
    {
     "data": {
      "text/html": [
       "<div>\n",
       "<style scoped>\n",
       "    .dataframe tbody tr th:only-of-type {\n",
       "        vertical-align: middle;\n",
       "    }\n",
       "\n",
       "    .dataframe tbody tr th {\n",
       "        vertical-align: top;\n",
       "    }\n",
       "\n",
       "    .dataframe thead th {\n",
       "        text-align: right;\n",
       "    }\n",
       "</style>\n",
       "<table border=\"1\" class=\"dataframe\">\n",
       "  <thead>\n",
       "    <tr style=\"text-align: right;\">\n",
       "      <th></th>\n",
       "      <th>spinal_canal_stenosis</th>\n",
       "      <th>level</th>\n",
       "    </tr>\n",
       "  </thead>\n",
       "  <tbody>\n",
       "    <tr>\n",
       "      <th>0</th>\n",
       "      <td>Normal/Mild</td>\n",
       "      <td>l1_l2</td>\n",
       "    </tr>\n",
       "    <tr>\n",
       "      <th>1</th>\n",
       "      <td>Normal/Mild</td>\n",
       "      <td>l1_l2</td>\n",
       "    </tr>\n",
       "    <tr>\n",
       "      <th>2</th>\n",
       "      <td>Normal/Mild</td>\n",
       "      <td>l1_l2</td>\n",
       "    </tr>\n",
       "    <tr>\n",
       "      <th>3</th>\n",
       "      <td>Normal/Mild</td>\n",
       "      <td>l1_l2</td>\n",
       "    </tr>\n",
       "    <tr>\n",
       "      <th>4</th>\n",
       "      <td>Normal/Mild</td>\n",
       "      <td>l1_l2</td>\n",
       "    </tr>\n",
       "    <tr>\n",
       "      <th>...</th>\n",
       "      <td>...</td>\n",
       "      <td>...</td>\n",
       "    </tr>\n",
       "    <tr>\n",
       "      <th>9870</th>\n",
       "      <td>Normal/Mild</td>\n",
       "      <td>l5_s1</td>\n",
       "    </tr>\n",
       "    <tr>\n",
       "      <th>9871</th>\n",
       "      <td>Normal/Mild</td>\n",
       "      <td>l5_s1</td>\n",
       "    </tr>\n",
       "    <tr>\n",
       "      <th>9872</th>\n",
       "      <td>Normal/Mild</td>\n",
       "      <td>l5_s1</td>\n",
       "    </tr>\n",
       "    <tr>\n",
       "      <th>9873</th>\n",
       "      <td>Normal/Mild</td>\n",
       "      <td>l5_s1</td>\n",
       "    </tr>\n",
       "    <tr>\n",
       "      <th>9874</th>\n",
       "      <td>Normal/Mild</td>\n",
       "      <td>l5_s1</td>\n",
       "    </tr>\n",
       "  </tbody>\n",
       "</table>\n",
       "<p>9875 rows × 2 columns</p>\n",
       "</div>"
      ],
      "text/plain": [
       "     spinal_canal_stenosis  level\n",
       "0              Normal/Mild  l1_l2\n",
       "1              Normal/Mild  l1_l2\n",
       "2              Normal/Mild  l1_l2\n",
       "3              Normal/Mild  l1_l2\n",
       "4              Normal/Mild  l1_l2\n",
       "...                    ...    ...\n",
       "9870           Normal/Mild  l5_s1\n",
       "9871           Normal/Mild  l5_s1\n",
       "9872           Normal/Mild  l5_s1\n",
       "9873           Normal/Mild  l5_s1\n",
       "9874           Normal/Mild  l5_s1\n",
       "\n",
       "[9875 rows x 2 columns]"
      ]
     },
     "execution_count": 54,
     "metadata": {},
     "output_type": "execute_result"
    }
   ],
   "source": [
    "df_train_spinal_canal_stenosis = pd.concat(df_train_spinal_canal_stenosis, axis=0).reset_index(drop=True)\n",
    "df_train_spinal_canal_stenosis"
   ]
  },
  {
   "cell_type": "code",
   "execution_count": 58,
   "id": "772690cb-9975-4ced-aea4-051fb7242b9f",
   "metadata": {},
   "outputs": [
    {
     "data": {
      "text/html": [
       "<div>\n",
       "<style scoped>\n",
       "    .dataframe tbody tr th:only-of-type {\n",
       "        vertical-align: middle;\n",
       "    }\n",
       "\n",
       "    .dataframe tbody tr th {\n",
       "        vertical-align: top;\n",
       "    }\n",
       "\n",
       "    .dataframe thead th {\n",
       "        text-align: right;\n",
       "    }\n",
       "</style>\n",
       "<table border=\"1\" class=\"dataframe\">\n",
       "  <thead>\n",
       "    <tr style=\"text-align: right;\">\n",
       "      <th></th>\n",
       "      <th>spinal_canal_stenosis</th>\n",
       "      <th>level</th>\n",
       "      <th>count</th>\n",
       "    </tr>\n",
       "  </thead>\n",
       "  <tbody>\n",
       "    <tr>\n",
       "      <th>0</th>\n",
       "      <td>Normal/Mild</td>\n",
       "      <td>l5_s1</td>\n",
       "      <td>1904</td>\n",
       "    </tr>\n",
       "    <tr>\n",
       "      <th>1</th>\n",
       "      <td>Normal/Mild</td>\n",
       "      <td>l1_l2</td>\n",
       "      <td>1886</td>\n",
       "    </tr>\n",
       "    <tr>\n",
       "      <th>2</th>\n",
       "      <td>Normal/Mild</td>\n",
       "      <td>l2_l3</td>\n",
       "      <td>1770</td>\n",
       "    </tr>\n",
       "    <tr>\n",
       "      <th>3</th>\n",
       "      <td>Normal/Mild</td>\n",
       "      <td>l3_l4</td>\n",
       "      <td>1622</td>\n",
       "    </tr>\n",
       "    <tr>\n",
       "      <th>4</th>\n",
       "      <td>Normal/Mild</td>\n",
       "      <td>l4_l5</td>\n",
       "      <td>1482</td>\n",
       "    </tr>\n",
       "    <tr>\n",
       "      <th>5</th>\n",
       "      <td>Severe</td>\n",
       "      <td>l4_l5</td>\n",
       "      <td>255</td>\n",
       "    </tr>\n",
       "    <tr>\n",
       "      <th>6</th>\n",
       "      <td>Moderate</td>\n",
       "      <td>l4_l5</td>\n",
       "      <td>237</td>\n",
       "    </tr>\n",
       "    <tr>\n",
       "      <th>7</th>\n",
       "      <td>Moderate</td>\n",
       "      <td>l3_l4</td>\n",
       "      <td>230</td>\n",
       "    </tr>\n",
       "    <tr>\n",
       "      <th>8</th>\n",
       "      <td>Moderate</td>\n",
       "      <td>l2_l3</td>\n",
       "      <td>151</td>\n",
       "    </tr>\n",
       "    <tr>\n",
       "      <th>9</th>\n",
       "      <td>Severe</td>\n",
       "      <td>l3_l4</td>\n",
       "      <td>122</td>\n",
       "    </tr>\n",
       "    <tr>\n",
       "      <th>10</th>\n",
       "      <td>Moderate</td>\n",
       "      <td>l1_l2</td>\n",
       "      <td>67</td>\n",
       "    </tr>\n",
       "    <tr>\n",
       "      <th>11</th>\n",
       "      <td>Severe</td>\n",
       "      <td>l2_l3</td>\n",
       "      <td>53</td>\n",
       "    </tr>\n",
       "    <tr>\n",
       "      <th>12</th>\n",
       "      <td>Moderate</td>\n",
       "      <td>l5_s1</td>\n",
       "      <td>51</td>\n",
       "    </tr>\n",
       "    <tr>\n",
       "      <th>13</th>\n",
       "      <td>Severe</td>\n",
       "      <td>l1_l2</td>\n",
       "      <td>21</td>\n",
       "    </tr>\n",
       "    <tr>\n",
       "      <th>14</th>\n",
       "      <td>Severe</td>\n",
       "      <td>l5_s1</td>\n",
       "      <td>19</td>\n",
       "    </tr>\n",
       "  </tbody>\n",
       "</table>\n",
       "</div>"
      ],
      "text/plain": [
       "   spinal_canal_stenosis  level  count\n",
       "0            Normal/Mild  l5_s1   1904\n",
       "1            Normal/Mild  l1_l2   1886\n",
       "2            Normal/Mild  l2_l3   1770\n",
       "3            Normal/Mild  l3_l4   1622\n",
       "4            Normal/Mild  l4_l5   1482\n",
       "5                 Severe  l4_l5    255\n",
       "6               Moderate  l4_l5    237\n",
       "7               Moderate  l3_l4    230\n",
       "8               Moderate  l2_l3    151\n",
       "9                 Severe  l3_l4    122\n",
       "10              Moderate  l1_l2     67\n",
       "11                Severe  l2_l3     53\n",
       "12              Moderate  l5_s1     51\n",
       "13                Severe  l1_l2     21\n",
       "14                Severe  l5_s1     19"
      ]
     },
     "execution_count": 58,
     "metadata": {},
     "output_type": "execute_result"
    }
   ],
   "source": [
    "df_train_spinal_canal_stenosis_counts = df_train_spinal_canal_stenosis.value_counts().reset_index()\n",
    "df_train_spinal_canal_stenosis_counts"
   ]
  },
  {
   "cell_type": "code",
   "execution_count": 60,
   "id": "ef24978f-8188-48c8-86ce-fc690c4a925c",
   "metadata": {},
   "outputs": [
    {
     "data": {
      "text/html": [
       "<div>\n",
       "<style scoped>\n",
       "    .dataframe tbody tr th:only-of-type {\n",
       "        vertical-align: middle;\n",
       "    }\n",
       "\n",
       "    .dataframe tbody tr th {\n",
       "        vertical-align: top;\n",
       "    }\n",
       "\n",
       "    .dataframe thead th {\n",
       "        text-align: right;\n",
       "    }\n",
       "</style>\n",
       "<table border=\"1\" class=\"dataframe\">\n",
       "  <thead>\n",
       "    <tr style=\"text-align: right;\">\n",
       "      <th></th>\n",
       "      <th>spinal_canal_stenosis</th>\n",
       "      <th>level</th>\n",
       "      <th>count</th>\n",
       "      <th>severity</th>\n",
       "    </tr>\n",
       "  </thead>\n",
       "  <tbody>\n",
       "    <tr>\n",
       "      <th>0</th>\n",
       "      <td>Normal/Mild</td>\n",
       "      <td>l5_s1</td>\n",
       "      <td>1904</td>\n",
       "      <td>0</td>\n",
       "    </tr>\n",
       "    <tr>\n",
       "      <th>1</th>\n",
       "      <td>Normal/Mild</td>\n",
       "      <td>l1_l2</td>\n",
       "      <td>1886</td>\n",
       "      <td>0</td>\n",
       "    </tr>\n",
       "    <tr>\n",
       "      <th>2</th>\n",
       "      <td>Normal/Mild</td>\n",
       "      <td>l2_l3</td>\n",
       "      <td>1770</td>\n",
       "      <td>0</td>\n",
       "    </tr>\n",
       "    <tr>\n",
       "      <th>3</th>\n",
       "      <td>Normal/Mild</td>\n",
       "      <td>l3_l4</td>\n",
       "      <td>1622</td>\n",
       "      <td>0</td>\n",
       "    </tr>\n",
       "    <tr>\n",
       "      <th>4</th>\n",
       "      <td>Normal/Mild</td>\n",
       "      <td>l4_l5</td>\n",
       "      <td>1482</td>\n",
       "      <td>0</td>\n",
       "    </tr>\n",
       "    <tr>\n",
       "      <th>5</th>\n",
       "      <td>Severe</td>\n",
       "      <td>l4_l5</td>\n",
       "      <td>255</td>\n",
       "      <td>2</td>\n",
       "    </tr>\n",
       "    <tr>\n",
       "      <th>6</th>\n",
       "      <td>Moderate</td>\n",
       "      <td>l4_l5</td>\n",
       "      <td>237</td>\n",
       "      <td>1</td>\n",
       "    </tr>\n",
       "    <tr>\n",
       "      <th>7</th>\n",
       "      <td>Moderate</td>\n",
       "      <td>l3_l4</td>\n",
       "      <td>230</td>\n",
       "      <td>1</td>\n",
       "    </tr>\n",
       "    <tr>\n",
       "      <th>8</th>\n",
       "      <td>Moderate</td>\n",
       "      <td>l2_l3</td>\n",
       "      <td>151</td>\n",
       "      <td>1</td>\n",
       "    </tr>\n",
       "    <tr>\n",
       "      <th>9</th>\n",
       "      <td>Severe</td>\n",
       "      <td>l3_l4</td>\n",
       "      <td>122</td>\n",
       "      <td>2</td>\n",
       "    </tr>\n",
       "    <tr>\n",
       "      <th>10</th>\n",
       "      <td>Moderate</td>\n",
       "      <td>l1_l2</td>\n",
       "      <td>67</td>\n",
       "      <td>1</td>\n",
       "    </tr>\n",
       "    <tr>\n",
       "      <th>11</th>\n",
       "      <td>Severe</td>\n",
       "      <td>l2_l3</td>\n",
       "      <td>53</td>\n",
       "      <td>2</td>\n",
       "    </tr>\n",
       "    <tr>\n",
       "      <th>12</th>\n",
       "      <td>Moderate</td>\n",
       "      <td>l5_s1</td>\n",
       "      <td>51</td>\n",
       "      <td>1</td>\n",
       "    </tr>\n",
       "    <tr>\n",
       "      <th>13</th>\n",
       "      <td>Severe</td>\n",
       "      <td>l1_l2</td>\n",
       "      <td>21</td>\n",
       "      <td>2</td>\n",
       "    </tr>\n",
       "    <tr>\n",
       "      <th>14</th>\n",
       "      <td>Severe</td>\n",
       "      <td>l5_s1</td>\n",
       "      <td>19</td>\n",
       "      <td>2</td>\n",
       "    </tr>\n",
       "  </tbody>\n",
       "</table>\n",
       "</div>"
      ],
      "text/plain": [
       "   spinal_canal_stenosis  level  count  severity\n",
       "0            Normal/Mild  l5_s1   1904         0\n",
       "1            Normal/Mild  l1_l2   1886         0\n",
       "2            Normal/Mild  l2_l3   1770         0\n",
       "3            Normal/Mild  l3_l4   1622         0\n",
       "4            Normal/Mild  l4_l5   1482         0\n",
       "5                 Severe  l4_l5    255         2\n",
       "6               Moderate  l4_l5    237         1\n",
       "7               Moderate  l3_l4    230         1\n",
       "8               Moderate  l2_l3    151         1\n",
       "9                 Severe  l3_l4    122         2\n",
       "10              Moderate  l1_l2     67         1\n",
       "11                Severe  l2_l3     53         2\n",
       "12              Moderate  l5_s1     51         1\n",
       "13                Severe  l1_l2     21         2\n",
       "14                Severe  l5_s1     19         2"
      ]
     },
     "execution_count": 60,
     "metadata": {},
     "output_type": "execute_result"
    }
   ],
   "source": [
    "df_train_spinal_canal_stenosis_counts['severity'] = df_train_spinal_canal_stenosis_counts['spinal_canal_stenosis'].map({\n",
    "    'Normal/Mild': 0,\n",
    "    'Moderate': 1,\n",
    "    'Severe': 2\n",
    "})\n",
    "df_train_spinal_canal_stenosis_counts"
   ]
  },
  {
   "cell_type": "code",
   "execution_count": 63,
   "id": "9fdc6506-e03a-4feb-8efc-92c04298493e",
   "metadata": {},
   "outputs": [
    {
     "data": {
      "text/html": [
       "<div>\n",
       "<style scoped>\n",
       "    .dataframe tbody tr th:only-of-type {\n",
       "        vertical-align: middle;\n",
       "    }\n",
       "\n",
       "    .dataframe tbody tr th {\n",
       "        vertical-align: top;\n",
       "    }\n",
       "\n",
       "    .dataframe thead th {\n",
       "        text-align: right;\n",
       "    }\n",
       "</style>\n",
       "<table border=\"1\" class=\"dataframe\">\n",
       "  <thead>\n",
       "    <tr style=\"text-align: right;\">\n",
       "      <th></th>\n",
       "      <th>spinal_canal_stenosis</th>\n",
       "      <th>level</th>\n",
       "      <th>count</th>\n",
       "      <th>severity</th>\n",
       "    </tr>\n",
       "  </thead>\n",
       "  <tbody>\n",
       "    <tr>\n",
       "      <th>1</th>\n",
       "      <td>Normal/Mild</td>\n",
       "      <td>l1_l2</td>\n",
       "      <td>1886</td>\n",
       "      <td>0</td>\n",
       "    </tr>\n",
       "    <tr>\n",
       "      <th>10</th>\n",
       "      <td>Moderate</td>\n",
       "      <td>l1_l2</td>\n",
       "      <td>67</td>\n",
       "      <td>1</td>\n",
       "    </tr>\n",
       "    <tr>\n",
       "      <th>13</th>\n",
       "      <td>Severe</td>\n",
       "      <td>l1_l2</td>\n",
       "      <td>21</td>\n",
       "      <td>2</td>\n",
       "    </tr>\n",
       "    <tr>\n",
       "      <th>2</th>\n",
       "      <td>Normal/Mild</td>\n",
       "      <td>l2_l3</td>\n",
       "      <td>1770</td>\n",
       "      <td>0</td>\n",
       "    </tr>\n",
       "    <tr>\n",
       "      <th>8</th>\n",
       "      <td>Moderate</td>\n",
       "      <td>l2_l3</td>\n",
       "      <td>151</td>\n",
       "      <td>1</td>\n",
       "    </tr>\n",
       "    <tr>\n",
       "      <th>11</th>\n",
       "      <td>Severe</td>\n",
       "      <td>l2_l3</td>\n",
       "      <td>53</td>\n",
       "      <td>2</td>\n",
       "    </tr>\n",
       "    <tr>\n",
       "      <th>3</th>\n",
       "      <td>Normal/Mild</td>\n",
       "      <td>l3_l4</td>\n",
       "      <td>1622</td>\n",
       "      <td>0</td>\n",
       "    </tr>\n",
       "    <tr>\n",
       "      <th>7</th>\n",
       "      <td>Moderate</td>\n",
       "      <td>l3_l4</td>\n",
       "      <td>230</td>\n",
       "      <td>1</td>\n",
       "    </tr>\n",
       "    <tr>\n",
       "      <th>9</th>\n",
       "      <td>Severe</td>\n",
       "      <td>l3_l4</td>\n",
       "      <td>122</td>\n",
       "      <td>2</td>\n",
       "    </tr>\n",
       "    <tr>\n",
       "      <th>4</th>\n",
       "      <td>Normal/Mild</td>\n",
       "      <td>l4_l5</td>\n",
       "      <td>1482</td>\n",
       "      <td>0</td>\n",
       "    </tr>\n",
       "    <tr>\n",
       "      <th>6</th>\n",
       "      <td>Moderate</td>\n",
       "      <td>l4_l5</td>\n",
       "      <td>237</td>\n",
       "      <td>1</td>\n",
       "    </tr>\n",
       "    <tr>\n",
       "      <th>5</th>\n",
       "      <td>Severe</td>\n",
       "      <td>l4_l5</td>\n",
       "      <td>255</td>\n",
       "      <td>2</td>\n",
       "    </tr>\n",
       "    <tr>\n",
       "      <th>0</th>\n",
       "      <td>Normal/Mild</td>\n",
       "      <td>l5_s1</td>\n",
       "      <td>1904</td>\n",
       "      <td>0</td>\n",
       "    </tr>\n",
       "    <tr>\n",
       "      <th>12</th>\n",
       "      <td>Moderate</td>\n",
       "      <td>l5_s1</td>\n",
       "      <td>51</td>\n",
       "      <td>1</td>\n",
       "    </tr>\n",
       "    <tr>\n",
       "      <th>14</th>\n",
       "      <td>Severe</td>\n",
       "      <td>l5_s1</td>\n",
       "      <td>19</td>\n",
       "      <td>2</td>\n",
       "    </tr>\n",
       "  </tbody>\n",
       "</table>\n",
       "</div>"
      ],
      "text/plain": [
       "   spinal_canal_stenosis  level  count  severity\n",
       "1            Normal/Mild  l1_l2   1886         0\n",
       "10              Moderate  l1_l2     67         1\n",
       "13                Severe  l1_l2     21         2\n",
       "2            Normal/Mild  l2_l3   1770         0\n",
       "8               Moderate  l2_l3    151         1\n",
       "11                Severe  l2_l3     53         2\n",
       "3            Normal/Mild  l3_l4   1622         0\n",
       "7               Moderate  l3_l4    230         1\n",
       "9                 Severe  l3_l4    122         2\n",
       "4            Normal/Mild  l4_l5   1482         0\n",
       "6               Moderate  l4_l5    237         1\n",
       "5                 Severe  l4_l5    255         2\n",
       "0            Normal/Mild  l5_s1   1904         0\n",
       "12              Moderate  l5_s1     51         1\n",
       "14                Severe  l5_s1     19         2"
      ]
     },
     "execution_count": 63,
     "metadata": {},
     "output_type": "execute_result"
    }
   ],
   "source": [
    "df_train_spinal_canal_stenosis_counts = df_train_spinal_canal_stenosis_counts.sort_values(by=['level', 'severity'], ascending=True)\n",
    "df_train_spinal_canal_stenosis_counts "
   ]
  },
  {
   "cell_type": "code",
   "execution_count": 66,
   "id": "14cb67e2-814b-4261-abbd-8f75ff81df1e",
   "metadata": {},
   "outputs": [
    {
     "data": {
      "text/html": [
       "<div>\n",
       "<style scoped>\n",
       "    .dataframe tbody tr th:only-of-type {\n",
       "        vertical-align: middle;\n",
       "    }\n",
       "\n",
       "    .dataframe tbody tr th {\n",
       "        vertical-align: top;\n",
       "    }\n",
       "\n",
       "    .dataframe thead th {\n",
       "        text-align: right;\n",
       "    }\n",
       "</style>\n",
       "<table border=\"1\" class=\"dataframe\">\n",
       "  <thead>\n",
       "    <tr style=\"text-align: right;\">\n",
       "      <th></th>\n",
       "      <th>spinal_canal_stenosis</th>\n",
       "      <th>level</th>\n",
       "      <th>count</th>\n",
       "      <th>severity</th>\n",
       "      <th>percentage</th>\n",
       "    </tr>\n",
       "  </thead>\n",
       "  <tbody>\n",
       "    <tr>\n",
       "      <th>1</th>\n",
       "      <td>Normal/Mild</td>\n",
       "      <td>l1_l2</td>\n",
       "      <td>1886</td>\n",
       "      <td>0</td>\n",
       "      <td>95.542047</td>\n",
       "    </tr>\n",
       "    <tr>\n",
       "      <th>10</th>\n",
       "      <td>Moderate</td>\n",
       "      <td>l1_l2</td>\n",
       "      <td>67</td>\n",
       "      <td>1</td>\n",
       "      <td>3.394124</td>\n",
       "    </tr>\n",
       "    <tr>\n",
       "      <th>13</th>\n",
       "      <td>Severe</td>\n",
       "      <td>l1_l2</td>\n",
       "      <td>21</td>\n",
       "      <td>2</td>\n",
       "      <td>1.063830</td>\n",
       "    </tr>\n",
       "    <tr>\n",
       "      <th>2</th>\n",
       "      <td>Normal/Mild</td>\n",
       "      <td>l2_l3</td>\n",
       "      <td>1770</td>\n",
       "      <td>0</td>\n",
       "      <td>89.665653</td>\n",
       "    </tr>\n",
       "    <tr>\n",
       "      <th>8</th>\n",
       "      <td>Moderate</td>\n",
       "      <td>l2_l3</td>\n",
       "      <td>151</td>\n",
       "      <td>1</td>\n",
       "      <td>7.649443</td>\n",
       "    </tr>\n",
       "    <tr>\n",
       "      <th>11</th>\n",
       "      <td>Severe</td>\n",
       "      <td>l2_l3</td>\n",
       "      <td>53</td>\n",
       "      <td>2</td>\n",
       "      <td>2.684904</td>\n",
       "    </tr>\n",
       "    <tr>\n",
       "      <th>3</th>\n",
       "      <td>Normal/Mild</td>\n",
       "      <td>l3_l4</td>\n",
       "      <td>1622</td>\n",
       "      <td>0</td>\n",
       "      <td>82.168186</td>\n",
       "    </tr>\n",
       "    <tr>\n",
       "      <th>7</th>\n",
       "      <td>Moderate</td>\n",
       "      <td>l3_l4</td>\n",
       "      <td>230</td>\n",
       "      <td>1</td>\n",
       "      <td>11.651469</td>\n",
       "    </tr>\n",
       "    <tr>\n",
       "      <th>9</th>\n",
       "      <td>Severe</td>\n",
       "      <td>l3_l4</td>\n",
       "      <td>122</td>\n",
       "      <td>2</td>\n",
       "      <td>6.180344</td>\n",
       "    </tr>\n",
       "    <tr>\n",
       "      <th>4</th>\n",
       "      <td>Normal/Mild</td>\n",
       "      <td>l4_l5</td>\n",
       "      <td>1482</td>\n",
       "      <td>0</td>\n",
       "      <td>75.075988</td>\n",
       "    </tr>\n",
       "    <tr>\n",
       "      <th>6</th>\n",
       "      <td>Moderate</td>\n",
       "      <td>l4_l5</td>\n",
       "      <td>237</td>\n",
       "      <td>1</td>\n",
       "      <td>12.006079</td>\n",
       "    </tr>\n",
       "    <tr>\n",
       "      <th>5</th>\n",
       "      <td>Severe</td>\n",
       "      <td>l4_l5</td>\n",
       "      <td>255</td>\n",
       "      <td>2</td>\n",
       "      <td>12.917933</td>\n",
       "    </tr>\n",
       "    <tr>\n",
       "      <th>0</th>\n",
       "      <td>Normal/Mild</td>\n",
       "      <td>l5_s1</td>\n",
       "      <td>1904</td>\n",
       "      <td>0</td>\n",
       "      <td>96.453901</td>\n",
       "    </tr>\n",
       "    <tr>\n",
       "      <th>12</th>\n",
       "      <td>Moderate</td>\n",
       "      <td>l5_s1</td>\n",
       "      <td>51</td>\n",
       "      <td>1</td>\n",
       "      <td>2.583587</td>\n",
       "    </tr>\n",
       "    <tr>\n",
       "      <th>14</th>\n",
       "      <td>Severe</td>\n",
       "      <td>l5_s1</td>\n",
       "      <td>19</td>\n",
       "      <td>2</td>\n",
       "      <td>0.962513</td>\n",
       "    </tr>\n",
       "  </tbody>\n",
       "</table>\n",
       "</div>"
      ],
      "text/plain": [
       "   spinal_canal_stenosis  level  count  severity  percentage\n",
       "1            Normal/Mild  l1_l2   1886         0   95.542047\n",
       "10              Moderate  l1_l2     67         1    3.394124\n",
       "13                Severe  l1_l2     21         2    1.063830\n",
       "2            Normal/Mild  l2_l3   1770         0   89.665653\n",
       "8               Moderate  l2_l3    151         1    7.649443\n",
       "11                Severe  l2_l3     53         2    2.684904\n",
       "3            Normal/Mild  l3_l4   1622         0   82.168186\n",
       "7               Moderate  l3_l4    230         1   11.651469\n",
       "9                 Severe  l3_l4    122         2    6.180344\n",
       "4            Normal/Mild  l4_l5   1482         0   75.075988\n",
       "6               Moderate  l4_l5    237         1   12.006079\n",
       "5                 Severe  l4_l5    255         2   12.917933\n",
       "0            Normal/Mild  l5_s1   1904         0   96.453901\n",
       "12              Moderate  l5_s1     51         1    2.583587\n",
       "14                Severe  l5_s1     19         2    0.962513"
      ]
     },
     "execution_count": 66,
     "metadata": {},
     "output_type": "execute_result"
    }
   ],
   "source": [
    "df_train_spinal_canal_stenosis_counts['percentage'] = df_train_spinal_canal_stenosis_counts['count'] / df_train_spinal_canal_stenosis_counts.groupby('level')['count'].transform('sum') * 100\n",
    "df_train_spinal_canal_stenosis_counts "
   ]
  },
  {
   "cell_type": "code",
   "execution_count": 68,
   "id": "b245b7b9-3aa1-461e-a610-49403e39be4f",
   "metadata": {},
   "outputs": [
    {
     "data": {
      "text/plain": [
       "'\\n다양한 수준 내에서 척추관 협착증의 중증도는 아래에 시각화되어 있습니다. \\nmoderate 및 severe 수치가 L5/S1 수치에 도달할 때까지 지속적으로 증가하기 때문에 \\n이 상태는 낮은 수치에서 더 흔합니다. L5/S1 수치는 moderate 및 severe 수치가 가장 낮은 반면 \\nL4/L5 레벨은 moderate 수치보다 severe 수치가 더 높은 유일한 레벨입니다.\\n'"
      ]
     },
     "execution_count": 68,
     "metadata": {},
     "output_type": "execute_result"
    }
   ],
   "source": [
    "'''\n",
    "다양한 수준 내에서 척추관 협착증의 중증도는 아래에 시각화되어 있습니다. \n",
    "moderate 및 severe 수치가 L5/S1 수치에 도달할 때까지 지속적으로 증가하기 때문에 \n",
    "이 상태는 낮은 수치에서 더 흔합니다. L5/S1 수치는 moderate 및 severe 수치가 가장 낮은 반면 \n",
    "L4/L5 레벨은 moderate 수치보다 severe 수치가 더 높은 유일한 레벨입니다.\n",
    "'''"
   ]
  },
  {
   "cell_type": "code",
   "execution_count": 116,
   "id": "becce02c-5d29-4d6e-9119-363071746e3c",
   "metadata": {},
   "outputs": [
    {
     "data": {
      "application/vnd.plotly.v1+json": {
       "config": {
        "plotlyServerURL": "https://plot.ly"
       },
       "data": [
        {
         "hoverinfo": "text",
         "marker": {
          "color": "blue"
         },
         "name": "Normal/Mild",
         "orientation": "h",
         "text": [
          "Normal Count: 1886 (95.54%)",
          "Normal Count: 1770 (89.67%)",
          "Normal Count: 1622 (82.17%)",
          "Normal Count: 1482 (75.08%)",
          "Normal Count: 1904 (96.45%)"
         ],
         "type": "bar",
         "x": [
          1886,
          1770,
          1622,
          1482,
          1904
         ],
         "y": [
          -3,
          -2,
          -1,
          0,
          1
         ]
        },
        {
         "hoverinfo": "text",
         "marker": {
          "color": "orange"
         },
         "name": "Moderate",
         "orientation": "h",
         "text": [
          "Moderate Count: 67 (3.39%)",
          "Moderate Count: 151 (7.65%)",
          "Moderate Count: 230 (11.65%)",
          "Moderate Count: 237 (12.01%)",
          "Moderate Count: 51 (2.58%)"
         ],
         "type": "bar",
         "x": [
          67,
          151,
          230,
          237,
          51
         ],
         "y": [
          0,
          1,
          2,
          3,
          4
         ]
        },
        {
         "hoverinfo": "text",
         "marker": {
          "color": "red"
         },
         "name": "Severe",
         "orientation": "h",
         "text": [
          "Severe Count: 21 (1.06%)",
          "Severe Count: 53 (2.68%)",
          "Severe Count: 122 (6.18%)",
          "Severe Count: 255 (12.92%)",
          "Severe Count: 19 (0.96%)"
         ],
         "type": "bar",
         "x": [
          21,
          53,
          122,
          255,
          19
         ],
         "y": [
          3,
          4,
          5,
          6,
          7
         ]
        }
       ],
       "layout": {
        "barmode": "overlay",
        "height": 400,
        "legend": {
         "font": {
          "size": 18
         }
        },
        "template": {
         "data": {
          "bar": [
           {
            "error_x": {
             "color": "#2a3f5f"
            },
            "error_y": {
             "color": "#2a3f5f"
            },
            "marker": {
             "line": {
              "color": "#E5ECF6",
              "width": 0.5
             },
             "pattern": {
              "fillmode": "overlay",
              "size": 10,
              "solidity": 0.2
             }
            },
            "type": "bar"
           }
          ],
          "barpolar": [
           {
            "marker": {
             "line": {
              "color": "#E5ECF6",
              "width": 0.5
             },
             "pattern": {
              "fillmode": "overlay",
              "size": 10,
              "solidity": 0.2
             }
            },
            "type": "barpolar"
           }
          ],
          "carpet": [
           {
            "aaxis": {
             "endlinecolor": "#2a3f5f",
             "gridcolor": "white",
             "linecolor": "white",
             "minorgridcolor": "white",
             "startlinecolor": "#2a3f5f"
            },
            "baxis": {
             "endlinecolor": "#2a3f5f",
             "gridcolor": "white",
             "linecolor": "white",
             "minorgridcolor": "white",
             "startlinecolor": "#2a3f5f"
            },
            "type": "carpet"
           }
          ],
          "choropleth": [
           {
            "colorbar": {
             "outlinewidth": 0,
             "ticks": ""
            },
            "type": "choropleth"
           }
          ],
          "contour": [
           {
            "colorbar": {
             "outlinewidth": 0,
             "ticks": ""
            },
            "colorscale": [
             [
              0,
              "#0d0887"
             ],
             [
              0.1111111111111111,
              "#46039f"
             ],
             [
              0.2222222222222222,
              "#7201a8"
             ],
             [
              0.3333333333333333,
              "#9c179e"
             ],
             [
              0.4444444444444444,
              "#bd3786"
             ],
             [
              0.5555555555555556,
              "#d8576b"
             ],
             [
              0.6666666666666666,
              "#ed7953"
             ],
             [
              0.7777777777777778,
              "#fb9f3a"
             ],
             [
              0.8888888888888888,
              "#fdca26"
             ],
             [
              1,
              "#f0f921"
             ]
            ],
            "type": "contour"
           }
          ],
          "contourcarpet": [
           {
            "colorbar": {
             "outlinewidth": 0,
             "ticks": ""
            },
            "type": "contourcarpet"
           }
          ],
          "heatmap": [
           {
            "colorbar": {
             "outlinewidth": 0,
             "ticks": ""
            },
            "colorscale": [
             [
              0,
              "#0d0887"
             ],
             [
              0.1111111111111111,
              "#46039f"
             ],
             [
              0.2222222222222222,
              "#7201a8"
             ],
             [
              0.3333333333333333,
              "#9c179e"
             ],
             [
              0.4444444444444444,
              "#bd3786"
             ],
             [
              0.5555555555555556,
              "#d8576b"
             ],
             [
              0.6666666666666666,
              "#ed7953"
             ],
             [
              0.7777777777777778,
              "#fb9f3a"
             ],
             [
              0.8888888888888888,
              "#fdca26"
             ],
             [
              1,
              "#f0f921"
             ]
            ],
            "type": "heatmap"
           }
          ],
          "heatmapgl": [
           {
            "colorbar": {
             "outlinewidth": 0,
             "ticks": ""
            },
            "colorscale": [
             [
              0,
              "#0d0887"
             ],
             [
              0.1111111111111111,
              "#46039f"
             ],
             [
              0.2222222222222222,
              "#7201a8"
             ],
             [
              0.3333333333333333,
              "#9c179e"
             ],
             [
              0.4444444444444444,
              "#bd3786"
             ],
             [
              0.5555555555555556,
              "#d8576b"
             ],
             [
              0.6666666666666666,
              "#ed7953"
             ],
             [
              0.7777777777777778,
              "#fb9f3a"
             ],
             [
              0.8888888888888888,
              "#fdca26"
             ],
             [
              1,
              "#f0f921"
             ]
            ],
            "type": "heatmapgl"
           }
          ],
          "histogram": [
           {
            "marker": {
             "pattern": {
              "fillmode": "overlay",
              "size": 10,
              "solidity": 0.2
             }
            },
            "type": "histogram"
           }
          ],
          "histogram2d": [
           {
            "colorbar": {
             "outlinewidth": 0,
             "ticks": ""
            },
            "colorscale": [
             [
              0,
              "#0d0887"
             ],
             [
              0.1111111111111111,
              "#46039f"
             ],
             [
              0.2222222222222222,
              "#7201a8"
             ],
             [
              0.3333333333333333,
              "#9c179e"
             ],
             [
              0.4444444444444444,
              "#bd3786"
             ],
             [
              0.5555555555555556,
              "#d8576b"
             ],
             [
              0.6666666666666666,
              "#ed7953"
             ],
             [
              0.7777777777777778,
              "#fb9f3a"
             ],
             [
              0.8888888888888888,
              "#fdca26"
             ],
             [
              1,
              "#f0f921"
             ]
            ],
            "type": "histogram2d"
           }
          ],
          "histogram2dcontour": [
           {
            "colorbar": {
             "outlinewidth": 0,
             "ticks": ""
            },
            "colorscale": [
             [
              0,
              "#0d0887"
             ],
             [
              0.1111111111111111,
              "#46039f"
             ],
             [
              0.2222222222222222,
              "#7201a8"
             ],
             [
              0.3333333333333333,
              "#9c179e"
             ],
             [
              0.4444444444444444,
              "#bd3786"
             ],
             [
              0.5555555555555556,
              "#d8576b"
             ],
             [
              0.6666666666666666,
              "#ed7953"
             ],
             [
              0.7777777777777778,
              "#fb9f3a"
             ],
             [
              0.8888888888888888,
              "#fdca26"
             ],
             [
              1,
              "#f0f921"
             ]
            ],
            "type": "histogram2dcontour"
           }
          ],
          "mesh3d": [
           {
            "colorbar": {
             "outlinewidth": 0,
             "ticks": ""
            },
            "type": "mesh3d"
           }
          ],
          "parcoords": [
           {
            "line": {
             "colorbar": {
              "outlinewidth": 0,
              "ticks": ""
             }
            },
            "type": "parcoords"
           }
          ],
          "pie": [
           {
            "automargin": true,
            "type": "pie"
           }
          ],
          "scatter": [
           {
            "fillpattern": {
             "fillmode": "overlay",
             "size": 10,
             "solidity": 0.2
            },
            "type": "scatter"
           }
          ],
          "scatter3d": [
           {
            "line": {
             "colorbar": {
              "outlinewidth": 0,
              "ticks": ""
             }
            },
            "marker": {
             "colorbar": {
              "outlinewidth": 0,
              "ticks": ""
             }
            },
            "type": "scatter3d"
           }
          ],
          "scattercarpet": [
           {
            "marker": {
             "colorbar": {
              "outlinewidth": 0,
              "ticks": ""
             }
            },
            "type": "scattercarpet"
           }
          ],
          "scattergeo": [
           {
            "marker": {
             "colorbar": {
              "outlinewidth": 0,
              "ticks": ""
             }
            },
            "type": "scattergeo"
           }
          ],
          "scattergl": [
           {
            "marker": {
             "colorbar": {
              "outlinewidth": 0,
              "ticks": ""
             }
            },
            "type": "scattergl"
           }
          ],
          "scattermapbox": [
           {
            "marker": {
             "colorbar": {
              "outlinewidth": 0,
              "ticks": ""
             }
            },
            "type": "scattermapbox"
           }
          ],
          "scatterpolar": [
           {
            "marker": {
             "colorbar": {
              "outlinewidth": 0,
              "ticks": ""
             }
            },
            "type": "scatterpolar"
           }
          ],
          "scatterpolargl": [
           {
            "marker": {
             "colorbar": {
              "outlinewidth": 0,
              "ticks": ""
             }
            },
            "type": "scatterpolargl"
           }
          ],
          "scatterternary": [
           {
            "marker": {
             "colorbar": {
              "outlinewidth": 0,
              "ticks": ""
             }
            },
            "type": "scatterternary"
           }
          ],
          "surface": [
           {
            "colorbar": {
             "outlinewidth": 0,
             "ticks": ""
            },
            "colorscale": [
             [
              0,
              "#0d0887"
             ],
             [
              0.1111111111111111,
              "#46039f"
             ],
             [
              0.2222222222222222,
              "#7201a8"
             ],
             [
              0.3333333333333333,
              "#9c179e"
             ],
             [
              0.4444444444444444,
              "#bd3786"
             ],
             [
              0.5555555555555556,
              "#d8576b"
             ],
             [
              0.6666666666666666,
              "#ed7953"
             ],
             [
              0.7777777777777778,
              "#fb9f3a"
             ],
             [
              0.8888888888888888,
              "#fdca26"
             ],
             [
              1,
              "#f0f921"
             ]
            ],
            "type": "surface"
           }
          ],
          "table": [
           {
            "cells": {
             "fill": {
              "color": "#EBF0F8"
             },
             "line": {
              "color": "white"
             }
            },
            "header": {
             "fill": {
              "color": "#C8D4E3"
             },
             "line": {
              "color": "white"
             }
            },
            "type": "table"
           }
          ]
         },
         "layout": {
          "annotationdefaults": {
           "arrowcolor": "#2a3f5f",
           "arrowhead": 0,
           "arrowwidth": 1
          },
          "autotypenumbers": "strict",
          "coloraxis": {
           "colorbar": {
            "outlinewidth": 0,
            "ticks": ""
           }
          },
          "colorscale": {
           "diverging": [
            [
             0,
             "#8e0152"
            ],
            [
             0.1,
             "#c51b7d"
            ],
            [
             0.2,
             "#de77ae"
            ],
            [
             0.3,
             "#f1b6da"
            ],
            [
             0.4,
             "#fde0ef"
            ],
            [
             0.5,
             "#f7f7f7"
            ],
            [
             0.6,
             "#e6f5d0"
            ],
            [
             0.7,
             "#b8e186"
            ],
            [
             0.8,
             "#7fbc41"
            ],
            [
             0.9,
             "#4d9221"
            ],
            [
             1,
             "#276419"
            ]
           ],
           "sequential": [
            [
             0,
             "#0d0887"
            ],
            [
             0.1111111111111111,
             "#46039f"
            ],
            [
             0.2222222222222222,
             "#7201a8"
            ],
            [
             0.3333333333333333,
             "#9c179e"
            ],
            [
             0.4444444444444444,
             "#bd3786"
            ],
            [
             0.5555555555555556,
             "#d8576b"
            ],
            [
             0.6666666666666666,
             "#ed7953"
            ],
            [
             0.7777777777777778,
             "#fb9f3a"
            ],
            [
             0.8888888888888888,
             "#fdca26"
            ],
            [
             1,
             "#f0f921"
            ]
           ],
           "sequentialminus": [
            [
             0,
             "#0d0887"
            ],
            [
             0.1111111111111111,
             "#46039f"
            ],
            [
             0.2222222222222222,
             "#7201a8"
            ],
            [
             0.3333333333333333,
             "#9c179e"
            ],
            [
             0.4444444444444444,
             "#bd3786"
            ],
            [
             0.5555555555555556,
             "#d8576b"
            ],
            [
             0.6666666666666666,
             "#ed7953"
            ],
            [
             0.7777777777777778,
             "#fb9f3a"
            ],
            [
             0.8888888888888888,
             "#fdca26"
            ],
            [
             1,
             "#f0f921"
            ]
           ]
          },
          "colorway": [
           "#636efa",
           "#EF553B",
           "#00cc96",
           "#ab63fa",
           "#FFA15A",
           "#19d3f3",
           "#FF6692",
           "#B6E880",
           "#FF97FF",
           "#FECB52"
          ],
          "font": {
           "color": "#2a3f5f"
          },
          "geo": {
           "bgcolor": "white",
           "lakecolor": "white",
           "landcolor": "#E5ECF6",
           "showlakes": true,
           "showland": true,
           "subunitcolor": "white"
          },
          "hoverlabel": {
           "align": "left"
          },
          "hovermode": "closest",
          "mapbox": {
           "style": "light"
          },
          "paper_bgcolor": "white",
          "plot_bgcolor": "#E5ECF6",
          "polar": {
           "angularaxis": {
            "gridcolor": "white",
            "linecolor": "white",
            "ticks": ""
           },
           "bgcolor": "#E5ECF6",
           "radialaxis": {
            "gridcolor": "white",
            "linecolor": "white",
            "ticks": ""
           }
          },
          "scene": {
           "xaxis": {
            "backgroundcolor": "#E5ECF6",
            "gridcolor": "white",
            "gridwidth": 2,
            "linecolor": "white",
            "showbackground": true,
            "ticks": "",
            "zerolinecolor": "white"
           },
           "yaxis": {
            "backgroundcolor": "#E5ECF6",
            "gridcolor": "white",
            "gridwidth": 2,
            "linecolor": "white",
            "showbackground": true,
            "ticks": "",
            "zerolinecolor": "white"
           },
           "zaxis": {
            "backgroundcolor": "#E5ECF6",
            "gridcolor": "white",
            "gridwidth": 2,
            "linecolor": "white",
            "showbackground": true,
            "ticks": "",
            "zerolinecolor": "white"
           }
          },
          "shapedefaults": {
           "line": {
            "color": "#2a3f5f"
           }
          },
          "ternary": {
           "aaxis": {
            "gridcolor": "white",
            "linecolor": "white",
            "ticks": ""
           },
           "baxis": {
            "gridcolor": "white",
            "linecolor": "white",
            "ticks": ""
           },
           "bgcolor": "#E5ECF6",
           "caxis": {
            "gridcolor": "white",
            "linecolor": "white",
            "ticks": ""
           }
          },
          "title": {
           "x": 0.05
          },
          "xaxis": {
           "automargin": true,
           "gridcolor": "white",
           "linecolor": "white",
           "ticks": "",
           "title": {
            "standoff": 15
           },
           "zerolinecolor": "white",
           "zerolinewidth": 2
          },
          "yaxis": {
           "automargin": true,
           "gridcolor": "white",
           "linecolor": "white",
           "ticks": "",
           "title": {
            "standoff": 15
           },
           "zerolinecolor": "white",
           "zerolinewidth": 2
          }
         }
        },
        "title": {
         "text": "Spinal Canal Stenosis Counts On Levels"
        },
        "width": 600,
        "xaxis": {
         "autorange": true,
         "range": [
          0,
          2004.2105263157894
         ],
         "title": {
          "text": "Count"
         },
         "type": "linear"
        },
        "yaxis": {
         "autorange": true,
         "range": [
          -3.5,
          7.5
         ],
         "ticktext": [
          "l1_l2<br>Normal Count: 1886 (95.54%)<br>Moderate Count: 67 (3.39%)<br>Severe Count: 21 (1.06%)",
          "l2_l3<br>Normal Count: 1770 (89.67%)<br>Moderate Count: 151 (7.65%)<br>Severe Count: 53 (2.68%)",
          "l3_l4<br>Normal Count: 1622 (82.17%)<br>Moderate Count: 230 (11.65%)<br>Severe Count: 122 (6.18%)",
          "l4_l5<br>Normal Count: 1482 (75.08%)<br>Moderate Count: 237 (12.01%)<br>Severe Count: 255 (12.92%)",
          "l5_s1<br>Normal Count: 1904 (96.45%)<br>Moderate Count: 51 (2.58%)<br>Severe Count: 19 (0.96%)"
         ],
         "tickvals": [
          0,
          1,
          2,
          3,
          4
         ],
         "title": {
          "text": "Spinal Canal Stenosis Counts On Levels"
         },
         "type": "linear"
        }
       }
      },
      "image/png": "[encoded data removed]",
      "text/html": [
       "<div>                            <div id=\"09b5e5cc-2c4e-4a41-a450-96b4c887a3de\" class=\"plotly-graph-div\" style=\"height:400px; width:600px;\"></div>            <script type=\"text/javascript\">                require([\"plotly\"], function(Plotly) {                    window.PLOTLYENV=window.PLOTLYENV || {};                                    if (document.getElementById(\"09b5e5cc-2c4e-4a41-a450-96b4c887a3de\")) {                    Plotly.newPlot(                        \"09b5e5cc-2c4e-4a41-a450-96b4c887a3de\",                        [{\"hoverinfo\":\"text\",\"marker\":{\"color\":\"blue\"},\"name\":\"Normal\\u002fMild\",\"orientation\":\"h\",\"text\":[\"Normal Count: 1886 (95.54%)\",\"Normal Count: 1770 (89.67%)\",\"Normal Count: 1622 (82.17%)\",\"Normal Count: 1482 (75.08%)\",\"Normal Count: 1904 (96.45%)\"],\"x\":[1886,1770,1622,1482,1904],\"y\":[-3,-2,-1,0,1],\"type\":\"bar\"},{\"hoverinfo\":\"text\",\"marker\":{\"color\":\"orange\"},\"name\":\"Moderate\",\"orientation\":\"h\",\"text\":[\"Moderate Count: 67 (3.39%)\",\"Moderate Count: 151 (7.65%)\",\"Moderate Count: 230 (11.65%)\",\"Moderate Count: 237 (12.01%)\",\"Moderate Count: 51 (2.58%)\"],\"x\":[67,151,230,237,51],\"y\":[0,1,2,3,4],\"type\":\"bar\"},{\"hoverinfo\":\"text\",\"marker\":{\"color\":\"red\"},\"name\":\"Severe\",\"orientation\":\"h\",\"text\":[\"Severe Count: 21 (1.06%)\",\"Severe Count: 53 (2.68%)\",\"Severe Count: 122 (6.18%)\",\"Severe Count: 255 (12.92%)\",\"Severe Count: 19 (0.96%)\"],\"x\":[21,53,122,255,19],\"y\":[3,4,5,6,7],\"type\":\"bar\"}],                        {\"template\":{\"data\":{\"histogram2dcontour\":[{\"type\":\"histogram2dcontour\",\"colorbar\":{\"outlinewidth\":0,\"ticks\":\"\"},\"colorscale\":[[0.0,\"#0d0887\"],[0.1111111111111111,\"#46039f\"],[0.2222222222222222,\"#7201a8\"],[0.3333333333333333,\"#9c179e\"],[0.4444444444444444,\"#bd3786\"],[0.5555555555555556,\"#d8576b\"],[0.6666666666666666,\"#ed7953\"],[0.7777777777777778,\"#fb9f3a\"],[0.8888888888888888,\"#fdca26\"],[1.0,\"#f0f921\"]]}],\"choropleth\":[{\"type\":\"choropleth\",\"colorbar\":{\"outlinewidth\":0,\"ticks\":\"\"}}],\"histogram2d\":[{\"type\":\"histogram2d\",\"colorbar\":{\"outlinewidth\":0,\"ticks\":\"\"},\"colorscale\":[[0.0,\"#0d0887\"],[0.1111111111111111,\"#46039f\"],[0.2222222222222222,\"#7201a8\"],[0.3333333333333333,\"#9c179e\"],[0.4444444444444444,\"#bd3786\"],[0.5555555555555556,\"#d8576b\"],[0.6666666666666666,\"#ed7953\"],[0.7777777777777778,\"#fb9f3a\"],[0.8888888888888888,\"#fdca26\"],[1.0,\"#f0f921\"]]}],\"heatmap\":[{\"type\":\"heatmap\",\"colorbar\":{\"outlinewidth\":0,\"ticks\":\"\"},\"colorscale\":[[0.0,\"#0d0887\"],[0.1111111111111111,\"#46039f\"],[0.2222222222222222,\"#7201a8\"],[0.3333333333333333,\"#9c179e\"],[0.4444444444444444,\"#bd3786\"],[0.5555555555555556,\"#d8576b\"],[0.6666666666666666,\"#ed7953\"],[0.7777777777777778,\"#fb9f3a\"],[0.8888888888888888,\"#fdca26\"],[1.0,\"#f0f921\"]]}],\"heatmapgl\":[{\"type\":\"heatmapgl\",\"colorbar\":{\"outlinewidth\":0,\"ticks\":\"\"},\"colorscale\":[[0.0,\"#0d0887\"],[0.1111111111111111,\"#46039f\"],[0.2222222222222222,\"#7201a8\"],[0.3333333333333333,\"#9c179e\"],[0.4444444444444444,\"#bd3786\"],[0.5555555555555556,\"#d8576b\"],[0.6666666666666666,\"#ed7953\"],[0.7777777777777778,\"#fb9f3a\"],[0.8888888888888888,\"#fdca26\"],[1.0,\"#f0f921\"]]}],\"contourcarpet\":[{\"type\":\"contourcarpet\",\"colorbar\":{\"outlinewidth\":0,\"ticks\":\"\"}}],\"contour\":[{\"type\":\"contour\",\"colorbar\":{\"outlinewidth\":0,\"ticks\":\"\"},\"colorscale\":[[0.0,\"#0d0887\"],[0.1111111111111111,\"#46039f\"],[0.2222222222222222,\"#7201a8\"],[0.3333333333333333,\"#9c179e\"],[0.4444444444444444,\"#bd3786\"],[0.5555555555555556,\"#d8576b\"],[0.6666666666666666,\"#ed7953\"],[0.7777777777777778,\"#fb9f3a\"],[0.8888888888888888,\"#fdca26\"],[1.0,\"#f0f921\"]]}],\"surface\":[{\"type\":\"surface\",\"colorbar\":{\"outlinewidth\":0,\"ticks\":\"\"},\"colorscale\":[[0.0,\"#0d0887\"],[0.1111111111111111,\"#46039f\"],[0.2222222222222222,\"#7201a8\"],[0.3333333333333333,\"#9c179e\"],[0.4444444444444444,\"#bd3786\"],[0.5555555555555556,\"#d8576b\"],[0.6666666666666666,\"#ed7953\"],[0.7777777777777778,\"#fb9f3a\"],[0.8888888888888888,\"#fdca26\"],[1.0,\"#f0f921\"]]}],\"mesh3d\":[{\"type\":\"mesh3d\",\"colorbar\":{\"outlinewidth\":0,\"ticks\":\"\"}}],\"scatter\":[{\"fillpattern\":{\"fillmode\":\"overlay\",\"size\":10,\"solidity\":0.2},\"type\":\"scatter\"}],\"parcoords\":[{\"type\":\"parcoords\",\"line\":{\"colorbar\":{\"outlinewidth\":0,\"ticks\":\"\"}}}],\"scatterpolargl\":[{\"type\":\"scatterpolargl\",\"marker\":{\"colorbar\":{\"outlinewidth\":0,\"ticks\":\"\"}}}],\"bar\":[{\"error_x\":{\"color\":\"#2a3f5f\"},\"error_y\":{\"color\":\"#2a3f5f\"},\"marker\":{\"line\":{\"color\":\"#E5ECF6\",\"width\":0.5},\"pattern\":{\"fillmode\":\"overlay\",\"size\":10,\"solidity\":0.2}},\"type\":\"bar\"}],\"scattergeo\":[{\"type\":\"scattergeo\",\"marker\":{\"colorbar\":{\"outlinewidth\":0,\"ticks\":\"\"}}}],\"scatterpolar\":[{\"type\":\"scatterpolar\",\"marker\":{\"colorbar\":{\"outlinewidth\":0,\"ticks\":\"\"}}}],\"histogram\":[{\"marker\":{\"pattern\":{\"fillmode\":\"overlay\",\"size\":10,\"solidity\":0.2}},\"type\":\"histogram\"}],\"scattergl\":[{\"type\":\"scattergl\",\"marker\":{\"colorbar\":{\"outlinewidth\":0,\"ticks\":\"\"}}}],\"scatter3d\":[{\"type\":\"scatter3d\",\"line\":{\"colorbar\":{\"outlinewidth\":0,\"ticks\":\"\"}},\"marker\":{\"colorbar\":{\"outlinewidth\":0,\"ticks\":\"\"}}}],\"scattermapbox\":[{\"type\":\"scattermapbox\",\"marker\":{\"colorbar\":{\"outlinewidth\":0,\"ticks\":\"\"}}}],\"scatterternary\":[{\"type\":\"scatterternary\",\"marker\":{\"colorbar\":{\"outlinewidth\":0,\"ticks\":\"\"}}}],\"scattercarpet\":[{\"type\":\"scattercarpet\",\"marker\":{\"colorbar\":{\"outlinewidth\":0,\"ticks\":\"\"}}}],\"carpet\":[{\"aaxis\":{\"endlinecolor\":\"#2a3f5f\",\"gridcolor\":\"white\",\"linecolor\":\"white\",\"minorgridcolor\":\"white\",\"startlinecolor\":\"#2a3f5f\"},\"baxis\":{\"endlinecolor\":\"#2a3f5f\",\"gridcolor\":\"white\",\"linecolor\":\"white\",\"minorgridcolor\":\"white\",\"startlinecolor\":\"#2a3f5f\"},\"type\":\"carpet\"}],\"table\":[{\"cells\":{\"fill\":{\"color\":\"#EBF0F8\"},\"line\":{\"color\":\"white\"}},\"header\":{\"fill\":{\"color\":\"#C8D4E3\"},\"line\":{\"color\":\"white\"}},\"type\":\"table\"}],\"barpolar\":[{\"marker\":{\"line\":{\"color\":\"#E5ECF6\",\"width\":0.5},\"pattern\":{\"fillmode\":\"overlay\",\"size\":10,\"solidity\":0.2}},\"type\":\"barpolar\"}],\"pie\":[{\"automargin\":true,\"type\":\"pie\"}]},\"layout\":{\"autotypenumbers\":\"strict\",\"colorway\":[\"#636efa\",\"#EF553B\",\"#00cc96\",\"#ab63fa\",\"#FFA15A\",\"#19d3f3\",\"#FF6692\",\"#B6E880\",\"#FF97FF\",\"#FECB52\"],\"font\":{\"color\":\"#2a3f5f\"},\"hovermode\":\"closest\",\"hoverlabel\":{\"align\":\"left\"},\"paper_bgcolor\":\"white\",\"plot_bgcolor\":\"#E5ECF6\",\"polar\":{\"bgcolor\":\"#E5ECF6\",\"angularaxis\":{\"gridcolor\":\"white\",\"linecolor\":\"white\",\"ticks\":\"\"},\"radialaxis\":{\"gridcolor\":\"white\",\"linecolor\":\"white\",\"ticks\":\"\"}},\"ternary\":{\"bgcolor\":\"#E5ECF6\",\"aaxis\":{\"gridcolor\":\"white\",\"linecolor\":\"white\",\"ticks\":\"\"},\"baxis\":{\"gridcolor\":\"white\",\"linecolor\":\"white\",\"ticks\":\"\"},\"caxis\":{\"gridcolor\":\"white\",\"linecolor\":\"white\",\"ticks\":\"\"}},\"coloraxis\":{\"colorbar\":{\"outlinewidth\":0,\"ticks\":\"\"}},\"colorscale\":{\"sequential\":[[0.0,\"#0d0887\"],[0.1111111111111111,\"#46039f\"],[0.2222222222222222,\"#7201a8\"],[0.3333333333333333,\"#9c179e\"],[0.4444444444444444,\"#bd3786\"],[0.5555555555555556,\"#d8576b\"],[0.6666666666666666,\"#ed7953\"],[0.7777777777777778,\"#fb9f3a\"],[0.8888888888888888,\"#fdca26\"],[1.0,\"#f0f921\"]],\"sequentialminus\":[[0.0,\"#0d0887\"],[0.1111111111111111,\"#46039f\"],[0.2222222222222222,\"#7201a8\"],[0.3333333333333333,\"#9c179e\"],[0.4444444444444444,\"#bd3786\"],[0.5555555555555556,\"#d8576b\"],[0.6666666666666666,\"#ed7953\"],[0.7777777777777778,\"#fb9f3a\"],[0.8888888888888888,\"#fdca26\"],[1.0,\"#f0f921\"]],\"diverging\":[[0,\"#8e0152\"],[0.1,\"#c51b7d\"],[0.2,\"#de77ae\"],[0.3,\"#f1b6da\"],[0.4,\"#fde0ef\"],[0.5,\"#f7f7f7\"],[0.6,\"#e6f5d0\"],[0.7,\"#b8e186\"],[0.8,\"#7fbc41\"],[0.9,\"#4d9221\"],[1,\"#276419\"]]},\"xaxis\":{\"gridcolor\":\"white\",\"linecolor\":\"white\",\"ticks\":\"\",\"title\":{\"standoff\":15},\"zerolinecolor\":\"white\",\"automargin\":true,\"zerolinewidth\":2},\"yaxis\":{\"gridcolor\":\"white\",\"linecolor\":\"white\",\"ticks\":\"\",\"title\":{\"standoff\":15},\"zerolinecolor\":\"white\",\"automargin\":true,\"zerolinewidth\":2},\"scene\":{\"xaxis\":{\"backgroundcolor\":\"#E5ECF6\",\"gridcolor\":\"white\",\"linecolor\":\"white\",\"showbackground\":true,\"ticks\":\"\",\"zerolinecolor\":\"white\",\"gridwidth\":2},\"yaxis\":{\"backgroundcolor\":\"#E5ECF6\",\"gridcolor\":\"white\",\"linecolor\":\"white\",\"showbackground\":true,\"ticks\":\"\",\"zerolinecolor\":\"white\",\"gridwidth\":2},\"zaxis\":{\"backgroundcolor\":\"#E5ECF6\",\"gridcolor\":\"white\",\"linecolor\":\"white\",\"showbackground\":true,\"ticks\":\"\",\"zerolinecolor\":\"white\",\"gridwidth\":2}},\"shapedefaults\":{\"line\":{\"color\":\"#2a3f5f\"}},\"annotationdefaults\":{\"arrowcolor\":\"#2a3f5f\",\"arrowhead\":0,\"arrowwidth\":1},\"geo\":{\"bgcolor\":\"white\",\"landcolor\":\"#E5ECF6\",\"subunitcolor\":\"white\",\"showland\":true,\"showlakes\":true,\"lakecolor\":\"white\"},\"title\":{\"x\":0.05},\"mapbox\":{\"style\":\"light\"}}},\"yaxis\":{\"tickvals\":[0,1,2,3,4],\"ticktext\":[\"l1_l2\\u003cbr\\u003eNormal Count: 1886 (95.54%)\\u003cbr\\u003eModerate Count: 67 (3.39%)\\u003cbr\\u003eSevere Count: 21 (1.06%)\",\"l2_l3\\u003cbr\\u003eNormal Count: 1770 (89.67%)\\u003cbr\\u003eModerate Count: 151 (7.65%)\\u003cbr\\u003eSevere Count: 53 (2.68%)\",\"l3_l4\\u003cbr\\u003eNormal Count: 1622 (82.17%)\\u003cbr\\u003eModerate Count: 230 (11.65%)\\u003cbr\\u003eSevere Count: 122 (6.18%)\",\"l4_l5\\u003cbr\\u003eNormal Count: 1482 (75.08%)\\u003cbr\\u003eModerate Count: 237 (12.01%)\\u003cbr\\u003eSevere Count: 255 (12.92%)\",\"l5_s1\\u003cbr\\u003eNormal Count: 1904 (96.45%)\\u003cbr\\u003eModerate Count: 51 (2.58%)\\u003cbr\\u003eSevere Count: 19 (0.96%)\"],\"title\":{\"text\":\"Spinal Canal Stenosis Counts On Levels\"}},\"legend\":{\"font\":{\"size\":18}},\"title\":{\"text\":\"Spinal Canal Stenosis Counts On Levels\"},\"barmode\":\"overlay\",\"xaxis\":{\"title\":{\"text\":\"Count\"}},\"width\":600,\"height\":400},                        {\"responsive\": true}                    ).then(function(){\n",
       "                            \n",
       "var gd = document.getElementById('09b5e5cc-2c4e-4a41-a450-96b4c887a3de');\n",
       "var x = new MutationObserver(function (mutations, observer) {{\n",
       "        var display = window.getComputedStyle(gd).display;\n",
       "        if (!display || display === 'none') {{\n",
       "            console.log([gd, 'removed!']);\n",
       "            Plotly.purge(gd);\n",
       "            observer.disconnect();\n",
       "        }}\n",
       "}});\n",
       "\n",
       "// Listen for the removal of the full notebook cells\n",
       "var notebookContainer = gd.closest('#notebook-container');\n",
       "if (notebookContainer) {{\n",
       "    x.observe(notebookContainer, {childList: true});\n",
       "}}\n",
       "\n",
       "// Listen for the clearing of the current output cell\n",
       "var outputEl = gd.closest('.output');\n",
       "if (outputEl) {{\n",
       "    x.observe(outputEl, {childList: true});\n",
       "}}\n",
       "\n",
       "                        })                };                });            </script>        </div>"
      ]
     },
     "metadata": {},
     "output_type": "display_data"
    }
   ],
   "source": [
    "visualize_condition_counts(\n",
    "    df=df_train_spinal_canal_stenosis_counts,\n",
    "    title='Spinal Canal Stenosis Counts On Levels'\n",
    ")"
   ]
  },
  {
   "cell_type": "code",
   "execution_count": 133,
   "id": "5bb7205d-ed0b-42cc-bf0d-91f958a8e836",
   "metadata": {
    "scrolled": true
   },
   "outputs": [
    {
     "data": {
      "application/vnd.plotly.v1+json": {
       "config": {
        "plotlyServerURL": "https://plot.ly"
       },
       "data": [
        {
         "alignmentgroup": "True",
         "hovertemplate": "Severity=%{y}<br>level=l1_l2<br>Count=%{x}<extra></extra>",
         "legendgroup": "Normal/Mild",
         "marker": {
          "color": "blue",
          "pattern": {
           "shape": ""
          }
         },
         "name": "Normal/Mild",
         "offsetgroup": "Normal/Mild",
         "orientation": "h",
         "showlegend": true,
         "textposition": "auto",
         "type": "bar",
         "x": [
          1886
         ],
         "xaxis": "x5",
         "y": [
          "Normal/Mild"
         ],
         "yaxis": "y5"
        },
        {
         "alignmentgroup": "True",
         "hovertemplate": "Severity=%{y}<br>level=l2_l3<br>Count=%{x}<extra></extra>",
         "legendgroup": "Normal/Mild",
         "marker": {
          "color": "blue",
          "pattern": {
           "shape": ""
          }
         },
         "name": "Normal/Mild",
         "offsetgroup": "Normal/Mild",
         "orientation": "h",
         "showlegend": false,
         "textposition": "auto",
         "type": "bar",
         "x": [
          1770
         ],
         "xaxis": "x4",
         "y": [
          "Normal/Mild"
         ],
         "yaxis": "y4"
        },
        {
         "alignmentgroup": "True",
         "hovertemplate": "Severity=%{y}<br>level=l3_l4<br>Count=%{x}<extra></extra>",
         "legendgroup": "Normal/Mild",
         "marker": {
          "color": "blue",
          "pattern": {
           "shape": ""
          }
         },
         "name": "Normal/Mild",
         "offsetgroup": "Normal/Mild",
         "orientation": "h",
         "showlegend": false,
         "textposition": "auto",
         "type": "bar",
         "x": [
          1622
         ],
         "xaxis": "x3",
         "y": [
          "Normal/Mild"
         ],
         "yaxis": "y3"
        },
        {
         "alignmentgroup": "True",
         "hovertemplate": "Severity=%{y}<br>level=l4_l5<br>Count=%{x}<extra></extra>",
         "legendgroup": "Normal/Mild",
         "marker": {
          "color": "blue",
          "pattern": {
           "shape": ""
          }
         },
         "name": "Normal/Mild",
         "offsetgroup": "Normal/Mild",
         "orientation": "h",
         "showlegend": false,
         "textposition": "auto",
         "type": "bar",
         "x": [
          1482
         ],
         "xaxis": "x2",
         "y": [
          "Normal/Mild"
         ],
         "yaxis": "y2"
        },
        {
         "alignmentgroup": "True",
         "hovertemplate": "Severity=%{y}<br>level=l5_s1<br>Count=%{x}<extra></extra>",
         "legendgroup": "Normal/Mild",
         "marker": {
          "color": "blue",
          "pattern": {
           "shape": ""
          }
         },
         "name": "Normal/Mild",
         "offsetgroup": "Normal/Mild",
         "orientation": "h",
         "showlegend": false,
         "textposition": "auto",
         "type": "bar",
         "x": [
          1904
         ],
         "xaxis": "x",
         "y": [
          "Normal/Mild"
         ],
         "yaxis": "y"
        },
        {
         "alignmentgroup": "True",
         "hovertemplate": "Severity=%{y}<br>level=l1_l2<br>Count=%{x}<extra></extra>",
         "legendgroup": "Moderate",
         "marker": {
          "color": "orange",
          "pattern": {
           "shape": ""
          }
         },
         "name": "Moderate",
         "offsetgroup": "Moderate",
         "orientation": "h",
         "showlegend": true,
         "textposition": "auto",
         "type": "bar",
         "x": [
          67
         ],
         "xaxis": "x5",
         "y": [
          "Moderate"
         ],
         "yaxis": "y5"
        },
        {
         "alignmentgroup": "True",
         "hovertemplate": "Severity=%{y}<br>level=l2_l3<br>Count=%{x}<extra></extra>",
         "legendgroup": "Moderate",
         "marker": {
          "color": "orange",
          "pattern": {
           "shape": ""
          }
         },
         "name": "Moderate",
         "offsetgroup": "Moderate",
         "orientation": "h",
         "showlegend": false,
         "textposition": "auto",
         "type": "bar",
         "x": [
          151
         ],
         "xaxis": "x4",
         "y": [
          "Moderate"
         ],
         "yaxis": "y4"
        },
        {
         "alignmentgroup": "True",
         "hovertemplate": "Severity=%{y}<br>level=l3_l4<br>Count=%{x}<extra></extra>",
         "legendgroup": "Moderate",
         "marker": {
          "color": "orange",
          "pattern": {
           "shape": ""
          }
         },
         "name": "Moderate",
         "offsetgroup": "Moderate",
         "orientation": "h",
         "showlegend": false,
         "textposition": "auto",
         "type": "bar",
         "x": [
          230
         ],
         "xaxis": "x3",
         "y": [
          "Moderate"
         ],
         "yaxis": "y3"
        },
        {
         "alignmentgroup": "True",
         "hovertemplate": "Severity=%{y}<br>level=l4_l5<br>Count=%{x}<extra></extra>",
         "legendgroup": "Moderate",
         "marker": {
          "color": "orange",
          "pattern": {
           "shape": ""
          }
         },
         "name": "Moderate",
         "offsetgroup": "Moderate",
         "orientation": "h",
         "showlegend": false,
         "textposition": "auto",
         "type": "bar",
         "x": [
          237
         ],
         "xaxis": "x2",
         "y": [
          "Moderate"
         ],
         "yaxis": "y2"
        },
        {
         "alignmentgroup": "True",
         "hovertemplate": "Severity=%{y}<br>level=l5_s1<br>Count=%{x}<extra></extra>",
         "legendgroup": "Moderate",
         "marker": {
          "color": "orange",
          "pattern": {
           "shape": ""
          }
         },
         "name": "Moderate",
         "offsetgroup": "Moderate",
         "orientation": "h",
         "showlegend": false,
         "textposition": "auto",
         "type": "bar",
         "x": [
          51
         ],
         "xaxis": "x",
         "y": [
          "Moderate"
         ],
         "yaxis": "y"
        },
        {
         "alignmentgroup": "True",
         "hovertemplate": "Severity=%{y}<br>level=l1_l2<br>Count=%{x}<extra></extra>",
         "legendgroup": "Severe",
         "marker": {
          "color": "red",
          "pattern": {
           "shape": ""
          }
         },
         "name": "Severe",
         "offsetgroup": "Severe",
         "orientation": "h",
         "showlegend": true,
         "textposition": "auto",
         "type": "bar",
         "x": [
          21
         ],
         "xaxis": "x5",
         "y": [
          "Severe"
         ],
         "yaxis": "y5"
        },
        {
         "alignmentgroup": "True",
         "hovertemplate": "Severity=%{y}<br>level=l2_l3<br>Count=%{x}<extra></extra>",
         "legendgroup": "Severe",
         "marker": {
          "color": "red",
          "pattern": {
           "shape": ""
          }
         },
         "name": "Severe",
         "offsetgroup": "Severe",
         "orientation": "h",
         "showlegend": false,
         "textposition": "auto",
         "type": "bar",
         "x": [
          53
         ],
         "xaxis": "x4",
         "y": [
          "Severe"
         ],
         "yaxis": "y4"
        },
        {
         "alignmentgroup": "True",
         "hovertemplate": "Severity=%{y}<br>level=l3_l4<br>Count=%{x}<extra></extra>",
         "legendgroup": "Severe",
         "marker": {
          "color": "red",
          "pattern": {
           "shape": ""
          }
         },
         "name": "Severe",
         "offsetgroup": "Severe",
         "orientation": "h",
         "showlegend": false,
         "textposition": "auto",
         "type": "bar",
         "x": [
          122
         ],
         "xaxis": "x3",
         "y": [
          "Severe"
         ],
         "yaxis": "y3"
        },
        {
         "alignmentgroup": "True",
         "hovertemplate": "Severity=%{y}<br>level=l4_l5<br>Count=%{x}<extra></extra>",
         "legendgroup": "Severe",
         "marker": {
          "color": "red",
          "pattern": {
           "shape": ""
          }
         },
         "name": "Severe",
         "offsetgroup": "Severe",
         "orientation": "h",
         "showlegend": false,
         "textposition": "auto",
         "type": "bar",
         "x": [
          255
         ],
         "xaxis": "x2",
         "y": [
          "Severe"
         ],
         "yaxis": "y2"
        },
        {
         "alignmentgroup": "True",
         "hovertemplate": "Severity=%{y}<br>level=l5_s1<br>Count=%{x}<extra></extra>",
         "legendgroup": "Severe",
         "marker": {
          "color": "red",
          "pattern": {
           "shape": ""
          }
         },
         "name": "Severe",
         "offsetgroup": "Severe",
         "orientation": "h",
         "showlegend": false,
         "textposition": "auto",
         "type": "bar",
         "x": [
          19
         ],
         "xaxis": "x",
         "y": [
          "Severe"
         ],
         "yaxis": "y"
        }
       ],
       "layout": {
        "annotations": [
         {
          "font": {},
          "showarrow": false,
          "text": "level=l5_s1",
          "textangle": 90,
          "x": 0.98,
          "xanchor": "left",
          "xref": "paper",
          "y": 0.08800000000000001,
          "yanchor": "middle",
          "yref": "paper"
         },
         {
          "font": {},
          "showarrow": false,
          "text": "level=l4_l5",
          "textangle": 90,
          "x": 0.98,
          "xanchor": "left",
          "xref": "paper",
          "y": 0.29400000000000004,
          "yanchor": "middle",
          "yref": "paper"
         },
         {
          "font": {},
          "showarrow": false,
          "text": "level=l3_l4",
          "textangle": 90,
          "x": 0.98,
          "xanchor": "left",
          "xref": "paper",
          "y": 0.5,
          "yanchor": "middle",
          "yref": "paper"
         },
         {
          "font": {},
          "showarrow": false,
          "text": "level=l2_l3",
          "textangle": 90,
          "x": 0.98,
          "xanchor": "left",
          "xref": "paper",
          "y": 0.706,
          "yanchor": "middle",
          "yref": "paper"
         },
         {
          "font": {},
          "showarrow": false,
          "text": "level=l1_l2",
          "textangle": 90,
          "x": 0.98,
          "xanchor": "left",
          "xref": "paper",
          "y": 0.912,
          "yanchor": "middle",
          "yref": "paper"
         }
        ],
        "autosize": true,
        "barmode": "group",
        "legend": {
         "orientation": "h",
         "title": {
          "text": "Severity"
         },
         "tracegroupgap": 0,
         "x": 0.5,
         "xanchor": "center",
         "y": -0.2,
         "yanchor": "top"
        },
        "template": {
         "data": {
          "bar": [
           {
            "error_x": {
             "color": "#2a3f5f"
            },
            "error_y": {
             "color": "#2a3f5f"
            },
            "marker": {
             "line": {
              "color": "#E5ECF6",
              "width": 0.5
             },
             "pattern": {
              "fillmode": "overlay",
              "size": 10,
              "solidity": 0.2
             }
            },
            "type": "bar"
           }
          ],
          "barpolar": [
           {
            "marker": {
             "line": {
              "color": "#E5ECF6",
              "width": 0.5
             },
             "pattern": {
              "fillmode": "overlay",
              "size": 10,
              "solidity": 0.2
             }
            },
            "type": "barpolar"
           }
          ],
          "carpet": [
           {
            "aaxis": {
             "endlinecolor": "#2a3f5f",
             "gridcolor": "white",
             "linecolor": "white",
             "minorgridcolor": "white",
             "startlinecolor": "#2a3f5f"
            },
            "baxis": {
             "endlinecolor": "#2a3f5f",
             "gridcolor": "white",
             "linecolor": "white",
             "minorgridcolor": "white",
             "startlinecolor": "#2a3f5f"
            },
            "type": "carpet"
           }
          ],
          "choropleth": [
           {
            "colorbar": {
             "outlinewidth": 0,
             "ticks": ""
            },
            "type": "choropleth"
           }
          ],
          "contour": [
           {
            "colorbar": {
             "outlinewidth": 0,
             "ticks": ""
            },
            "colorscale": [
             [
              0,
              "#0d0887"
             ],
             [
              0.1111111111111111,
              "#46039f"
             ],
             [
              0.2222222222222222,
              "#7201a8"
             ],
             [
              0.3333333333333333,
              "#9c179e"
             ],
             [
              0.4444444444444444,
              "#bd3786"
             ],
             [
              0.5555555555555556,
              "#d8576b"
             ],
             [
              0.6666666666666666,
              "#ed7953"
             ],
             [
              0.7777777777777778,
              "#fb9f3a"
             ],
             [
              0.8888888888888888,
              "#fdca26"
             ],
             [
              1,
              "#f0f921"
             ]
            ],
            "type": "contour"
           }
          ],
          "contourcarpet": [
           {
            "colorbar": {
             "outlinewidth": 0,
             "ticks": ""
            },
            "type": "contourcarpet"
           }
          ],
          "heatmap": [
           {
            "colorbar": {
             "outlinewidth": 0,
             "ticks": ""
            },
            "colorscale": [
             [
              0,
              "#0d0887"
             ],
             [
              0.1111111111111111,
              "#46039f"
             ],
             [
              0.2222222222222222,
              "#7201a8"
             ],
             [
              0.3333333333333333,
              "#9c179e"
             ],
             [
              0.4444444444444444,
              "#bd3786"
             ],
             [
              0.5555555555555556,
              "#d8576b"
             ],
             [
              0.6666666666666666,
              "#ed7953"
             ],
             [
              0.7777777777777778,
              "#fb9f3a"
             ],
             [
              0.8888888888888888,
              "#fdca26"
             ],
             [
              1,
              "#f0f921"
             ]
            ],
            "type": "heatmap"
           }
          ],
          "heatmapgl": [
           {
            "colorbar": {
             "outlinewidth": 0,
             "ticks": ""
            },
            "colorscale": [
             [
              0,
              "#0d0887"
             ],
             [
              0.1111111111111111,
              "#46039f"
             ],
             [
              0.2222222222222222,
              "#7201a8"
             ],
             [
              0.3333333333333333,
              "#9c179e"
             ],
             [
              0.4444444444444444,
              "#bd3786"
             ],
             [
              0.5555555555555556,
              "#d8576b"
             ],
             [
              0.6666666666666666,
              "#ed7953"
             ],
             [
              0.7777777777777778,
              "#fb9f3a"
             ],
             [
              0.8888888888888888,
              "#fdca26"
             ],
             [
              1,
              "#f0f921"
             ]
            ],
            "type": "heatmapgl"
           }
          ],
          "histogram": [
           {
            "marker": {
             "pattern": {
              "fillmode": "overlay",
              "size": 10,
              "solidity": 0.2
             }
            },
            "type": "histogram"
           }
          ],
          "histogram2d": [
           {
            "colorbar": {
             "outlinewidth": 0,
             "ticks": ""
            },
            "colorscale": [
             [
              0,
              "#0d0887"
             ],
             [
              0.1111111111111111,
              "#46039f"
             ],
             [
              0.2222222222222222,
              "#7201a8"
             ],
             [
              0.3333333333333333,
              "#9c179e"
             ],
             [
              0.4444444444444444,
              "#bd3786"
             ],
             [
              0.5555555555555556,
              "#d8576b"
             ],
             [
              0.6666666666666666,
              "#ed7953"
             ],
             [
              0.7777777777777778,
              "#fb9f3a"
             ],
             [
              0.8888888888888888,
              "#fdca26"
             ],
             [
              1,
              "#f0f921"
             ]
            ],
            "type": "histogram2d"
           }
          ],
          "histogram2dcontour": [
           {
            "colorbar": {
             "outlinewidth": 0,
             "ticks": ""
            },
            "colorscale": [
             [
              0,
              "#0d0887"
             ],
             [
              0.1111111111111111,
              "#46039f"
             ],
             [
              0.2222222222222222,
              "#7201a8"
             ],
             [
              0.3333333333333333,
              "#9c179e"
             ],
             [
              0.4444444444444444,
              "#bd3786"
             ],
             [
              0.5555555555555556,
              "#d8576b"
             ],
             [
              0.6666666666666666,
              "#ed7953"
             ],
             [
              0.7777777777777778,
              "#fb9f3a"
             ],
             [
              0.8888888888888888,
              "#fdca26"
             ],
             [
              1,
              "#f0f921"
             ]
            ],
            "type": "histogram2dcontour"
           }
          ],
          "mesh3d": [
           {
            "colorbar": {
             "outlinewidth": 0,
             "ticks": ""
            },
            "type": "mesh3d"
           }
          ],
          "parcoords": [
           {
            "line": {
             "colorbar": {
              "outlinewidth": 0,
              "ticks": ""
             }
            },
            "type": "parcoords"
           }
          ],
          "pie": [
           {
            "automargin": true,
            "type": "pie"
           }
          ],
          "scatter": [
           {
            "fillpattern": {
             "fillmode": "overlay",
             "size": 10,
             "solidity": 0.2
            },
            "type": "scatter"
           }
          ],
          "scatter3d": [
           {
            "line": {
             "colorbar": {
              "outlinewidth": 0,
              "ticks": ""
             }
            },
            "marker": {
             "colorbar": {
              "outlinewidth": 0,
              "ticks": ""
             }
            },
            "type": "scatter3d"
           }
          ],
          "scattercarpet": [
           {
            "marker": {
             "colorbar": {
              "outlinewidth": 0,
              "ticks": ""
             }
            },
            "type": "scattercarpet"
           }
          ],
          "scattergeo": [
           {
            "marker": {
             "colorbar": {
              "outlinewidth": 0,
              "ticks": ""
             }
            },
            "type": "scattergeo"
           }
          ],
          "scattergl": [
           {
            "marker": {
             "colorbar": {
              "outlinewidth": 0,
              "ticks": ""
             }
            },
            "type": "scattergl"
           }
          ],
          "scattermapbox": [
           {
            "marker": {
             "colorbar": {
              "outlinewidth": 0,
              "ticks": ""
             }
            },
            "type": "scattermapbox"
           }
          ],
          "scatterpolar": [
           {
            "marker": {
             "colorbar": {
              "outlinewidth": 0,
              "ticks": ""
             }
            },
            "type": "scatterpolar"
           }
          ],
          "scatterpolargl": [
           {
            "marker": {
             "colorbar": {
              "outlinewidth": 0,
              "ticks": ""
             }
            },
            "type": "scatterpolargl"
           }
          ],
          "scatterternary": [
           {
            "marker": {
             "colorbar": {
              "outlinewidth": 0,
              "ticks": ""
             }
            },
            "type": "scatterternary"
           }
          ],
          "surface": [
           {
            "colorbar": {
             "outlinewidth": 0,
             "ticks": ""
            },
            "colorscale": [
             [
              0,
              "#0d0887"
             ],
             [
              0.1111111111111111,
              "#46039f"
             ],
             [
              0.2222222222222222,
              "#7201a8"
             ],
             [
              0.3333333333333333,
              "#9c179e"
             ],
             [
              0.4444444444444444,
              "#bd3786"
             ],
             [
              0.5555555555555556,
              "#d8576b"
             ],
             [
              0.6666666666666666,
              "#ed7953"
             ],
             [
              0.7777777777777778,
              "#fb9f3a"
             ],
             [
              0.8888888888888888,
              "#fdca26"
             ],
             [
              1,
              "#f0f921"
             ]
            ],
            "type": "surface"
           }
          ],
          "table": [
           {
            "cells": {
             "fill": {
              "color": "#EBF0F8"
             },
             "line": {
              "color": "white"
             }
            },
            "header": {
             "fill": {
              "color": "#C8D4E3"
             },
             "line": {
              "color": "white"
             }
            },
            "type": "table"
           }
          ]
         },
         "layout": {
          "annotationdefaults": {
           "arrowcolor": "#2a3f5f",
           "arrowhead": 0,
           "arrowwidth": 1
          },
          "autotypenumbers": "strict",
          "coloraxis": {
           "colorbar": {
            "outlinewidth": 0,
            "ticks": ""
           }
          },
          "colorscale": {
           "diverging": [
            [
             0,
             "#8e0152"
            ],
            [
             0.1,
             "#c51b7d"
            ],
            [
             0.2,
             "#de77ae"
            ],
            [
             0.3,
             "#f1b6da"
            ],
            [
             0.4,
             "#fde0ef"
            ],
            [
             0.5,
             "#f7f7f7"
            ],
            [
             0.6,
             "#e6f5d0"
            ],
            [
             0.7,
             "#b8e186"
            ],
            [
             0.8,
             "#7fbc41"
            ],
            [
             0.9,
             "#4d9221"
            ],
            [
             1,
             "#276419"
            ]
           ],
           "sequential": [
            [
             0,
             "#0d0887"
            ],
            [
             0.1111111111111111,
             "#46039f"
            ],
            [
             0.2222222222222222,
             "#7201a8"
            ],
            [
             0.3333333333333333,
             "#9c179e"
            ],
            [
             0.4444444444444444,
             "#bd3786"
            ],
            [
             0.5555555555555556,
             "#d8576b"
            ],
            [
             0.6666666666666666,
             "#ed7953"
            ],
            [
             0.7777777777777778,
             "#fb9f3a"
            ],
            [
             0.8888888888888888,
             "#fdca26"
            ],
            [
             1,
             "#f0f921"
            ]
           ],
           "sequentialminus": [
            [
             0,
             "#0d0887"
            ],
            [
             0.1111111111111111,
             "#46039f"
            ],
            [
             0.2222222222222222,
             "#7201a8"
            ],
            [
             0.3333333333333333,
             "#9c179e"
            ],
            [
             0.4444444444444444,
             "#bd3786"
            ],
            [
             0.5555555555555556,
             "#d8576b"
            ],
            [
             0.6666666666666666,
             "#ed7953"
            ],
            [
             0.7777777777777778,
             "#fb9f3a"
            ],
            [
             0.8888888888888888,
             "#fdca26"
            ],
            [
             1,
             "#f0f921"
            ]
           ]
          },
          "colorway": [
           "#636efa",
           "#EF553B",
           "#00cc96",
           "#ab63fa",
           "#FFA15A",
           "#19d3f3",
           "#FF6692",
           "#B6E880",
           "#FF97FF",
           "#FECB52"
          ],
          "font": {
           "color": "#2a3f5f"
          },
          "geo": {
           "bgcolor": "white",
           "lakecolor": "white",
           "landcolor": "#E5ECF6",
           "showlakes": true,
           "showland": true,
           "subunitcolor": "white"
          },
          "hoverlabel": {
           "align": "left"
          },
          "hovermode": "closest",
          "mapbox": {
           "style": "light"
          },
          "paper_bgcolor": "white",
          "plot_bgcolor": "#E5ECF6",
          "polar": {
           "angularaxis": {
            "gridcolor": "white",
            "linecolor": "white",
            "ticks": ""
           },
           "bgcolor": "#E5ECF6",
           "radialaxis": {
            "gridcolor": "white",
            "linecolor": "white",
            "ticks": ""
           }
          },
          "scene": {
           "xaxis": {
            "backgroundcolor": "#E5ECF6",
            "gridcolor": "white",
            "gridwidth": 2,
            "linecolor": "white",
            "showbackground": true,
            "ticks": "",
            "zerolinecolor": "white"
           },
           "yaxis": {
            "backgroundcolor": "#E5ECF6",
            "gridcolor": "white",
            "gridwidth": 2,
            "linecolor": "white",
            "showbackground": true,
            "ticks": "",
            "zerolinecolor": "white"
           },
           "zaxis": {
            "backgroundcolor": "#E5ECF6",
            "gridcolor": "white",
            "gridwidth": 2,
            "linecolor": "white",
            "showbackground": true,
            "ticks": "",
            "zerolinecolor": "white"
           }
          },
          "shapedefaults": {
           "line": {
            "color": "#2a3f5f"
           }
          },
          "ternary": {
           "aaxis": {
            "gridcolor": "white",
            "linecolor": "white",
            "ticks": ""
           },
           "baxis": {
            "gridcolor": "white",
            "linecolor": "white",
            "ticks": ""
           },
           "bgcolor": "#E5ECF6",
           "caxis": {
            "gridcolor": "white",
            "linecolor": "white",
            "ticks": ""
           }
          },
          "title": {
           "x": 0.05
          },
          "xaxis": {
           "automargin": true,
           "gridcolor": "white",
           "linecolor": "white",
           "ticks": "",
           "title": {
            "standoff": 15
           },
           "zerolinecolor": "white",
           "zerolinewidth": 2
          },
          "yaxis": {
           "automargin": true,
           "gridcolor": "white",
           "linecolor": "white",
           "ticks": "",
           "title": {
            "standoff": 15
           },
           "zerolinecolor": "white",
           "zerolinewidth": 2
          }
         }
        },
        "title": {
         "pad": {
          "b": 20
         },
         "text": "Spinal Canal Stenosis Counts on Levels",
         "x": 0.5,
         "xanchor": "center",
         "y": 0.95,
         "yanchor": "top"
        },
        "xaxis": {
         "anchor": "y",
         "autorange": true,
         "domain": [
          0,
          0.98
         ],
         "range": [
          0,
          2004.2105263157894
         ],
         "title": {
          "text": "Count"
         },
         "type": "linear"
        },
        "xaxis2": {
         "anchor": "y2",
         "autorange": true,
         "domain": [
          0,
          0.98
         ],
         "matches": "x",
         "range": [
          0,
          2004.2105263157894
         ],
         "showticklabels": false,
         "type": "linear"
        },
        "xaxis3": {
         "anchor": "y3",
         "autorange": true,
         "domain": [
          0,
          0.98
         ],
         "matches": "x",
         "range": [
          0,
          2004.2105263157894
         ],
         "showticklabels": false,
         "type": "linear"
        },
        "xaxis4": {
         "anchor": "y4",
         "autorange": true,
         "domain": [
          0,
          0.98
         ],
         "matches": "x",
         "range": [
          0,
          2004.2105263157894
         ],
         "showticklabels": false,
         "type": "linear"
        },
        "xaxis5": {
         "anchor": "y5",
         "autorange": true,
         "domain": [
          0,
          0.98
         ],
         "matches": "x",
         "range": [
          0,
          2004.2105263157894
         ],
         "showticklabels": false,
         "type": "linear"
        },
        "yaxis": {
         "anchor": "x",
         "autorange": true,
         "categoryarray": [
          "Severe",
          "Moderate",
          "Normal/Mild"
         ],
         "categoryorder": "array",
         "domain": [
          0,
          0.17600000000000002
         ],
         "range": [
          -0.5,
          2.5
         ],
         "title": {
          "text": "Severity"
         },
         "type": "category"
        },
        "yaxis2": {
         "anchor": "x2",
         "autorange": true,
         "categoryarray": [
          "Severe",
          "Moderate",
          "Normal/Mild"
         ],
         "categoryorder": "array",
         "domain": [
          0.20600000000000002,
          0.382
         ],
         "matches": "y",
         "range": [
          -0.5,
          2.5
         ],
         "title": {
          "text": "Severity"
         },
         "type": "category"
        },
        "yaxis3": {
         "anchor": "x3",
         "autorange": true,
         "categoryarray": [
          "Severe",
          "Moderate",
          "Normal/Mild"
         ],
         "categoryorder": "array",
         "domain": [
          0.41200000000000003,
          0.5880000000000001
         ],
         "matches": "y",
         "range": [
          -0.5,
          2.5
         ],
         "title": {
          "text": "Severity"
         },
         "type": "category"
        },
        "yaxis4": {
         "anchor": "x4",
         "autorange": true,
         "categoryarray": [
          "Severe",
          "Moderate",
          "Normal/Mild"
         ],
         "categoryorder": "array",
         "domain": [
          0.618,
          0.794
         ],
         "matches": "y",
         "range": [
          -0.5,
          2.5
         ],
         "title": {
          "text": "Severity"
         },
         "type": "category"
        },
        "yaxis5": {
         "anchor": "x5",
         "autorange": true,
         "categoryarray": [
          "Severe",
          "Moderate",
          "Normal/Mild"
         ],
         "categoryorder": "array",
         "domain": [
          0.8240000000000001,
          1
         ],
         "matches": "y",
         "range": [
          -0.5,
          2.5
         ],
         "title": {
          "text": "Severity"
         },
         "type": "category"
        }
       }
      },
      "image/png": "[encoded data removed]",
      "text/html": [
       "<div>                            <div id=\"3ec99f0c-e1f4-480d-b44f-949ae67f03d5\" class=\"plotly-graph-div\" style=\"height:525px; width:100%;\"></div>            <script type=\"text/javascript\">                require([\"plotly\"], function(Plotly) {                    window.PLOTLYENV=window.PLOTLYENV || {};                                    if (document.getElementById(\"3ec99f0c-e1f4-480d-b44f-949ae67f03d5\")) {                    Plotly.newPlot(                        \"3ec99f0c-e1f4-480d-b44f-949ae67f03d5\",                        [{\"alignmentgroup\":\"True\",\"hovertemplate\":\"Severity=%{y}\\u003cbr\\u003elevel=l1_l2\\u003cbr\\u003eCount=%{x}\\u003cextra\\u003e\\u003c\\u002fextra\\u003e\",\"legendgroup\":\"Normal\\u002fMild\",\"marker\":{\"color\":\"blue\",\"pattern\":{\"shape\":\"\"}},\"name\":\"Normal\\u002fMild\",\"offsetgroup\":\"Normal\\u002fMild\",\"orientation\":\"h\",\"showlegend\":true,\"textposition\":\"auto\",\"x\":[1886],\"xaxis\":\"x5\",\"y\":[\"Normal\\u002fMild\"],\"yaxis\":\"y5\",\"type\":\"bar\"},{\"alignmentgroup\":\"True\",\"hovertemplate\":\"Severity=%{y}\\u003cbr\\u003elevel=l2_l3\\u003cbr\\u003eCount=%{x}\\u003cextra\\u003e\\u003c\\u002fextra\\u003e\",\"legendgroup\":\"Normal\\u002fMild\",\"marker\":{\"color\":\"blue\",\"pattern\":{\"shape\":\"\"}},\"name\":\"Normal\\u002fMild\",\"offsetgroup\":\"Normal\\u002fMild\",\"orientation\":\"h\",\"showlegend\":false,\"textposition\":\"auto\",\"x\":[1770],\"xaxis\":\"x4\",\"y\":[\"Normal\\u002fMild\"],\"yaxis\":\"y4\",\"type\":\"bar\"},{\"alignmentgroup\":\"True\",\"hovertemplate\":\"Severity=%{y}\\u003cbr\\u003elevel=l3_l4\\u003cbr\\u003eCount=%{x}\\u003cextra\\u003e\\u003c\\u002fextra\\u003e\",\"legendgroup\":\"Normal\\u002fMild\",\"marker\":{\"color\":\"blue\",\"pattern\":{\"shape\":\"\"}},\"name\":\"Normal\\u002fMild\",\"offsetgroup\":\"Normal\\u002fMild\",\"orientation\":\"h\",\"showlegend\":false,\"textposition\":\"auto\",\"x\":[1622],\"xaxis\":\"x3\",\"y\":[\"Normal\\u002fMild\"],\"yaxis\":\"y3\",\"type\":\"bar\"},{\"alignmentgroup\":\"True\",\"hovertemplate\":\"Severity=%{y}\\u003cbr\\u003elevel=l4_l5\\u003cbr\\u003eCount=%{x}\\u003cextra\\u003e\\u003c\\u002fextra\\u003e\",\"legendgroup\":\"Normal\\u002fMild\",\"marker\":{\"color\":\"blue\",\"pattern\":{\"shape\":\"\"}},\"name\":\"Normal\\u002fMild\",\"offsetgroup\":\"Normal\\u002fMild\",\"orientation\":\"h\",\"showlegend\":false,\"textposition\":\"auto\",\"x\":[1482],\"xaxis\":\"x2\",\"y\":[\"Normal\\u002fMild\"],\"yaxis\":\"y2\",\"type\":\"bar\"},{\"alignmentgroup\":\"True\",\"hovertemplate\":\"Severity=%{y}\\u003cbr\\u003elevel=l5_s1\\u003cbr\\u003eCount=%{x}\\u003cextra\\u003e\\u003c\\u002fextra\\u003e\",\"legendgroup\":\"Normal\\u002fMild\",\"marker\":{\"color\":\"blue\",\"pattern\":{\"shape\":\"\"}},\"name\":\"Normal\\u002fMild\",\"offsetgroup\":\"Normal\\u002fMild\",\"orientation\":\"h\",\"showlegend\":false,\"textposition\":\"auto\",\"x\":[1904],\"xaxis\":\"x\",\"y\":[\"Normal\\u002fMild\"],\"yaxis\":\"y\",\"type\":\"bar\"},{\"alignmentgroup\":\"True\",\"hovertemplate\":\"Severity=%{y}\\u003cbr\\u003elevel=l1_l2\\u003cbr\\u003eCount=%{x}\\u003cextra\\u003e\\u003c\\u002fextra\\u003e\",\"legendgroup\":\"Moderate\",\"marker\":{\"color\":\"orange\",\"pattern\":{\"shape\":\"\"}},\"name\":\"Moderate\",\"offsetgroup\":\"Moderate\",\"orientation\":\"h\",\"showlegend\":true,\"textposition\":\"auto\",\"x\":[67],\"xaxis\":\"x5\",\"y\":[\"Moderate\"],\"yaxis\":\"y5\",\"type\":\"bar\"},{\"alignmentgroup\":\"True\",\"hovertemplate\":\"Severity=%{y}\\u003cbr\\u003elevel=l2_l3\\u003cbr\\u003eCount=%{x}\\u003cextra\\u003e\\u003c\\u002fextra\\u003e\",\"legendgroup\":\"Moderate\",\"marker\":{\"color\":\"orange\",\"pattern\":{\"shape\":\"\"}},\"name\":\"Moderate\",\"offsetgroup\":\"Moderate\",\"orientation\":\"h\",\"showlegend\":false,\"textposition\":\"auto\",\"x\":[151],\"xaxis\":\"x4\",\"y\":[\"Moderate\"],\"yaxis\":\"y4\",\"type\":\"bar\"},{\"alignmentgroup\":\"True\",\"hovertemplate\":\"Severity=%{y}\\u003cbr\\u003elevel=l3_l4\\u003cbr\\u003eCount=%{x}\\u003cextra\\u003e\\u003c\\u002fextra\\u003e\",\"legendgroup\":\"Moderate\",\"marker\":{\"color\":\"orange\",\"pattern\":{\"shape\":\"\"}},\"name\":\"Moderate\",\"offsetgroup\":\"Moderate\",\"orientation\":\"h\",\"showlegend\":false,\"textposition\":\"auto\",\"x\":[230],\"xaxis\":\"x3\",\"y\":[\"Moderate\"],\"yaxis\":\"y3\",\"type\":\"bar\"},{\"alignmentgroup\":\"True\",\"hovertemplate\":\"Severity=%{y}\\u003cbr\\u003elevel=l4_l5\\u003cbr\\u003eCount=%{x}\\u003cextra\\u003e\\u003c\\u002fextra\\u003e\",\"legendgroup\":\"Moderate\",\"marker\":{\"color\":\"orange\",\"pattern\":{\"shape\":\"\"}},\"name\":\"Moderate\",\"offsetgroup\":\"Moderate\",\"orientation\":\"h\",\"showlegend\":false,\"textposition\":\"auto\",\"x\":[237],\"xaxis\":\"x2\",\"y\":[\"Moderate\"],\"yaxis\":\"y2\",\"type\":\"bar\"},{\"alignmentgroup\":\"True\",\"hovertemplate\":\"Severity=%{y}\\u003cbr\\u003elevel=l5_s1\\u003cbr\\u003eCount=%{x}\\u003cextra\\u003e\\u003c\\u002fextra\\u003e\",\"legendgroup\":\"Moderate\",\"marker\":{\"color\":\"orange\",\"pattern\":{\"shape\":\"\"}},\"name\":\"Moderate\",\"offsetgroup\":\"Moderate\",\"orientation\":\"h\",\"showlegend\":false,\"textposition\":\"auto\",\"x\":[51],\"xaxis\":\"x\",\"y\":[\"Moderate\"],\"yaxis\":\"y\",\"type\":\"bar\"},{\"alignmentgroup\":\"True\",\"hovertemplate\":\"Severity=%{y}\\u003cbr\\u003elevel=l1_l2\\u003cbr\\u003eCount=%{x}\\u003cextra\\u003e\\u003c\\u002fextra\\u003e\",\"legendgroup\":\"Severe\",\"marker\":{\"color\":\"red\",\"pattern\":{\"shape\":\"\"}},\"name\":\"Severe\",\"offsetgroup\":\"Severe\",\"orientation\":\"h\",\"showlegend\":true,\"textposition\":\"auto\",\"x\":[21],\"xaxis\":\"x5\",\"y\":[\"Severe\"],\"yaxis\":\"y5\",\"type\":\"bar\"},{\"alignmentgroup\":\"True\",\"hovertemplate\":\"Severity=%{y}\\u003cbr\\u003elevel=l2_l3\\u003cbr\\u003eCount=%{x}\\u003cextra\\u003e\\u003c\\u002fextra\\u003e\",\"legendgroup\":\"Severe\",\"marker\":{\"color\":\"red\",\"pattern\":{\"shape\":\"\"}},\"name\":\"Severe\",\"offsetgroup\":\"Severe\",\"orientation\":\"h\",\"showlegend\":false,\"textposition\":\"auto\",\"x\":[53],\"xaxis\":\"x4\",\"y\":[\"Severe\"],\"yaxis\":\"y4\",\"type\":\"bar\"},{\"alignmentgroup\":\"True\",\"hovertemplate\":\"Severity=%{y}\\u003cbr\\u003elevel=l3_l4\\u003cbr\\u003eCount=%{x}\\u003cextra\\u003e\\u003c\\u002fextra\\u003e\",\"legendgroup\":\"Severe\",\"marker\":{\"color\":\"red\",\"pattern\":{\"shape\":\"\"}},\"name\":\"Severe\",\"offsetgroup\":\"Severe\",\"orientation\":\"h\",\"showlegend\":false,\"textposition\":\"auto\",\"x\":[122],\"xaxis\":\"x3\",\"y\":[\"Severe\"],\"yaxis\":\"y3\",\"type\":\"bar\"},{\"alignmentgroup\":\"True\",\"hovertemplate\":\"Severity=%{y}\\u003cbr\\u003elevel=l4_l5\\u003cbr\\u003eCount=%{x}\\u003cextra\\u003e\\u003c\\u002fextra\\u003e\",\"legendgroup\":\"Severe\",\"marker\":{\"color\":\"red\",\"pattern\":{\"shape\":\"\"}},\"name\":\"Severe\",\"offsetgroup\":\"Severe\",\"orientation\":\"h\",\"showlegend\":false,\"textposition\":\"auto\",\"x\":[255],\"xaxis\":\"x2\",\"y\":[\"Severe\"],\"yaxis\":\"y2\",\"type\":\"bar\"},{\"alignmentgroup\":\"True\",\"hovertemplate\":\"Severity=%{y}\\u003cbr\\u003elevel=l5_s1\\u003cbr\\u003eCount=%{x}\\u003cextra\\u003e\\u003c\\u002fextra\\u003e\",\"legendgroup\":\"Severe\",\"marker\":{\"color\":\"red\",\"pattern\":{\"shape\":\"\"}},\"name\":\"Severe\",\"offsetgroup\":\"Severe\",\"orientation\":\"h\",\"showlegend\":false,\"textposition\":\"auto\",\"x\":[19],\"xaxis\":\"x\",\"y\":[\"Severe\"],\"yaxis\":\"y\",\"type\":\"bar\"}],                        {\"template\":{\"data\":{\"histogram2dcontour\":[{\"type\":\"histogram2dcontour\",\"colorbar\":{\"outlinewidth\":0,\"ticks\":\"\"},\"colorscale\":[[0.0,\"#0d0887\"],[0.1111111111111111,\"#46039f\"],[0.2222222222222222,\"#7201a8\"],[0.3333333333333333,\"#9c179e\"],[0.4444444444444444,\"#bd3786\"],[0.5555555555555556,\"#d8576b\"],[0.6666666666666666,\"#ed7953\"],[0.7777777777777778,\"#fb9f3a\"],[0.8888888888888888,\"#fdca26\"],[1.0,\"#f0f921\"]]}],\"choropleth\":[{\"type\":\"choropleth\",\"colorbar\":{\"outlinewidth\":0,\"ticks\":\"\"}}],\"histogram2d\":[{\"type\":\"histogram2d\",\"colorbar\":{\"outlinewidth\":0,\"ticks\":\"\"},\"colorscale\":[[0.0,\"#0d0887\"],[0.1111111111111111,\"#46039f\"],[0.2222222222222222,\"#7201a8\"],[0.3333333333333333,\"#9c179e\"],[0.4444444444444444,\"#bd3786\"],[0.5555555555555556,\"#d8576b\"],[0.6666666666666666,\"#ed7953\"],[0.7777777777777778,\"#fb9f3a\"],[0.8888888888888888,\"#fdca26\"],[1.0,\"#f0f921\"]]}],\"heatmap\":[{\"type\":\"heatmap\",\"colorbar\":{\"outlinewidth\":0,\"ticks\":\"\"},\"colorscale\":[[0.0,\"#0d0887\"],[0.1111111111111111,\"#46039f\"],[0.2222222222222222,\"#7201a8\"],[0.3333333333333333,\"#9c179e\"],[0.4444444444444444,\"#bd3786\"],[0.5555555555555556,\"#d8576b\"],[0.6666666666666666,\"#ed7953\"],[0.7777777777777778,\"#fb9f3a\"],[0.8888888888888888,\"#fdca26\"],[1.0,\"#f0f921\"]]}],\"heatmapgl\":[{\"type\":\"heatmapgl\",\"colorbar\":{\"outlinewidth\":0,\"ticks\":\"\"},\"colorscale\":[[0.0,\"#0d0887\"],[0.1111111111111111,\"#46039f\"],[0.2222222222222222,\"#7201a8\"],[0.3333333333333333,\"#9c179e\"],[0.4444444444444444,\"#bd3786\"],[0.5555555555555556,\"#d8576b\"],[0.6666666666666666,\"#ed7953\"],[0.7777777777777778,\"#fb9f3a\"],[0.8888888888888888,\"#fdca26\"],[1.0,\"#f0f921\"]]}],\"contourcarpet\":[{\"type\":\"contourcarpet\",\"colorbar\":{\"outlinewidth\":0,\"ticks\":\"\"}}],\"contour\":[{\"type\":\"contour\",\"colorbar\":{\"outlinewidth\":0,\"ticks\":\"\"},\"colorscale\":[[0.0,\"#0d0887\"],[0.1111111111111111,\"#46039f\"],[0.2222222222222222,\"#7201a8\"],[0.3333333333333333,\"#9c179e\"],[0.4444444444444444,\"#bd3786\"],[0.5555555555555556,\"#d8576b\"],[0.6666666666666666,\"#ed7953\"],[0.7777777777777778,\"#fb9f3a\"],[0.8888888888888888,\"#fdca26\"],[1.0,\"#f0f921\"]]}],\"surface\":[{\"type\":\"surface\",\"colorbar\":{\"outlinewidth\":0,\"ticks\":\"\"},\"colorscale\":[[0.0,\"#0d0887\"],[0.1111111111111111,\"#46039f\"],[0.2222222222222222,\"#7201a8\"],[0.3333333333333333,\"#9c179e\"],[0.4444444444444444,\"#bd3786\"],[0.5555555555555556,\"#d8576b\"],[0.6666666666666666,\"#ed7953\"],[0.7777777777777778,\"#fb9f3a\"],[0.8888888888888888,\"#fdca26\"],[1.0,\"#f0f921\"]]}],\"mesh3d\":[{\"type\":\"mesh3d\",\"colorbar\":{\"outlinewidth\":0,\"ticks\":\"\"}}],\"scatter\":[{\"fillpattern\":{\"fillmode\":\"overlay\",\"size\":10,\"solidity\":0.2},\"type\":\"scatter\"}],\"parcoords\":[{\"type\":\"parcoords\",\"line\":{\"colorbar\":{\"outlinewidth\":0,\"ticks\":\"\"}}}],\"scatterpolargl\":[{\"type\":\"scatterpolargl\",\"marker\":{\"colorbar\":{\"outlinewidth\":0,\"ticks\":\"\"}}}],\"bar\":[{\"error_x\":{\"color\":\"#2a3f5f\"},\"error_y\":{\"color\":\"#2a3f5f\"},\"marker\":{\"line\":{\"color\":\"#E5ECF6\",\"width\":0.5},\"pattern\":{\"fillmode\":\"overlay\",\"size\":10,\"solidity\":0.2}},\"type\":\"bar\"}],\"scattergeo\":[{\"type\":\"scattergeo\",\"marker\":{\"colorbar\":{\"outlinewidth\":0,\"ticks\":\"\"}}}],\"scatterpolar\":[{\"type\":\"scatterpolar\",\"marker\":{\"colorbar\":{\"outlinewidth\":0,\"ticks\":\"\"}}}],\"histogram\":[{\"marker\":{\"pattern\":{\"fillmode\":\"overlay\",\"size\":10,\"solidity\":0.2}},\"type\":\"histogram\"}],\"scattergl\":[{\"type\":\"scattergl\",\"marker\":{\"colorbar\":{\"outlinewidth\":0,\"ticks\":\"\"}}}],\"scatter3d\":[{\"type\":\"scatter3d\",\"line\":{\"colorbar\":{\"outlinewidth\":0,\"ticks\":\"\"}},\"marker\":{\"colorbar\":{\"outlinewidth\":0,\"ticks\":\"\"}}}],\"scattermapbox\":[{\"type\":\"scattermapbox\",\"marker\":{\"colorbar\":{\"outlinewidth\":0,\"ticks\":\"\"}}}],\"scatterternary\":[{\"type\":\"scatterternary\",\"marker\":{\"colorbar\":{\"outlinewidth\":0,\"ticks\":\"\"}}}],\"scattercarpet\":[{\"type\":\"scattercarpet\",\"marker\":{\"colorbar\":{\"outlinewidth\":0,\"ticks\":\"\"}}}],\"carpet\":[{\"aaxis\":{\"endlinecolor\":\"#2a3f5f\",\"gridcolor\":\"white\",\"linecolor\":\"white\",\"minorgridcolor\":\"white\",\"startlinecolor\":\"#2a3f5f\"},\"baxis\":{\"endlinecolor\":\"#2a3f5f\",\"gridcolor\":\"white\",\"linecolor\":\"white\",\"minorgridcolor\":\"white\",\"startlinecolor\":\"#2a3f5f\"},\"type\":\"carpet\"}],\"table\":[{\"cells\":{\"fill\":{\"color\":\"#EBF0F8\"},\"line\":{\"color\":\"white\"}},\"header\":{\"fill\":{\"color\":\"#C8D4E3\"},\"line\":{\"color\":\"white\"}},\"type\":\"table\"}],\"barpolar\":[{\"marker\":{\"line\":{\"color\":\"#E5ECF6\",\"width\":0.5},\"pattern\":{\"fillmode\":\"overlay\",\"size\":10,\"solidity\":0.2}},\"type\":\"barpolar\"}],\"pie\":[{\"automargin\":true,\"type\":\"pie\"}]},\"layout\":{\"autotypenumbers\":\"strict\",\"colorway\":[\"#636efa\",\"#EF553B\",\"#00cc96\",\"#ab63fa\",\"#FFA15A\",\"#19d3f3\",\"#FF6692\",\"#B6E880\",\"#FF97FF\",\"#FECB52\"],\"font\":{\"color\":\"#2a3f5f\"},\"hovermode\":\"closest\",\"hoverlabel\":{\"align\":\"left\"},\"paper_bgcolor\":\"white\",\"plot_bgcolor\":\"#E5ECF6\",\"polar\":{\"bgcolor\":\"#E5ECF6\",\"angularaxis\":{\"gridcolor\":\"white\",\"linecolor\":\"white\",\"ticks\":\"\"},\"radialaxis\":{\"gridcolor\":\"white\",\"linecolor\":\"white\",\"ticks\":\"\"}},\"ternary\":{\"bgcolor\":\"#E5ECF6\",\"aaxis\":{\"gridcolor\":\"white\",\"linecolor\":\"white\",\"ticks\":\"\"},\"baxis\":{\"gridcolor\":\"white\",\"linecolor\":\"white\",\"ticks\":\"\"},\"caxis\":{\"gridcolor\":\"white\",\"linecolor\":\"white\",\"ticks\":\"\"}},\"coloraxis\":{\"colorbar\":{\"outlinewidth\":0,\"ticks\":\"\"}},\"colorscale\":{\"sequential\":[[0.0,\"#0d0887\"],[0.1111111111111111,\"#46039f\"],[0.2222222222222222,\"#7201a8\"],[0.3333333333333333,\"#9c179e\"],[0.4444444444444444,\"#bd3786\"],[0.5555555555555556,\"#d8576b\"],[0.6666666666666666,\"#ed7953\"],[0.7777777777777778,\"#fb9f3a\"],[0.8888888888888888,\"#fdca26\"],[1.0,\"#f0f921\"]],\"sequentialminus\":[[0.0,\"#0d0887\"],[0.1111111111111111,\"#46039f\"],[0.2222222222222222,\"#7201a8\"],[0.3333333333333333,\"#9c179e\"],[0.4444444444444444,\"#bd3786\"],[0.5555555555555556,\"#d8576b\"],[0.6666666666666666,\"#ed7953\"],[0.7777777777777778,\"#fb9f3a\"],[0.8888888888888888,\"#fdca26\"],[1.0,\"#f0f921\"]],\"diverging\":[[0,\"#8e0152\"],[0.1,\"#c51b7d\"],[0.2,\"#de77ae\"],[0.3,\"#f1b6da\"],[0.4,\"#fde0ef\"],[0.5,\"#f7f7f7\"],[0.6,\"#e6f5d0\"],[0.7,\"#b8e186\"],[0.8,\"#7fbc41\"],[0.9,\"#4d9221\"],[1,\"#276419\"]]},\"xaxis\":{\"gridcolor\":\"white\",\"linecolor\":\"white\",\"ticks\":\"\",\"title\":{\"standoff\":15},\"zerolinecolor\":\"white\",\"automargin\":true,\"zerolinewidth\":2},\"yaxis\":{\"gridcolor\":\"white\",\"linecolor\":\"white\",\"ticks\":\"\",\"title\":{\"standoff\":15},\"zerolinecolor\":\"white\",\"automargin\":true,\"zerolinewidth\":2},\"scene\":{\"xaxis\":{\"backgroundcolor\":\"#E5ECF6\",\"gridcolor\":\"white\",\"linecolor\":\"white\",\"showbackground\":true,\"ticks\":\"\",\"zerolinecolor\":\"white\",\"gridwidth\":2},\"yaxis\":{\"backgroundcolor\":\"#E5ECF6\",\"gridcolor\":\"white\",\"linecolor\":\"white\",\"showbackground\":true,\"ticks\":\"\",\"zerolinecolor\":\"white\",\"gridwidth\":2},\"zaxis\":{\"backgroundcolor\":\"#E5ECF6\",\"gridcolor\":\"white\",\"linecolor\":\"white\",\"showbackground\":true,\"ticks\":\"\",\"zerolinecolor\":\"white\",\"gridwidth\":2}},\"shapedefaults\":{\"line\":{\"color\":\"#2a3f5f\"}},\"annotationdefaults\":{\"arrowcolor\":\"#2a3f5f\",\"arrowhead\":0,\"arrowwidth\":1},\"geo\":{\"bgcolor\":\"white\",\"landcolor\":\"#E5ECF6\",\"subunitcolor\":\"white\",\"showland\":true,\"showlakes\":true,\"lakecolor\":\"white\"},\"title\":{\"x\":0.05},\"mapbox\":{\"style\":\"light\"}}},\"xaxis\":{\"anchor\":\"y\",\"domain\":[0.0,0.98],\"title\":{\"text\":\"Count\"}},\"yaxis\":{\"anchor\":\"x\",\"domain\":[0.0,0.17600000000000002],\"title\":{\"text\":\"Severity\"},\"categoryorder\":\"array\",\"categoryarray\":[\"Severe\",\"Moderate\",\"Normal\\u002fMild\"]},\"xaxis2\":{\"anchor\":\"y2\",\"domain\":[0.0,0.98],\"matches\":\"x\",\"showticklabels\":false},\"yaxis2\":{\"anchor\":\"x2\",\"domain\":[0.20600000000000002,0.382],\"matches\":\"y\",\"title\":{\"text\":\"Severity\"},\"categoryorder\":\"array\",\"categoryarray\":[\"Severe\",\"Moderate\",\"Normal\\u002fMild\"]},\"xaxis3\":{\"anchor\":\"y3\",\"domain\":[0.0,0.98],\"matches\":\"x\",\"showticklabels\":false},\"yaxis3\":{\"anchor\":\"x3\",\"domain\":[0.41200000000000003,0.5880000000000001],\"matches\":\"y\",\"title\":{\"text\":\"Severity\"},\"categoryorder\":\"array\",\"categoryarray\":[\"Severe\",\"Moderate\",\"Normal\\u002fMild\"]},\"xaxis4\":{\"anchor\":\"y4\",\"domain\":[0.0,0.98],\"matches\":\"x\",\"showticklabels\":false},\"yaxis4\":{\"anchor\":\"x4\",\"domain\":[0.618,0.794],\"matches\":\"y\",\"title\":{\"text\":\"Severity\"},\"categoryorder\":\"array\",\"categoryarray\":[\"Severe\",\"Moderate\",\"Normal\\u002fMild\"]},\"xaxis5\":{\"anchor\":\"y5\",\"domain\":[0.0,0.98],\"matches\":\"x\",\"showticklabels\":false},\"yaxis5\":{\"anchor\":\"x5\",\"domain\":[0.8240000000000001,1.0],\"matches\":\"y\",\"title\":{\"text\":\"Severity\"},\"categoryorder\":\"array\",\"categoryarray\":[\"Severe\",\"Moderate\",\"Normal\\u002fMild\"]},\"annotations\":[{\"font\":{},\"showarrow\":false,\"text\":\"level=l5_s1\",\"textangle\":90,\"x\":0.98,\"xanchor\":\"left\",\"xref\":\"paper\",\"y\":0.08800000000000001,\"yanchor\":\"middle\",\"yref\":\"paper\"},{\"font\":{},\"showarrow\":false,\"text\":\"level=l4_l5\",\"textangle\":90,\"x\":0.98,\"xanchor\":\"left\",\"xref\":\"paper\",\"y\":0.29400000000000004,\"yanchor\":\"middle\",\"yref\":\"paper\"},{\"font\":{},\"showarrow\":false,\"text\":\"level=l3_l4\",\"textangle\":90,\"x\":0.98,\"xanchor\":\"left\",\"xref\":\"paper\",\"y\":0.5,\"yanchor\":\"middle\",\"yref\":\"paper\"},{\"font\":{},\"showarrow\":false,\"text\":\"level=l2_l3\",\"textangle\":90,\"x\":0.98,\"xanchor\":\"left\",\"xref\":\"paper\",\"y\":0.706,\"yanchor\":\"middle\",\"yref\":\"paper\"},{\"font\":{},\"showarrow\":false,\"text\":\"level=l1_l2\",\"textangle\":90,\"x\":0.98,\"xanchor\":\"left\",\"xref\":\"paper\",\"y\":0.912,\"yanchor\":\"middle\",\"yref\":\"paper\"}],\"legend\":{\"title\":{\"text\":\"Severity\"},\"tracegroupgap\":0,\"orientation\":\"h\",\"yanchor\":\"top\",\"y\":-0.2,\"xanchor\":\"center\",\"x\":0.5},\"title\":{\"text\":\"Spinal Canal Stenosis Counts on Levels\",\"pad\":{\"b\":20},\"x\":0.5,\"xanchor\":\"center\",\"y\":0.95,\"yanchor\":\"top\"},\"barmode\":\"group\"},                        {\"responsive\": true}                    ).then(function(){\n",
       "                            \n",
       "var gd = document.getElementById('3ec99f0c-e1f4-480d-b44f-949ae67f03d5');\n",
       "var x = new MutationObserver(function (mutations, observer) {{\n",
       "        var display = window.getComputedStyle(gd).display;\n",
       "        if (!display || display === 'none') {{\n",
       "            console.log([gd, 'removed!']);\n",
       "            Plotly.purge(gd);\n",
       "            observer.disconnect();\n",
       "        }}\n",
       "}});\n",
       "\n",
       "// Listen for the removal of the full notebook cells\n",
       "var notebookContainer = gd.closest('#notebook-container');\n",
       "if (notebookContainer) {{\n",
       "    x.observe(notebookContainer, {childList: true});\n",
       "}}\n",
       "\n",
       "// Listen for the clearing of the current output cell\n",
       "var outputEl = gd.closest('.output');\n",
       "if (outputEl) {{\n",
       "    x.observe(outputEl, {childList: true});\n",
       "}}\n",
       "\n",
       "                        })                };                });            </script>        </div>"
      ]
     },
     "metadata": {},
     "output_type": "display_data"
    }
   ],
   "source": [
    "color_map = {\n",
    "    'Normal/Mild': 'blue',\n",
    "    'Moderate': 'orange',\n",
    "    'Severe': 'red'\n",
    "}\n",
    "\n",
    "# 막대 그래프 생성\n",
    "fig = px.bar(\n",
    "    df_train_spinal_canal_stenosis_counts, \n",
    "    x='count', \n",
    "    y='spinal_canal_stenosis', \n",
    "    color='spinal_canal_stenosis',  # 색상 기준을 spinal_canal_stenosis로 설정\n",
    "    facet_row='level',  # 각 level에 대해 가로로 정렬\n",
    "    color_discrete_map=color_map,  # `spinal_canal_stenosis`에 따라 색상 매핑\n",
    "    labels={'count':'Count', 'spinal_canal_stenosis':'Severity'},\n",
    "    title='Spinal Canal Stenosis Counts on Levels'\n",
    ")\n",
    "\n",
    "# 그래프 레이아웃 조정\n",
    "fig.update_layout(barmode='group',\n",
    "                  legend=dict(\n",
    "                    orientation=\"h\",  # 범례를 수평으로 배치\n",
    "                    yanchor=\"top\",  # 범례의 기준을 상단에 맞춤\n",
    "                    y=-0.2,  # Y축 위치 조정 (그래프의 아래쪽)\n",
    "                    xanchor=\"center\",  # 범례의 기준을 가운데에 맞춤\n",
    "                    x=0.5)  # X축 위치 조정 (그래프의 가운데) \n",
    "                  ,title={\n",
    "                    'x': 0.5,  # 제목을 그래프의 가로 중앙으로 설정\n",
    "                    'xanchor': 'center',  # 제목을 중앙에 맞춤\n",
    "                    'y': 0.95,  # 제목의 세로 위치 (그래프의 상단과 가까운 위치)\n",
    "                    'yanchor': 'top',  # 제목의 상단을 기준으로 설정\n",
    "                    'pad': {'b': 20}  # 제목과 그래프 사이의 거리 설정 (아래쪽 마진)\n",
    "                  })\n",
    "\n",
    "fig.show()"
   ]
  },
  {
   "cell_type": "code",
   "execution_count": null,
   "id": "dfcf76b5-70d3-4a07-a0cf-fcdbcb207290",
   "metadata": {},
   "outputs": [],
   "source": []
  }
 ],
 "metadata": {
  "kernelspec": {
   "display_name": "Python 3 (ipykernel)",
   "language": "python",
   "name": "python3"
  },
  "language_info": {
   "codemirror_mode": {
    "name": "ipython",
    "version": 3
   },
   "file_extension": ".py",
   "mimetype": "text/x-python",
   "name": "python",
   "nbconvert_exporter": "python",
   "pygments_lexer": "ipython3",
   "version": "3.11.7"
  }
 },
 "nbformat": 4,
 "nbformat_minor": 5
}
